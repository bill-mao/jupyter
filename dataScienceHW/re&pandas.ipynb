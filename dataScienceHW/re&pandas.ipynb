{
 "cells": [
  {
   "cell_type": "code",
   "execution_count": 81,
   "metadata": {
    "scrolled": true
   },
   "outputs": [
    {
     "name": "stdout",
     "output_type": "stream",
     "text": [
      "[a]\n",
      "a\n"
     ]
    }
   ],
   "source": [
    "import re\n",
    "ma = re.match(r'\\[[\\w]\\]','[a]')   #\\[   \\] 要匹配[当是是a-zA-Z0-9] ,例：[a]\n",
    "print ma.group()\n",
    "ma = re.match(r'[\\w]','a')\n",
    "print ma.group()"
   ]
  },
  {
   "cell_type": "code",
   "execution_count": 18,
   "metadata": {},
   "outputs": [
    {
     "data": {
      "text/plain": [
       "['cat', 'cat', 'cat', 'cat', 'cat']"
      ]
     },
     "execution_count": 18,
     "metadata": {},
     "output_type": "execute_result"
    }
   ],
   "source": [
    "re.findall(r'cat', 'dog cat dog cat cat1 catcat')"
   ]
  },
  {
   "cell_type": "code",
   "execution_count": 83,
   "metadata": {},
   "outputs": [
    {
     "name": "stdout",
     "output_type": "stream",
     "text": [
      "   !!.,.!!123a/456_b/789c.123a\n",
      "['123a', '456_b', '789c', '123a']\n",
      "['123a', '456_b', '789c', '123a']\n"
     ]
    }
   ],
   "source": [
    "import re\n",
    "\n",
    "quickbrownfox = \"A quick brown fox jumps over the lazy dog.\"\n",
    "split_regex = r'\\W+'\n",
    "\n",
    "# T之前废了那么大的劲来做这个，没想到还有findall () 这么一个简单的方法\n",
    "def simple_tokenize(string):\n",
    "    string= string.lower()\n",
    "    string = string.strip('\\s')\n",
    "    #print string\n",
    "    p = re.compile(split_regex,re.I) #根据空格或者数字拆分字符串\n",
    "    out=p.split(string)\n",
    "    if(out[0] == ''):\n",
    "        del out[0]\n",
    "    return out\n",
    "\n",
    "\n",
    "def simple_tokenize2(string):\n",
    "    string= string.lower()\n",
    "    return re.findall(r'\\w+' , string)\n",
    "\n",
    "print simple_tokenize(\"   !!.,.!!123A/456_B/789C.123A\")\n",
    "\n",
    "print simple_tokenize2(\"   !!.,.!!123A/456_B/789C.123A\")"
   ]
  },
  {
   "cell_type": "code",
   "execution_count": null,
   "metadata": {
    "collapsed": true
   },
   "outputs": [],
   "source": []
  },
  {
   "cell_type": "code",
   "execution_count": 11,
   "metadata": {
    "collapsed": true
   },
   "outputs": [],
   "source": [
    "from pylab import *\n",
    "%matplotlib inline\n",
    "import pandas as pd\n",
    "df = pd.DataFrame( { 'a' : [1, 2, 3, 4], 'b': [ 'w', 'x', 'y', 'z'] })"
   ]
  },
  {
   "cell_type": "code",
   "execution_count": 12,
   "metadata": {},
   "outputs": [
    {
     "name": "stdout",
     "output_type": "stream",
     "text": [
      "<class 'pandas.core.frame.DataFrame'>\n",
      "Int64Index: 4 entries, 0 to 3\n",
      "Data columns (total 2 columns):\n",
      "a    4 non-null int64\n",
      "b    4 non-null object\n",
      "dtypes: int64(1), object(1)\n",
      "memory usage: 96.0 bytes\n"
     ]
    }
   ],
   "source": [
    "df.info()"
   ]
  },
  {
   "cell_type": "code",
   "execution_count": 10,
   "metadata": {},
   "outputs": [
    {
     "data": {
      "text/html": [
       "<div style=\"max-height:1000px;max-width:1500px;overflow:auto;\">\n",
       "<table border=\"1\" class=\"dataframe\">\n",
       "  <thead>\n",
       "    <tr style=\"text-align: right;\">\n",
       "      <th></th>\n",
       "      <th>a</th>\n",
       "      <th>b</th>\n",
       "    </tr>\n",
       "  </thead>\n",
       "  <tbody>\n",
       "    <tr>\n",
       "      <th>1</th>\n",
       "      <td> 2</td>\n",
       "      <td> x</td>\n",
       "    </tr>\n",
       "    <tr>\n",
       "      <th>2</th>\n",
       "      <td> 3</td>\n",
       "      <td> y</td>\n",
       "    </tr>\n",
       "  </tbody>\n",
       "</table>\n",
       "</div>"
      ],
      "text/plain": [
       "   a  b\n",
       "1  2  x\n",
       "2  3  y"
      ]
     },
     "execution_count": 10,
     "metadata": {},
     "output_type": "execute_result"
    }
   ],
   "source": [
    "df[1:3]"
   ]
  },
  {
   "cell_type": "code",
   "execution_count": 11,
   "metadata": {},
   "outputs": [
    {
     "data": {
      "text/html": [
       "<div style=\"max-height:1000px;max-width:1500px;overflow:auto;\">\n",
       "<table border=\"1\" class=\"dataframe\">\n",
       "  <thead>\n",
       "    <tr style=\"text-align: right;\">\n",
       "      <th></th>\n",
       "      <th>a</th>\n",
       "    </tr>\n",
       "  </thead>\n",
       "  <tbody>\n",
       "    <tr>\n",
       "      <th>count</th>\n",
       "      <td> 4.000000</td>\n",
       "    </tr>\n",
       "    <tr>\n",
       "      <th>mean</th>\n",
       "      <td> 2.500000</td>\n",
       "    </tr>\n",
       "    <tr>\n",
       "      <th>std</th>\n",
       "      <td> 1.290994</td>\n",
       "    </tr>\n",
       "    <tr>\n",
       "      <th>min</th>\n",
       "      <td> 1.000000</td>\n",
       "    </tr>\n",
       "    <tr>\n",
       "      <th>25%</th>\n",
       "      <td> 1.750000</td>\n",
       "    </tr>\n",
       "    <tr>\n",
       "      <th>50%</th>\n",
       "      <td> 2.500000</td>\n",
       "    </tr>\n",
       "    <tr>\n",
       "      <th>75%</th>\n",
       "      <td> 3.250000</td>\n",
       "    </tr>\n",
       "    <tr>\n",
       "      <th>max</th>\n",
       "      <td> 4.000000</td>\n",
       "    </tr>\n",
       "  </tbody>\n",
       "</table>\n",
       "</div>"
      ],
      "text/plain": [
       "              a\n",
       "count  4.000000\n",
       "mean   2.500000\n",
       "std    1.290994\n",
       "min    1.000000\n",
       "25%    1.750000\n",
       "50%    2.500000\n",
       "75%    3.250000\n",
       "max    4.000000"
      ]
     },
     "execution_count": 11,
     "metadata": {},
     "output_type": "execute_result"
    }
   ],
   "source": [
    "df.describe()"
   ]
  },
  {
   "cell_type": "code",
   "execution_count": 13,
   "metadata": {},
   "outputs": [],
   "source": [
    "log_df = pd.read_csv(\"/home/bill/dataScience/wc_day6_1_sample.csv\",\n",
    "                     names=['ClientID', 'Date', 'Time', 'URL', 'ResponseCode', 'Size'],\n",
    "                     na_values=['-'])"
   ]
  },
  {
   "cell_type": "code",
   "execution_count": 16,
   "metadata": {},
   "outputs": [
    {
     "name": "stdout",
     "output_type": "stream",
     "text": [
      "<class 'pandas.core.frame.DataFrame'>\n",
      "Int64Index: 200000 entries, 0 to 199999\n",
      "Data columns (total 6 columns):\n",
      "ClientID        200000 non-null int64\n",
      "Date            200000 non-null object\n",
      "Time            200000 non-null object\n",
      "URL             200000 non-null object\n",
      "ResponseCode    199997 non-null float64\n",
      "Size            191333 non-null float64\n",
      "dtypes: float64(2), int64(1), object(3)\n",
      "memory usage: 10.7 MB\n"
     ]
    }
   ],
   "source": [
    "log_df.info()"
   ]
  },
  {
   "cell_type": "code",
   "execution_count": 18,
   "metadata": {
    "scrolled": true
   },
   "outputs": [
    {
     "data": {
      "text/html": [
       "<div style=\"max-height:1000px;max-width:1500px;overflow:auto;\">\n",
       "<table border=\"1\" class=\"dataframe\">\n",
       "  <thead>\n",
       "    <tr style=\"text-align: right;\">\n",
       "      <th></th>\n",
       "      <th>ClientID</th>\n",
       "      <th>Date</th>\n",
       "      <th>Time</th>\n",
       "      <th>URL</th>\n",
       "      <th>ResponseCode</th>\n",
       "      <th>Size</th>\n",
       "    </tr>\n",
       "  </thead>\n",
       "  <tbody>\n",
       "    <tr>\n",
       "      <th>85</th>\n",
       "      <td> 13325</td>\n",
       "      <td> 01/May/1998</td>\n",
       "      <td> 14:37:02</td>\n",
       "      <td>                        /english/nav_top_inet.html</td>\n",
       "      <td> 200</td>\n",
       "      <td>   374</td>\n",
       "    </tr>\n",
       "    <tr>\n",
       "      <th>86</th>\n",
       "      <td> 13401</td>\n",
       "      <td> 01/May/1998</td>\n",
       "      <td> 14:45:00</td>\n",
       "      <td>                           /images/teams_hm_bg.jpg</td>\n",
       "      <td> 200</td>\n",
       "      <td> 18794</td>\n",
       "    </tr>\n",
       "    <tr>\n",
       "      <th>87</th>\n",
       "      <td> 13447</td>\n",
       "      <td> 01/May/1998</td>\n",
       "      <td> 14:43:47</td>\n",
       "      <td>                       /images/home_eng_phrase.gif</td>\n",
       "      <td> 200</td>\n",
       "      <td>  2861</td>\n",
       "    </tr>\n",
       "    <tr>\n",
       "      <th>88</th>\n",
       "      <td> 13578</td>\n",
       "      <td> 01/May/1998</td>\n",
       "      <td> 20:57:48</td>\n",
       "      <td>            /english/images/news_btn_press_off.gif</td>\n",
       "      <td> 200</td>\n",
       "      <td>  1740</td>\n",
       "    </tr>\n",
       "    <tr>\n",
       "      <th>89</th>\n",
       "      <td> 14179</td>\n",
       "      <td> 01/May/1998</td>\n",
       "      <td> 15:25:11</td>\n",
       "      <td> /english/venues/cities/images/denis/18collect.gif</td>\n",
       "      <td> 200</td>\n",
       "      <td>   729</td>\n",
       "    </tr>\n",
       "    <tr>\n",
       "      <th>90</th>\n",
       "      <td> 14641</td>\n",
       "      <td> 01/May/1998</td>\n",
       "      <td> 15:50:26</td>\n",
       "      <td>                              /images/cal_nant.gif</td>\n",
       "      <td> 200</td>\n",
       "      <td>   359</td>\n",
       "    </tr>\n",
       "  </tbody>\n",
       "</table>\n",
       "</div>"
      ],
      "text/plain": [
       "    ClientID         Date      Time  \\\n",
       "85     13325  01/May/1998  14:37:02   \n",
       "86     13401  01/May/1998  14:45:00   \n",
       "87     13447  01/May/1998  14:43:47   \n",
       "88     13578  01/May/1998  20:57:48   \n",
       "89     14179  01/May/1998  15:25:11   \n",
       "90     14641  01/May/1998  15:50:26   \n",
       "\n",
       "                                                  URL  ResponseCode   Size  \n",
       "85                         /english/nav_top_inet.html           200    374  \n",
       "86                            /images/teams_hm_bg.jpg           200  18794  \n",
       "87                        /images/home_eng_phrase.gif           200   2861  \n",
       "88             /english/images/news_btn_press_off.gif           200   1740  \n",
       "89  /english/venues/cities/images/denis/18collect.gif           200    729  \n",
       "90                               /images/cal_nant.gif           200    359  "
      ]
     },
     "execution_count": 18,
     "metadata": {},
     "output_type": "execute_result"
    }
   ],
   "source": [
    "log_df[85:91]"
   ]
  },
  {
   "cell_type": "code",
   "execution_count": 19,
   "metadata": {
    "scrolled": true
   },
   "outputs": [
    {
     "data": {
      "text/html": [
       "<div style=\"max-height:1000px;max-width:1500px;overflow:auto;\">\n",
       "<table border=\"1\" class=\"dataframe\">\n",
       "  <thead>\n",
       "    <tr style=\"text-align: right;\">\n",
       "      <th></th>\n",
       "      <th>ClientID</th>\n",
       "      <th>Date</th>\n",
       "      <th>Time</th>\n",
       "      <th>URL</th>\n",
       "      <th>ResponseCode</th>\n",
       "      <th>Size</th>\n",
       "    </tr>\n",
       "  </thead>\n",
       "  <tbody>\n",
       "    <tr>\n",
       "      <th>1</th>\n",
       "      <td> 10871</td>\n",
       "      <td> 01/May/1998</td>\n",
       "      <td> 12:10:53</td>\n",
       "      <td>                     /images/ligne.gif</td>\n",
       "      <td> 200</td>\n",
       "      <td>   169</td>\n",
       "    </tr>\n",
       "    <tr>\n",
       "      <th>2</th>\n",
       "      <td> 11012</td>\n",
       "      <td> 01/May/1998</td>\n",
       "      <td> 12:17:30</td>\n",
       "      <td> /english/individuals/player111503.htm</td>\n",
       "      <td> 200</td>\n",
       "      <td>  7027</td>\n",
       "    </tr>\n",
       "    <tr>\n",
       "      <th>3</th>\n",
       "      <td> 11435</td>\n",
       "      <td> 01/May/1998</td>\n",
       "      <td> 13:15:13</td>\n",
       "      <td>                  /french/frntpage.htm</td>\n",
       "      <td> 304</td>\n",
       "      <td>     0</td>\n",
       "    </tr>\n",
       "    <tr>\n",
       "      <th>4</th>\n",
       "      <td> 12128</td>\n",
       "      <td> 01/May/1998</td>\n",
       "      <td> 13:30:21</td>\n",
       "      <td>   /english/images/nav_sitemap_off.gif</td>\n",
       "      <td> 304</td>\n",
       "      <td>   NaN</td>\n",
       "    </tr>\n",
       "    <tr>\n",
       "      <th>5</th>\n",
       "      <td> 13649</td>\n",
       "      <td> 01/May/1998</td>\n",
       "      <td> 14:55:01</td>\n",
       "      <td>                /images/hm_anime_e.gif</td>\n",
       "      <td> 200</td>\n",
       "      <td> 15609</td>\n",
       "    </tr>\n",
       "  </tbody>\n",
       "</table>\n",
       "</div>"
      ],
      "text/plain": [
       "   ClientID         Date      Time                                    URL  \\\n",
       "1     10871  01/May/1998  12:10:53                      /images/ligne.gif   \n",
       "2     11012  01/May/1998  12:17:30  /english/individuals/player111503.htm   \n",
       "3     11435  01/May/1998  13:15:13                   /french/frntpage.htm   \n",
       "4     12128  01/May/1998  13:30:21    /english/images/nav_sitemap_off.gif   \n",
       "5     13649  01/May/1998  14:55:01                 /images/hm_anime_e.gif   \n",
       "\n",
       "   ResponseCode   Size  \n",
       "1           200    169  \n",
       "2           200   7027  \n",
       "3           304      0  \n",
       "4           304    NaN  \n",
       "5           200  15609  "
      ]
     },
     "execution_count": 19,
     "metadata": {},
     "output_type": "execute_result"
    }
   ],
   "source": [
    "may1_df = log_df[log_df['Date'] == '01/May/1998']\n",
    "may1_df.head()"
   ]
  },
  {
   "cell_type": "code",
   "execution_count": 20,
   "metadata": {},
   "outputs": [
    {
     "data": {
      "text/html": [
       "<div style=\"max-height:1000px;max-width:1500px;overflow:auto;\">\n",
       "<table border=\"1\" class=\"dataframe\">\n",
       "  <thead>\n",
       "    <tr style=\"text-align: right;\">\n",
       "      <th></th>\n",
       "      <th>URL</th>\n",
       "      <th>ResponseCode</th>\n",
       "    </tr>\n",
       "  </thead>\n",
       "  <tbody>\n",
       "    <tr>\n",
       "      <th>0</th>\n",
       "      <td>                     /images/11104.gif</td>\n",
       "      <td> 200</td>\n",
       "    </tr>\n",
       "    <tr>\n",
       "      <th>1</th>\n",
       "      <td>                     /images/ligne.gif</td>\n",
       "      <td> 200</td>\n",
       "    </tr>\n",
       "    <tr>\n",
       "      <th>2</th>\n",
       "      <td> /english/individuals/player111503.htm</td>\n",
       "      <td> 200</td>\n",
       "    </tr>\n",
       "    <tr>\n",
       "      <th>3</th>\n",
       "      <td>                  /french/frntpage.htm</td>\n",
       "      <td> 304</td>\n",
       "    </tr>\n",
       "    <tr>\n",
       "      <th>4</th>\n",
       "      <td>   /english/images/nav_sitemap_off.gif</td>\n",
       "      <td> 304</td>\n",
       "    </tr>\n",
       "  </tbody>\n",
       "</table>\n",
       "</div>"
      ],
      "text/plain": [
       "                                     URL  ResponseCode\n",
       "0                      /images/11104.gif           200\n",
       "1                      /images/ligne.gif           200\n",
       "2  /english/individuals/player111503.htm           200\n",
       "3                   /french/frntpage.htm           304\n",
       "4    /english/images/nav_sitemap_off.gif           304"
      ]
     },
     "execution_count": 20,
     "metadata": {},
     "output_type": "execute_result"
    }
   ],
   "source": [
    "url_codes = log_df[['URL', 'ResponseCode']]\n",
    "url_codes.head(5)"
   ]
  },
  {
   "cell_type": "code",
   "execution_count": null,
   "metadata": {
    "collapsed": true
   },
   "outputs": [],
   "source": []
  },
  {
   "cell_type": "code",
   "execution_count": 32,
   "metadata": {
    "scrolled": true
   },
   "outputs": [
    {
     "data": {
      "text/html": [
       "<div style=\"max-height:1000px;max-width:1500px;overflow:auto;\">\n",
       "<table border=\"1\" class=\"dataframe\">\n",
       "  <thead>\n",
       "    <tr style=\"text-align: right;\">\n",
       "      <th></th>\n",
       "      <th></th>\n",
       "      <th></th>\n",
       "      <th>ClientID</th>\n",
       "      <th>Size</th>\n",
       "    </tr>\n",
       "    <tr>\n",
       "      <th>ResponseCode</th>\n",
       "      <th>Date</th>\n",
       "      <th></th>\n",
       "      <th></th>\n",
       "      <th></th>\n",
       "    </tr>\n",
       "  </thead>\n",
       "  <tbody>\n",
       "    <tr>\n",
       "      <th rowspan=\"16\" valign=\"top\">200</th>\n",
       "      <th rowspan=\"8\" valign=\"top\">01/May/1998</th>\n",
       "      <th>count</th>\n",
       "      <td> 159347.000000</td>\n",
       "      <td>  159347.000000</td>\n",
       "    </tr>\n",
       "    <tr>\n",
       "      <th>mean</th>\n",
       "      <td>  10847.304756</td>\n",
       "      <td>    8541.691114</td>\n",
       "    </tr>\n",
       "    <tr>\n",
       "      <th>std</th>\n",
       "      <td>   5923.825686</td>\n",
       "      <td>   82955.930507</td>\n",
       "    </tr>\n",
       "    <tr>\n",
       "      <th>min</th>\n",
       "      <td>      5.000000</td>\n",
       "      <td>      42.000000</td>\n",
       "    </tr>\n",
       "    <tr>\n",
       "      <th>25%</th>\n",
       "      <td>   5907.000000</td>\n",
       "      <td>     333.000000</td>\n",
       "    </tr>\n",
       "    <tr>\n",
       "      <th>50%</th>\n",
       "      <td>  10923.000000</td>\n",
       "      <td>     937.000000</td>\n",
       "    </tr>\n",
       "    <tr>\n",
       "      <th>75%</th>\n",
       "      <td>  15628.000000</td>\n",
       "      <td>    2843.000000</td>\n",
       "    </tr>\n",
       "    <tr>\n",
       "      <th>max</th>\n",
       "      <td>  34794.000000</td>\n",
       "      <td> 2891887.000000</td>\n",
       "    </tr>\n",
       "    <tr>\n",
       "      <th rowspan=\"8\" valign=\"top\">30/Apr/1998</th>\n",
       "      <th>count</th>\n",
       "      <td>  14577.000000</td>\n",
       "      <td>   14577.000000</td>\n",
       "    </tr>\n",
       "    <tr>\n",
       "      <th>mean</th>\n",
       "      <td>   1298.500583</td>\n",
       "      <td>    7348.920834</td>\n",
       "    </tr>\n",
       "    <tr>\n",
       "      <th>std</th>\n",
       "      <td>   2709.072518</td>\n",
       "      <td>   70241.519291</td>\n",
       "    </tr>\n",
       "    <tr>\n",
       "      <th>min</th>\n",
       "      <td>      0.000000</td>\n",
       "      <td>      42.000000</td>\n",
       "    </tr>\n",
       "    <tr>\n",
       "      <th>25%</th>\n",
       "      <td>    550.000000</td>\n",
       "      <td>     327.000000</td>\n",
       "    </tr>\n",
       "    <tr>\n",
       "      <th>50%</th>\n",
       "      <td>   1095.000000</td>\n",
       "      <td>     934.000000</td>\n",
       "    </tr>\n",
       "    <tr>\n",
       "      <th>75%</th>\n",
       "      <td>   1611.000000</td>\n",
       "      <td>    2861.000000</td>\n",
       "    </tr>\n",
       "    <tr>\n",
       "      <th>max</th>\n",
       "      <td>  34770.000000</td>\n",
       "      <td> 2100714.000000</td>\n",
       "    </tr>\n",
       "    <tr>\n",
       "      <th rowspan=\"14\" valign=\"top\">206</th>\n",
       "      <th rowspan=\"8\" valign=\"top\">01/May/1998</th>\n",
       "      <th>count</th>\n",
       "      <td>    346.000000</td>\n",
       "      <td>     346.000000</td>\n",
       "    </tr>\n",
       "    <tr>\n",
       "      <th>mean</th>\n",
       "      <td>  11308.895954</td>\n",
       "      <td>   96239.950867</td>\n",
       "    </tr>\n",
       "    <tr>\n",
       "      <th>std</th>\n",
       "      <td>   6506.183643</td>\n",
       "      <td>  341296.186671</td>\n",
       "    </tr>\n",
       "    <tr>\n",
       "      <th>min</th>\n",
       "      <td>     49.000000</td>\n",
       "      <td>       6.000000</td>\n",
       "    </tr>\n",
       "    <tr>\n",
       "      <th>25%</th>\n",
       "      <td>   5279.000000</td>\n",
       "      <td>    1414.250000</td>\n",
       "    </tr>\n",
       "    <tr>\n",
       "      <th>50%</th>\n",
       "      <td>  11475.500000</td>\n",
       "      <td>   10125.500000</td>\n",
       "    </tr>\n",
       "    <tr>\n",
       "      <th>75%</th>\n",
       "      <td>  16324.500000</td>\n",
       "      <td>   33018.500000</td>\n",
       "    </tr>\n",
       "    <tr>\n",
       "      <th>max</th>\n",
       "      <td>  34772.000000</td>\n",
       "      <td> 2020644.000000</td>\n",
       "    </tr>\n",
       "    <tr>\n",
       "      <th rowspan=\"6\" valign=\"top\">30/Apr/1998</th>\n",
       "      <th>count</th>\n",
       "      <td>     33.000000</td>\n",
       "      <td>      33.000000</td>\n",
       "    </tr>\n",
       "    <tr>\n",
       "      <th>mean</th>\n",
       "      <td>    935.909091</td>\n",
       "      <td>   20969.484848</td>\n",
       "    </tr>\n",
       "    <tr>\n",
       "      <th>std</th>\n",
       "      <td>    591.658071</td>\n",
       "      <td>   43623.255079</td>\n",
       "    </tr>\n",
       "    <tr>\n",
       "      <th>min</th>\n",
       "      <td>     16.000000</td>\n",
       "      <td>     426.000000</td>\n",
       "    </tr>\n",
       "    <tr>\n",
       "      <th>25%</th>\n",
       "      <td>    551.000000</td>\n",
       "      <td>    1639.000000</td>\n",
       "    </tr>\n",
       "    <tr>\n",
       "      <th>50%</th>\n",
       "      <td>    871.000000</td>\n",
       "      <td>   13629.000000</td>\n",
       "    </tr>\n",
       "    <tr>\n",
       "      <th>...</th>\n",
       "      <th>...</th>\n",
       "      <th>...</th>\n",
       "      <td>...</td>\n",
       "      <td>...</td>\n",
       "    </tr>\n",
       "    <tr>\n",
       "      <th rowspan=\"6\" valign=\"top\">400</th>\n",
       "      <th rowspan=\"6\" valign=\"top\">30/Apr/1998</th>\n",
       "      <th>std</th>\n",
       "      <td>      0.000000</td>\n",
       "      <td>       0.000000</td>\n",
       "    </tr>\n",
       "    <tr>\n",
       "      <th>min</th>\n",
       "      <td>    781.000000</td>\n",
       "      <td>     147.000000</td>\n",
       "    </tr>\n",
       "    <tr>\n",
       "      <th>25%</th>\n",
       "      <td>    781.000000</td>\n",
       "      <td>     147.000000</td>\n",
       "    </tr>\n",
       "    <tr>\n",
       "      <th>50%</th>\n",
       "      <td>    781.000000</td>\n",
       "      <td>     147.000000</td>\n",
       "    </tr>\n",
       "    <tr>\n",
       "      <th>75%</th>\n",
       "      <td>    781.000000</td>\n",
       "      <td>     147.000000</td>\n",
       "    </tr>\n",
       "    <tr>\n",
       "      <th>max</th>\n",
       "      <td>    781.000000</td>\n",
       "      <td>     147.000000</td>\n",
       "    </tr>\n",
       "    <tr>\n",
       "      <th rowspan=\"16\" valign=\"top\">404</th>\n",
       "      <th rowspan=\"8\" valign=\"top\">01/May/1998</th>\n",
       "      <th>count</th>\n",
       "      <td>    198.000000</td>\n",
       "      <td>     198.000000</td>\n",
       "    </tr>\n",
       "    <tr>\n",
       "      <th>mean</th>\n",
       "      <td>   8885.484848</td>\n",
       "      <td>     267.196970</td>\n",
       "    </tr>\n",
       "    <tr>\n",
       "      <th>std</th>\n",
       "      <td>   5117.399234</td>\n",
       "      <td>      63.111107</td>\n",
       "    </tr>\n",
       "    <tr>\n",
       "      <th>min</th>\n",
       "      <td>    130.000000</td>\n",
       "      <td>     207.000000</td>\n",
       "    </tr>\n",
       "    <tr>\n",
       "      <th>25%</th>\n",
       "      <td>   5872.000000</td>\n",
       "      <td>     207.000000</td>\n",
       "    </tr>\n",
       "    <tr>\n",
       "      <th>50%</th>\n",
       "      <td>   7774.000000</td>\n",
       "      <td>     207.000000</td>\n",
       "    </tr>\n",
       "    <tr>\n",
       "      <th>75%</th>\n",
       "      <td>  12558.000000</td>\n",
       "      <td>     334.000000</td>\n",
       "    </tr>\n",
       "    <tr>\n",
       "      <th>max</th>\n",
       "      <td>  20644.000000</td>\n",
       "      <td>     368.000000</td>\n",
       "    </tr>\n",
       "    <tr>\n",
       "      <th rowspan=\"8\" valign=\"top\">30/Apr/1998</th>\n",
       "      <th>count</th>\n",
       "      <td>     17.000000</td>\n",
       "      <td>      17.000000</td>\n",
       "    </tr>\n",
       "    <tr>\n",
       "      <th>mean</th>\n",
       "      <td>   1048.470588</td>\n",
       "      <td>     290.294118</td>\n",
       "    </tr>\n",
       "    <tr>\n",
       "      <th>std</th>\n",
       "      <td>    645.656073</td>\n",
       "      <td>      63.515515</td>\n",
       "    </tr>\n",
       "    <tr>\n",
       "      <th>min</th>\n",
       "      <td>     85.000000</td>\n",
       "      <td>     207.000000</td>\n",
       "    </tr>\n",
       "    <tr>\n",
       "      <th>25%</th>\n",
       "      <td>    426.000000</td>\n",
       "      <td>     207.000000</td>\n",
       "    </tr>\n",
       "    <tr>\n",
       "      <th>50%</th>\n",
       "      <td>   1113.000000</td>\n",
       "      <td>     333.000000</td>\n",
       "    </tr>\n",
       "    <tr>\n",
       "      <th>75%</th>\n",
       "      <td>   1377.000000</td>\n",
       "      <td>     338.000000</td>\n",
       "    </tr>\n",
       "    <tr>\n",
       "      <th>max</th>\n",
       "      <td>   2160.000000</td>\n",
       "      <td>     340.000000</td>\n",
       "    </tr>\n",
       "    <tr>\n",
       "      <th rowspan=\"8\" valign=\"top\">500</th>\n",
       "      <th rowspan=\"8\" valign=\"top\">01/May/1998</th>\n",
       "      <th>count</th>\n",
       "      <td>      5.000000</td>\n",
       "      <td>       5.000000</td>\n",
       "    </tr>\n",
       "    <tr>\n",
       "      <th>mean</th>\n",
       "      <td>  10207.400000</td>\n",
       "      <td>     305.000000</td>\n",
       "    </tr>\n",
       "    <tr>\n",
       "      <th>std</th>\n",
       "      <td>   5023.652685</td>\n",
       "      <td>       0.000000</td>\n",
       "    </tr>\n",
       "    <tr>\n",
       "      <th>min</th>\n",
       "      <td>   7195.000000</td>\n",
       "      <td>     305.000000</td>\n",
       "    </tr>\n",
       "    <tr>\n",
       "      <th>25%</th>\n",
       "      <td>   7195.000000</td>\n",
       "      <td>     305.000000</td>\n",
       "    </tr>\n",
       "    <tr>\n",
       "      <th>50%</th>\n",
       "      <td>   7211.000000</td>\n",
       "      <td>     305.000000</td>\n",
       "    </tr>\n",
       "    <tr>\n",
       "      <th>75%</th>\n",
       "      <td>  10648.000000</td>\n",
       "      <td>     305.000000</td>\n",
       "    </tr>\n",
       "    <tr>\n",
       "      <th>max</th>\n",
       "      <td>  18788.000000</td>\n",
       "      <td>     305.000000</td>\n",
       "    </tr>\n",
       "  </tbody>\n",
       "</table>\n",
       "<p>104 rows × 2 columns</p>\n",
       "</div>"
      ],
      "text/plain": [
       "                                     ClientID            Size\n",
       "ResponseCode Date                                            \n",
       "200          01/May/1998 count  159347.000000   159347.000000\n",
       "                         mean    10847.304756     8541.691114\n",
       "                         std      5923.825686    82955.930507\n",
       "                         min         5.000000       42.000000\n",
       "                         25%      5907.000000      333.000000\n",
       "                         50%     10923.000000      937.000000\n",
       "                         75%     15628.000000     2843.000000\n",
       "                         max     34794.000000  2891887.000000\n",
       "             30/Apr/1998 count   14577.000000    14577.000000\n",
       "                         mean     1298.500583     7348.920834\n",
       "                         std      2709.072518    70241.519291\n",
       "                         min         0.000000       42.000000\n",
       "                         25%       550.000000      327.000000\n",
       "                         50%      1095.000000      934.000000\n",
       "                         75%      1611.000000     2861.000000\n",
       "                         max     34770.000000  2100714.000000\n",
       "206          01/May/1998 count     346.000000      346.000000\n",
       "                         mean    11308.895954    96239.950867\n",
       "                         std      6506.183643   341296.186671\n",
       "                         min        49.000000        6.000000\n",
       "                         25%      5279.000000     1414.250000\n",
       "                         50%     11475.500000    10125.500000\n",
       "                         75%     16324.500000    33018.500000\n",
       "                         max     34772.000000  2020644.000000\n",
       "             30/Apr/1998 count      33.000000       33.000000\n",
       "                         mean      935.909091    20969.484848\n",
       "                         std       591.658071    43623.255079\n",
       "                         min        16.000000      426.000000\n",
       "                         25%       551.000000     1639.000000\n",
       "                         50%       871.000000    13629.000000\n",
       "...                                       ...             ...\n",
       "400          30/Apr/1998 std         0.000000        0.000000\n",
       "                         min       781.000000      147.000000\n",
       "                         25%       781.000000      147.000000\n",
       "                         50%       781.000000      147.000000\n",
       "                         75%       781.000000      147.000000\n",
       "                         max       781.000000      147.000000\n",
       "404          01/May/1998 count     198.000000      198.000000\n",
       "                         mean     8885.484848      267.196970\n",
       "                         std      5117.399234       63.111107\n",
       "                         min       130.000000      207.000000\n",
       "                         25%      5872.000000      207.000000\n",
       "                         50%      7774.000000      207.000000\n",
       "                         75%     12558.000000      334.000000\n",
       "                         max     20644.000000      368.000000\n",
       "             30/Apr/1998 count      17.000000       17.000000\n",
       "                         mean     1048.470588      290.294118\n",
       "                         std       645.656073       63.515515\n",
       "                         min        85.000000      207.000000\n",
       "                         25%       426.000000      207.000000\n",
       "                         50%      1113.000000      333.000000\n",
       "                         75%      1377.000000      338.000000\n",
       "                         max      2160.000000      340.000000\n",
       "500          01/May/1998 count       5.000000        5.000000\n",
       "                         mean    10207.400000      305.000000\n",
       "                         std      5023.652685        0.000000\n",
       "                         min      7195.000000      305.000000\n",
       "                         25%      7195.000000      305.000000\n",
       "                         50%      7211.000000      305.000000\n",
       "                         75%     10648.000000      305.000000\n",
       "                         max     18788.000000      305.000000\n",
       "\n",
       "[104 rows x 2 columns]"
      ]
     },
     "execution_count": 32,
     "metadata": {},
     "output_type": "execute_result"
    }
   ],
   "source": [
    "multi_grouped = log_df.groupby(['ResponseCode','Date'])\n",
    "multi_grouped.ngroups\n",
    "#multi_grouped.groups.keys()\n",
    "multi_grouped.describe()#详细的所有的\n",
    "#multi_grouped.median()#中值\n",
    "#multi_grouped.get_group((206,'01/May/1998')).head()"
   ]
  },
  {
   "cell_type": "code",
   "execution_count": 35,
   "metadata": {},
   "outputs": [
    {
     "data": {
      "text/html": [
       "<div style=\"max-height:1000px;max-width:1500px;overflow:auto;\">\n",
       "<table border=\"1\" class=\"dataframe\">\n",
       "  <thead>\n",
       "    <tr style=\"text-align: right;\">\n",
       "      <th></th>\n",
       "      <th>ClientID</th>\n",
       "      <th>Date</th>\n",
       "      <th>Time</th>\n",
       "      <th>URL</th>\n",
       "      <th>ResponseCode</th>\n",
       "      <th>Size</th>\n",
       "    </tr>\n",
       "  </thead>\n",
       "  <tbody>\n",
       "    <tr>\n",
       "      <th>275 </th>\n",
       "      <td>   384</td>\n",
       "      <td> 30/Apr/1998</td>\n",
       "      <td> 22:15:19</td>\n",
       "      <td> /english/welcoming/suppliers/laposte.html</td>\n",
       "      <td> 404</td>\n",
       "      <td> 327</td>\n",
       "    </tr>\n",
       "    <tr>\n",
       "      <th>1151</th>\n",
       "      <td>  7714</td>\n",
       "      <td> 01/May/1998</td>\n",
       "      <td> 13:36:34</td>\n",
       "      <td>                   /english/news/10095.htm</td>\n",
       "      <td> 404</td>\n",
       "      <td> 329</td>\n",
       "    </tr>\n",
       "    <tr>\n",
       "      <th>1731</th>\n",
       "      <td> 18116</td>\n",
       "      <td> 01/May/1998</td>\n",
       "      <td> 18:53:23</td>\n",
       "      <td>            /images/btn.openpage.white.gif</td>\n",
       "      <td> 404</td>\n",
       "      <td> 337</td>\n",
       "    </tr>\n",
       "    <tr>\n",
       "      <th>1778</th>\n",
       "      <td>  5872</td>\n",
       "      <td> 01/May/1998</td>\n",
       "      <td> 05:40:39</td>\n",
       "      <td>                        /images/inside.gif</td>\n",
       "      <td> 404</td>\n",
       "      <td> 207</td>\n",
       "    </tr>\n",
       "    <tr>\n",
       "      <th>4032</th>\n",
       "      <td> 15461</td>\n",
       "      <td> 01/May/1998</td>\n",
       "      <td> 16:39:11</td>\n",
       "      <td>             /plweb-hp/images/srch_nav.gif</td>\n",
       "      <td> 404</td>\n",
       "      <td> 207</td>\n",
       "    </tr>\n",
       "  </tbody>\n",
       "</table>\n",
       "</div>"
      ],
      "text/plain": [
       "      ClientID         Date      Time  \\\n",
       "275        384  30/Apr/1998  22:15:19   \n",
       "1151      7714  01/May/1998  13:36:34   \n",
       "1731     18116  01/May/1998  18:53:23   \n",
       "1778      5872  01/May/1998  05:40:39   \n",
       "4032     15461  01/May/1998  16:39:11   \n",
       "\n",
       "                                            URL  ResponseCode  Size  \n",
       "275   /english/welcoming/suppliers/laposte.html           404   327  \n",
       "1151                    /english/news/10095.htm           404   329  \n",
       "1731             /images/btn.openpage.white.gif           404   337  \n",
       "1778                         /images/inside.gif           404   207  \n",
       "4032              /plweb-hp/images/srch_nav.gif           404   207  "
      ]
     },
     "execution_count": 35,
     "metadata": {},
     "output_type": "execute_result"
    }
   ],
   "source": [
    "log_df[log_df['ResponseCode'] == 404].head()"
   ]
  },
  {
   "cell_type": "code",
   "execution_count": 73,
   "metadata": {},
   "outputs": [
    {
     "data": {
      "text/plain": [
       "ResponseCode  Date       \n",
       "200           01/May/1998    159347\n",
       "              30/Apr/1998     14577\n",
       "206           01/May/1998       346\n",
       "              30/Apr/1998        33\n",
       "302           01/May/1998        13\n",
       "              30/Apr/1998         1\n",
       "304           01/May/1998     23390\n",
       "              30/Apr/1998      2067\n",
       "400           01/May/1998         1\n",
       "              30/Apr/1998         2\n",
       "404           01/May/1998       198\n",
       "              30/Apr/1998        17\n",
       "500           01/May/1998         5\n",
       "dtype: int64"
      ]
     },
     "execution_count": 73,
     "metadata": {},
     "output_type": "execute_result"
    }
   ],
   "source": [
    "#方法一\n",
    "#log404 = log_df[log_df['ResponseCode'] == 404]\n",
    "#pattern = r'30/Apr/*'\n",
    "#len(log404[log404['Date'].str.contains(pattern)])\n",
    "\n",
    "#方法二\n",
    "group404 = log_df.groupby(['ResponseCode' , 'Date'])\n",
    "group404.size()"
   ]
  },
  {
   "cell_type": "code",
   "execution_count": 74,
   "metadata": {
    "collapsed": true
   },
   "outputs": [],
   "source": [
    "log_df['DateTime'] = pd.to_datetime(log_df.apply(lambda row: row['Date'] + ' ' + row['Time'], axis=1))"
   ]
  },
  {
   "cell_type": "code",
   "execution_count": 10,
   "metadata": {
    "scrolled": true
   },
   "outputs": [
    {
     "ename": "NameError",
     "evalue": "name 'log_df' is not defined",
     "output_type": "error",
     "traceback": [
      "\u001b[0;31m---------------------------------------------------------------------------\u001b[0m",
      "\u001b[0;31mNameError\u001b[0m                                 Traceback (most recent call last)",
      "\u001b[0;32m<ipython-input-10-ac915974ed1c>\u001b[0m in \u001b[0;36m<module>\u001b[0;34m()\u001b[0m\n\u001b[0;32m----> 1\u001b[0;31m \u001b[0mhour_grouped\u001b[0m \u001b[0;34m=\u001b[0m \u001b[0mlog_df\u001b[0m\u001b[0;34m.\u001b[0m\u001b[0mgroupby\u001b[0m\u001b[0;34m(\u001b[0m\u001b[0;32mlambda\u001b[0m \u001b[0mrow\u001b[0m\u001b[0;34m:\u001b[0m \u001b[0mlog_df\u001b[0m\u001b[0;34m[\u001b[0m\u001b[0;34m'DateTime'\u001b[0m\u001b[0;34m]\u001b[0m\u001b[0;34m[\u001b[0m\u001b[0mrow\u001b[0m\u001b[0;34m]\u001b[0m\u001b[0;34m.\u001b[0m\u001b[0mhour\u001b[0m\u001b[0;34m)\u001b[0m\u001b[0;34m\u001b[0m\u001b[0m\n\u001b[0m\u001b[1;32m      2\u001b[0m \u001b[0mhour_grouped\u001b[0m\u001b[0;34m.\u001b[0m\u001b[0mngroups\u001b[0m\u001b[0;34m\u001b[0m\u001b[0m\n",
      "\u001b[0;31mNameError\u001b[0m: name 'log_df' is not defined"
     ]
    }
   ],
   "source": [
    "hour_grouped = log_df.groupby(lambda row: log_df['DateTime'][row].hour)\n",
    "hour_grouped.ngroups\n",
    "#output :24 ?   重新运行就得吧之前的再运行一次了"
   ]
  },
  {
   "cell_type": "raw",
   "metadata": {},
   "source": []
  },
  {
   "cell_type": "code",
   "execution_count": 10,
   "metadata": {
    "collapsed": true
   },
   "outputs": [
    {
     "ename": "TypeError",
     "evalue": "'int' object is not iterable",
     "output_type": "error",
     "traceback": [
      "\u001b[1;31m---------------------------------------------------------------------------\u001b[0m",
      "\u001b[1;31mTypeError\u001b[0m                                 Traceback (most recent call last)",
      "\u001b[1;32m<ipython-input-10-30c21e0dbcae>\u001b[0m in \u001b[0;36m<module>\u001b[1;34m()\u001b[0m\n\u001b[0;32m      1\u001b[0m \u001b[1;32mimport\u001b[0m \u001b[0mpandas\u001b[0m \u001b[1;32mas\u001b[0m \u001b[0mpd\u001b[0m\u001b[1;33m\u001b[0m\u001b[0m\n\u001b[0;32m      2\u001b[0m \u001b[1;32mimport\u001b[0m \u001b[0mrandom\u001b[0m\u001b[1;33m\u001b[0m\u001b[0m\n\u001b[1;32m----> 3\u001b[1;33m \u001b[0mb\u001b[0m\u001b[1;33m=\u001b[0m \u001b[0mlist\u001b[0m\u001b[1;33m(\u001b[0m\u001b[1;36m1000\u001b[0m\u001b[1;33m)\u001b[0m\u001b[1;33m\u001b[0m\u001b[0m\n\u001b[0m\u001b[0;32m      4\u001b[0m \u001b[1;32mfor\u001b[0m \u001b[0mi\u001b[0m \u001b[1;32min\u001b[0m \u001b[0mrange\u001b[0m\u001b[1;33m(\u001b[0m\u001b[1;36m1000\u001b[0m\u001b[1;33m)\u001b[0m\u001b[1;33m:\u001b[0m\u001b[1;33m\u001b[0m\u001b[0m\n\u001b[0;32m      5\u001b[0m     \u001b[0mb\u001b[0m\u001b[1;33m[\u001b[0m\u001b[0mi\u001b[0m\u001b[1;33m]\u001b[0m \u001b[1;33m=\u001b[0m \u001b[0mrandom\u001b[0m\u001b[1;33m.\u001b[0m\u001b[0mrandint\u001b[0m\u001b[1;33m(\u001b[0m\u001b[1;36m0\u001b[0m\u001b[1;33m,\u001b[0m\u001b[1;36m100\u001b[0m\u001b[1;33m)\u001b[0m\u001b[1;33m\u001b[0m\u001b[0m\n",
      "\u001b[1;31mTypeError\u001b[0m: 'int' object is not iterable"
     ]
    }
   ],
   "source": [
    "import pandas as pd\n",
    "import random\n",
    "b= list(1000)\n",
    "for i in range(1000):\n",
    "    b[i] = random.randint(0,100)\n",
    "    \n",
    "pd.DataFrame({'b' : b})\n",
    "rand_df = pd.DataFrame({'a' : random.rand(100)})\n",
    "rand_df.dtypes\n",
    "rand_df.plot()\n",
    "rand_df.hist()"
   ]
  },
  {
   "cell_type": "code",
   "execution_count": 53,
   "metadata": {},
   "outputs": [
    {
     "data": {
      "text/plain": [
       "<matplotlib.axes._subplots.AxesSubplot at 0x7f85dd815e10>"
      ]
     },
     "execution_count": 53,
     "metadata": {},
     "output_type": "execute_result"
    },
    {
     "data": {
      "image/png": "[encoded data removed]",
      "text/plain": [
       "<matplotlib.figure.Figure at 0x7f85dbe2ee10>"
      ]
     },
     "metadata": {},
     "output_type": "display_data"
    }
   ],
   "source": [
    "'''rand_df = pd.DataFrame({'a' : randn(100)})\n",
    "rand_df.dtypes\n",
    "rand_df.plot()\n",
    "rand_df.hist()\n",
    "'''\n",
    "\n",
    "log_df.dtypes\n",
    "log_df['Size'].plot()"
   ]
  },
  {
   "cell_type": "code",
   "execution_count": null,
   "metadata": {
    "collapsed": true
   },
   "outputs": [],
   "source": []
  },
  {
   "cell_type": "code",
   "execution_count": null,
   "metadata": {
    "collapsed": true
   },
   "outputs": [],
   "source": []
  }
 ],
 "metadata": {
  "kernelspec": {
   "display_name": "Python 3",
   "language": "python",
   "name": "python3"
  },
  "language_info": {
   "codemirror_mode": {
    "name": "ipython",
    "version": 3
   },
   "file_extension": ".py",
   "mimetype": "text/x-python",
   "name": "python",
   "nbconvert_exporter": "python",
   "pygments_lexer": "ipython3",
   "version": "3.6.5"
  },
  "toc": {
   "base_numbering": 1,
   "nav_menu": {},
   "number_sections": true,
   "sideBar": true,
   "skip_h1_title": false,
   "title_cell": "Table of Contents",
   "title_sidebar": "Contents",
   "toc_cell": false,
   "toc_position": {},
   "toc_section_display": true,
   "toc_window_display": false
  },
  "varInspector": {
   "cols": {
    "lenName": 16,
    "lenType": 16,
    "lenVar": 40
   },
   "kernels_config": {
    "python": {
     "delete_cmd_postfix": "",
     "delete_cmd_prefix": "del ",
     "library": "var_list.py",
     "varRefreshCmd": "print(var_dic_list())"
    },
    "r": {
     "delete_cmd_postfix": ") ",
     "delete_cmd_prefix": "rm(",
     "library": "var_list.r",
     "varRefreshCmd": "cat(var_dic_list()) "
    }
   },
   "types_to_exclude": [
    "module",
    "function",
    "builtin_function_or_method",
    "instance",
    "_Feature"
   ],
   "window_display": false
  }
 },
 "nbformat": 4,
 "nbformat_minor": 1
}
