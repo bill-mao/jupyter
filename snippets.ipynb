{
 "cells": [
  {
   "cell_type": "code",
   "execution_count": null,
   "metadata": {},
   "outputs": [],
   "source": []
  },
  {
   "cell_type": "code",
   "execution_count": 4,
   "metadata": {
    "ExecuteTime": {
     "end_time": "2018-12-21T10:58:56.225739Z",
     "start_time": "2018-12-21T10:58:55.218479Z"
    }
   },
   "outputs": [
    {
     "name": "stdout",
     "output_type": "stream",
     "text": [
      "1.0002641677856445\n"
     ]
    }
   ],
   "source": [
    "import time \n",
    "st = time.time ()\n",
    "time.sleep(1)\n",
    "end = time.time ()\n",
    "print('search cost %f seconds' %(end-st))"
   ]
  },
  {
   "cell_type": "code",
   "execution_count": 1,
   "metadata": {
    "ExecuteTime": {
     "end_time": "2018-12-21T10:09:06.050456Z",
     "start_time": "2018-12-21T10:09:06.041481Z"
    }
   },
   "outputs": [
    {
     "data": {
      "text/plain": [
       "2528502973977326415"
      ]
     },
     "execution_count": 1,
     "metadata": {},
     "output_type": "execute_result"
    }
   ],
   "source": [
    "(1,2,3).__hash__()\n"
   ]
  },
  {
   "cell_type": "code",
   "execution_count": 7,
   "metadata": {
    "ExecuteTime": {
     "end_time": "2018-12-21T10:24:33.436481Z",
     "start_time": "2018-12-21T10:24:33.430497Z"
    }
   },
   "outputs": [
    {
     "name": "stdout",
     "output_type": "stream",
     "text": [
      "2\n"
     ]
    }
   ],
   "source": [
    "class foo:\n",
    "    sta = 2\n",
    "    def __init__(self):\n",
    "        self.general = 3\n",
    "    def print(self):\n",
    "        print(foo.sta)\n",
    "foo().print()"
   ]
  },
  {
   "cell_type": "code",
   "execution_count": 5,
   "metadata": {
    "ExecuteTime": {
     "end_time": "2018-12-21T11:08:11.369617Z",
     "start_time": "2018-12-21T11:08:11.363632Z"
    }
   },
   "outputs": [
    {
     "name": "stdout",
     "output_type": "stream",
     "text": [
      "3 -1\n",
      "7 3\n",
      "11 7\n",
      "15 11\n",
      "19 15\n"
     ]
    }
   ],
   "source": [
    "for i in range(3, 20 ,4):\n",
    "    print(i, i-4)"
   ]
  },
  {
   "cell_type": "code",
   "execution_count": 7,
   "metadata": {
    "ExecuteTime": {
     "end_time": "2018-12-21T11:12:36.984005Z",
     "start_time": "2018-12-21T11:12:36.980978Z"
    }
   },
   "outputs": [],
   "source": [
    "li = [i for i in range(100)]"
   ]
  },
  {
   "cell_type": "code",
   "execution_count": 10,
   "metadata": {
    "ExecuteTime": {
     "end_time": "2018-12-21T11:13:01.883816Z",
     "start_time": "2018-12-21T11:13:01.878826Z"
    }
   },
   "outputs": [
    {
     "data": {
      "text/plain": [
       "[3, 2, 1]"
      ]
     },
     "execution_count": 10,
     "metadata": {},
     "output_type": "execute_result"
    }
   ],
   "source": [
    "li [ 3:0: -1]"
   ]
  },
  {
   "cell_type": "code",
   "execution_count": null,
   "metadata": {},
   "outputs": [],
   "source": []
  },
  {
   "cell_type": "code",
   "execution_count": 5,
   "metadata": {
    "ExecuteTime": {
     "end_time": "2018-12-21T03:25:08.997396Z",
     "start_time": "2018-12-21T03:25:08.985380Z"
    }
   },
   "outputs": [],
   "source": [
    "cc={2: 1009, 3: 1009, 22: 873, 23: 873, 20: 869, 21: 869, 4: 669, 5: 669, 6: 665, 7: 665, 16: 602, 18: 602, 44: 602, 45: 602, 12: 598, 14: 598, 46: 597, 47: 597, 26: 547, 27: 542, 13: 531, 15: 531, 42: 528, 43: 528, 17: 523, 19: 523, 40: 523, 41: 523, 28: 511, 29: 511, 38: 406, 39: 406, 36: 405, 37: 405, 25: 250, 24: 248, 1: 223, 0: 221, 35: 203, 34: 202, 11: 164, 10: 160, 30: 156, 31: 156, 32: 153, 33: 153, 8: 29, 9: 23}"
   ]
  },
  {
   "cell_type": "code",
   "execution_count": 6,
   "metadata": {
    "ExecuteTime": {
     "end_time": "2018-12-21T03:25:09.308925Z",
     "start_time": "2018-12-21T03:25:09.301972Z"
    }
   },
   "outputs": [
    {
     "data": {
      "text/plain": [
       "48"
      ]
     },
     "execution_count": 6,
     "metadata": {},
     "output_type": "execute_result"
    }
   ],
   "source": [
    "len(cc)"
   ]
  },
  {
   "cell_type": "code",
   "execution_count": 7,
   "metadata": {
    "ExecuteTime": {
     "end_time": "2018-12-21T03:25:09.631235Z",
     "start_time": "2018-12-21T03:25:09.627615Z"
    }
   },
   "outputs": [],
   "source": [
    "for  i in range(48):\n",
    "    if i not in cc:\n",
    "        print(i)"
   ]
  },
  {
   "cell_type": "code",
   "execution_count": null,
   "metadata": {},
   "outputs": [],
   "source": []
  },
  {
   "cell_type": "code",
   "execution_count": null,
   "metadata": {},
   "outputs": [],
   "source": []
  },
  {
   "cell_type": "code",
   "execution_count": 23,
   "metadata": {
    "ExecuteTime": {
     "end_time": "2018-12-18T13:31:48.671017Z",
     "start_time": "2018-12-18T13:31:48.662040Z"
    }
   },
   "outputs": [
    {
     "name": "stdout",
     "output_type": "stream",
     "text": [
      "23 27 27 31\n",
      "27 31 23 27\n",
      "27 23 23 27\n"
     ]
    }
   ],
   "source": [
    "# 简直了天大的冤枉啊，\n",
    "# 我当初就这么debug 过来的，还有很多没有de 的bug ，泪已经流尽\n",
    "# 一次转换2个风险已经很大了，之后还会出现什么稀奇古怪的问题么。。。。。！！\n",
    "# 同一个变量因为两次赋值了！！ 但是 offset ==4 什么的没有看出来！！！\n",
    "\n",
    "out = [i for i in range(100)]\n",
    "index = 23\n",
    "offset = 4\n",
    "print(out[index], out[index +4], out[index+offset], out[index +4+offset])\n",
    "print(out[index+offset], out[index+4+offset], out[index], out[index+4])\n",
    "out[index], out[index+4], out[index+offset], out[index+4+offset] =\\\n",
    "                out[index+offset], out[index+4+offset], out[index], out[index+4]\n",
    "print(out[index], out[index +4], out[index+offset], out[index +4+offset])"
   ]
  },
  {
   "cell_type": "code",
   "execution_count": null,
   "metadata": {},
   "outputs": [],
   "source": []
  },
  {
   "cell_type": "code",
   "execution_count": null,
   "metadata": {},
   "outputs": [],
   "source": []
  },
  {
   "cell_type": "code",
   "execution_count": null,
   "metadata": {},
   "outputs": [],
   "source": []
  },
  {
   "cell_type": "code",
   "execution_count": null,
   "metadata": {},
   "outputs": [],
   "source": []
  },
  {
   "cell_type": "code",
   "execution_count": 3,
   "metadata": {
    "ExecuteTime": {
     "end_time": "2018-12-12T09:06:07.388624Z",
     "start_time": "2018-12-12T09:06:07.121746Z"
    }
   },
   "outputs": [],
   "source": [
    "\"\"\"\n",
    "Annotated heatmaps\n",
    "==================\n",
    "\n",
    "\"\"\"\n",
    "import matplotlib.pyplot as plt\n",
    "import seaborn as sns\n",
    "sns.set()\n",
    "\n",
    "# Load the example flights dataset and conver to long-form\n",
    "flights_long = sns.load_dataset(\"flights\")\n",
    "flights = flights_long.pivot(\"month\", \"year\", \"passengers\")\n",
    "\n",
    "# Draw a heatmap with the numeric values in each cell\n",
    "f, ax = plt.subplots(figsize=(9, 6))\n",
    "sns.heatmap(flights, annot=True, fmt=\"d\", linewidths=.5, ax=ax)\n",
    "\n",
    "%matplotlib inline"
   ]
  },
  {
   "cell_type": "code",
   "execution_count": 4,
   "metadata": {
    "ExecuteTime": {
     "end_time": "2018-12-12T09:06:23.580438Z",
     "start_time": "2018-12-12T09:06:23.574764Z"
    }
   },
   "outputs": [],
   "source": [
    "plt.show()"
   ]
  },
  {
   "cell_type": "code",
   "execution_count": 1,
   "metadata": {
    "ExecuteTime": {
     "end_time": "2018-12-14T11:40:48.541774Z",
     "start_time": "2018-12-14T11:40:47.721216Z"
    }
   },
   "outputs": [
    {
     "ename": "NameError",
     "evalue": "name 'tmp' is not defined",
     "output_type": "error",
     "traceback": [
      "\u001b[1;31m---------------------------------------------------------------------------\u001b[0m",
      "\u001b[1;31mNameError\u001b[0m                                 Traceback (most recent call last)",
      "\u001b[1;32m<ipython-input-1-82e88a871d48>\u001b[0m in \u001b[0;36m<module>\u001b[1;34m\u001b[0m\n\u001b[0;32m      1\u001b[0m \u001b[1;32mimport\u001b[0m \u001b[0mpandas\u001b[0m \u001b[1;32mas\u001b[0m \u001b[0mpd\u001b[0m\u001b[1;33m\u001b[0m\u001b[1;33m\u001b[0m\u001b[0m\n\u001b[0;32m      2\u001b[0m \u001b[0mtm\u001b[0m\u001b[1;33m=\u001b[0m \u001b[0mpd\u001b[0m\u001b[1;33m.\u001b[0m\u001b[0mDataFrame\u001b[0m\u001b[1;33m(\u001b[0m\u001b[1;33m[\u001b[0m\u001b[1;33m[\u001b[0m\u001b[1;36m2\u001b[0m\u001b[1;33m,\u001b[0m\u001b[1;36m3\u001b[0m\u001b[1;33m,\u001b[0m\u001b[1;36m4\u001b[0m\u001b[1;33m]\u001b[0m \u001b[1;32mfor\u001b[0m \u001b[0mi\u001b[0m \u001b[1;32min\u001b[0m \u001b[0mrange\u001b[0m\u001b[1;33m(\u001b[0m\u001b[1;36m99\u001b[0m\u001b[1;33m)\u001b[0m\u001b[1;33m]\u001b[0m\u001b[1;33m,\u001b[0m\u001b[1;33m)\u001b[0m\u001b[1;33m\u001b[0m\u001b[1;33m\u001b[0m\u001b[0m\n\u001b[1;32m----> 3\u001b[1;33m \u001b[0mtmp\u001b[0m\u001b[1;33m\u001b[0m\u001b[1;33m\u001b[0m\u001b[0m\n\u001b[0m",
      "\u001b[1;31mNameError\u001b[0m: name 'tmp' is not defined"
     ]
    }
   ],
   "source": [
    "import pandas as pd\n",
    "tm= pd.DataFrame([[2,3,4] for i in range(99)],)\n"
   ]
  },
  {
   "cell_type": "code",
   "execution_count": 11,
   "metadata": {
    "ExecuteTime": {
     "end_time": "2018-12-14T11:42:12.917497Z",
     "start_time": "2018-12-14T11:42:12.892564Z"
    }
   },
   "outputs": [],
   "source": [
    "tm[:].loc[1,1] = 0"
   ]
  },
  {
   "cell_type": "code",
   "execution_count": 12,
   "metadata": {
    "ExecuteTime": {
     "end_time": "2018-12-14T11:42:15.102616Z",
     "start_time": "2018-12-14T11:42:15.082701Z"
    }
   },
   "outputs": [
    {
     "data": {
      "text/html": [
       "<div>\n",
       "<style scoped>\n",
       "    .dataframe tbody tr th:only-of-type {\n",
       "        vertical-align: middle;\n",
       "    }\n",
       "\n",
       "    .dataframe tbody tr th {\n",
       "        vertical-align: top;\n",
       "    }\n",
       "\n",
       "    .dataframe thead th {\n",
       "        text-align: right;\n",
       "    }\n",
       "</style>\n",
       "<table border=\"1\" class=\"dataframe\">\n",
       "  <thead>\n",
       "    <tr style=\"text-align: right;\">\n",
       "      <th></th>\n",
       "      <th>0</th>\n",
       "      <th>1</th>\n",
       "      <th>2</th>\n",
       "    </tr>\n",
       "  </thead>\n",
       "  <tbody>\n",
       "    <tr>\n",
       "      <th>0</th>\n",
       "      <td>2</td>\n",
       "      <td>3</td>\n",
       "      <td>0</td>\n",
       "    </tr>\n",
       "    <tr>\n",
       "      <th>1</th>\n",
       "      <td>2</td>\n",
       "      <td>0</td>\n",
       "      <td>0</td>\n",
       "    </tr>\n",
       "    <tr>\n",
       "      <th>2</th>\n",
       "      <td>2</td>\n",
       "      <td>3</td>\n",
       "      <td>0</td>\n",
       "    </tr>\n",
       "    <tr>\n",
       "      <th>3</th>\n",
       "      <td>2</td>\n",
       "      <td>3</td>\n",
       "      <td>0</td>\n",
       "    </tr>\n",
       "    <tr>\n",
       "      <th>4</th>\n",
       "      <td>2</td>\n",
       "      <td>3</td>\n",
       "      <td>0</td>\n",
       "    </tr>\n",
       "    <tr>\n",
       "      <th>5</th>\n",
       "      <td>2</td>\n",
       "      <td>3</td>\n",
       "      <td>0</td>\n",
       "    </tr>\n",
       "    <tr>\n",
       "      <th>6</th>\n",
       "      <td>2</td>\n",
       "      <td>3</td>\n",
       "      <td>0</td>\n",
       "    </tr>\n",
       "    <tr>\n",
       "      <th>7</th>\n",
       "      <td>2</td>\n",
       "      <td>3</td>\n",
       "      <td>0</td>\n",
       "    </tr>\n",
       "    <tr>\n",
       "      <th>8</th>\n",
       "      <td>2</td>\n",
       "      <td>3</td>\n",
       "      <td>0</td>\n",
       "    </tr>\n",
       "    <tr>\n",
       "      <th>9</th>\n",
       "      <td>2</td>\n",
       "      <td>3</td>\n",
       "      <td>0</td>\n",
       "    </tr>\n",
       "    <tr>\n",
       "      <th>10</th>\n",
       "      <td>2</td>\n",
       "      <td>3</td>\n",
       "      <td>0</td>\n",
       "    </tr>\n",
       "    <tr>\n",
       "      <th>11</th>\n",
       "      <td>2</td>\n",
       "      <td>3</td>\n",
       "      <td>0</td>\n",
       "    </tr>\n",
       "    <tr>\n",
       "      <th>12</th>\n",
       "      <td>2</td>\n",
       "      <td>3</td>\n",
       "      <td>0</td>\n",
       "    </tr>\n",
       "    <tr>\n",
       "      <th>13</th>\n",
       "      <td>2</td>\n",
       "      <td>3</td>\n",
       "      <td>0</td>\n",
       "    </tr>\n",
       "    <tr>\n",
       "      <th>14</th>\n",
       "      <td>2</td>\n",
       "      <td>3</td>\n",
       "      <td>0</td>\n",
       "    </tr>\n",
       "    <tr>\n",
       "      <th>15</th>\n",
       "      <td>2</td>\n",
       "      <td>3</td>\n",
       "      <td>0</td>\n",
       "    </tr>\n",
       "    <tr>\n",
       "      <th>16</th>\n",
       "      <td>2</td>\n",
       "      <td>3</td>\n",
       "      <td>0</td>\n",
       "    </tr>\n",
       "    <tr>\n",
       "      <th>17</th>\n",
       "      <td>2</td>\n",
       "      <td>3</td>\n",
       "      <td>0</td>\n",
       "    </tr>\n",
       "    <tr>\n",
       "      <th>18</th>\n",
       "      <td>2</td>\n",
       "      <td>3</td>\n",
       "      <td>0</td>\n",
       "    </tr>\n",
       "    <tr>\n",
       "      <th>19</th>\n",
       "      <td>2</td>\n",
       "      <td>3</td>\n",
       "      <td>0</td>\n",
       "    </tr>\n",
       "    <tr>\n",
       "      <th>20</th>\n",
       "      <td>2</td>\n",
       "      <td>3</td>\n",
       "      <td>0</td>\n",
       "    </tr>\n",
       "    <tr>\n",
       "      <th>21</th>\n",
       "      <td>2</td>\n",
       "      <td>3</td>\n",
       "      <td>0</td>\n",
       "    </tr>\n",
       "    <tr>\n",
       "      <th>22</th>\n",
       "      <td>2</td>\n",
       "      <td>3</td>\n",
       "      <td>0</td>\n",
       "    </tr>\n",
       "    <tr>\n",
       "      <th>23</th>\n",
       "      <td>2</td>\n",
       "      <td>3</td>\n",
       "      <td>0</td>\n",
       "    </tr>\n",
       "    <tr>\n",
       "      <th>24</th>\n",
       "      <td>2</td>\n",
       "      <td>3</td>\n",
       "      <td>0</td>\n",
       "    </tr>\n",
       "    <tr>\n",
       "      <th>25</th>\n",
       "      <td>2</td>\n",
       "      <td>3</td>\n",
       "      <td>0</td>\n",
       "    </tr>\n",
       "    <tr>\n",
       "      <th>26</th>\n",
       "      <td>2</td>\n",
       "      <td>3</td>\n",
       "      <td>0</td>\n",
       "    </tr>\n",
       "    <tr>\n",
       "      <th>27</th>\n",
       "      <td>2</td>\n",
       "      <td>3</td>\n",
       "      <td>0</td>\n",
       "    </tr>\n",
       "    <tr>\n",
       "      <th>28</th>\n",
       "      <td>2</td>\n",
       "      <td>3</td>\n",
       "      <td>0</td>\n",
       "    </tr>\n",
       "    <tr>\n",
       "      <th>29</th>\n",
       "      <td>2</td>\n",
       "      <td>3</td>\n",
       "      <td>0</td>\n",
       "    </tr>\n",
       "    <tr>\n",
       "      <th>...</th>\n",
       "      <td>...</td>\n",
       "      <td>...</td>\n",
       "      <td>...</td>\n",
       "    </tr>\n",
       "    <tr>\n",
       "      <th>69</th>\n",
       "      <td>2</td>\n",
       "      <td>3</td>\n",
       "      <td>0</td>\n",
       "    </tr>\n",
       "    <tr>\n",
       "      <th>70</th>\n",
       "      <td>2</td>\n",
       "      <td>3</td>\n",
       "      <td>0</td>\n",
       "    </tr>\n",
       "    <tr>\n",
       "      <th>71</th>\n",
       "      <td>2</td>\n",
       "      <td>3</td>\n",
       "      <td>0</td>\n",
       "    </tr>\n",
       "    <tr>\n",
       "      <th>72</th>\n",
       "      <td>2</td>\n",
       "      <td>3</td>\n",
       "      <td>0</td>\n",
       "    </tr>\n",
       "    <tr>\n",
       "      <th>73</th>\n",
       "      <td>2</td>\n",
       "      <td>3</td>\n",
       "      <td>0</td>\n",
       "    </tr>\n",
       "    <tr>\n",
       "      <th>74</th>\n",
       "      <td>2</td>\n",
       "      <td>3</td>\n",
       "      <td>0</td>\n",
       "    </tr>\n",
       "    <tr>\n",
       "      <th>75</th>\n",
       "      <td>2</td>\n",
       "      <td>3</td>\n",
       "      <td>0</td>\n",
       "    </tr>\n",
       "    <tr>\n",
       "      <th>76</th>\n",
       "      <td>2</td>\n",
       "      <td>3</td>\n",
       "      <td>0</td>\n",
       "    </tr>\n",
       "    <tr>\n",
       "      <th>77</th>\n",
       "      <td>2</td>\n",
       "      <td>3</td>\n",
       "      <td>0</td>\n",
       "    </tr>\n",
       "    <tr>\n",
       "      <th>78</th>\n",
       "      <td>2</td>\n",
       "      <td>3</td>\n",
       "      <td>0</td>\n",
       "    </tr>\n",
       "    <tr>\n",
       "      <th>79</th>\n",
       "      <td>2</td>\n",
       "      <td>3</td>\n",
       "      <td>0</td>\n",
       "    </tr>\n",
       "    <tr>\n",
       "      <th>80</th>\n",
       "      <td>2</td>\n",
       "      <td>3</td>\n",
       "      <td>0</td>\n",
       "    </tr>\n",
       "    <tr>\n",
       "      <th>81</th>\n",
       "      <td>2</td>\n",
       "      <td>3</td>\n",
       "      <td>0</td>\n",
       "    </tr>\n",
       "    <tr>\n",
       "      <th>82</th>\n",
       "      <td>2</td>\n",
       "      <td>3</td>\n",
       "      <td>0</td>\n",
       "    </tr>\n",
       "    <tr>\n",
       "      <th>83</th>\n",
       "      <td>2</td>\n",
       "      <td>3</td>\n",
       "      <td>0</td>\n",
       "    </tr>\n",
       "    <tr>\n",
       "      <th>84</th>\n",
       "      <td>2</td>\n",
       "      <td>3</td>\n",
       "      <td>0</td>\n",
       "    </tr>\n",
       "    <tr>\n",
       "      <th>85</th>\n",
       "      <td>2</td>\n",
       "      <td>3</td>\n",
       "      <td>0</td>\n",
       "    </tr>\n",
       "    <tr>\n",
       "      <th>86</th>\n",
       "      <td>2</td>\n",
       "      <td>3</td>\n",
       "      <td>0</td>\n",
       "    </tr>\n",
       "    <tr>\n",
       "      <th>87</th>\n",
       "      <td>2</td>\n",
       "      <td>3</td>\n",
       "      <td>0</td>\n",
       "    </tr>\n",
       "    <tr>\n",
       "      <th>88</th>\n",
       "      <td>2</td>\n",
       "      <td>3</td>\n",
       "      <td>0</td>\n",
       "    </tr>\n",
       "    <tr>\n",
       "      <th>89</th>\n",
       "      <td>2</td>\n",
       "      <td>3</td>\n",
       "      <td>0</td>\n",
       "    </tr>\n",
       "    <tr>\n",
       "      <th>90</th>\n",
       "      <td>2</td>\n",
       "      <td>3</td>\n",
       "      <td>0</td>\n",
       "    </tr>\n",
       "    <tr>\n",
       "      <th>91</th>\n",
       "      <td>2</td>\n",
       "      <td>3</td>\n",
       "      <td>0</td>\n",
       "    </tr>\n",
       "    <tr>\n",
       "      <th>92</th>\n",
       "      <td>2</td>\n",
       "      <td>3</td>\n",
       "      <td>0</td>\n",
       "    </tr>\n",
       "    <tr>\n",
       "      <th>93</th>\n",
       "      <td>2</td>\n",
       "      <td>3</td>\n",
       "      <td>0</td>\n",
       "    </tr>\n",
       "    <tr>\n",
       "      <th>94</th>\n",
       "      <td>2</td>\n",
       "      <td>3</td>\n",
       "      <td>0</td>\n",
       "    </tr>\n",
       "    <tr>\n",
       "      <th>95</th>\n",
       "      <td>2</td>\n",
       "      <td>3</td>\n",
       "      <td>0</td>\n",
       "    </tr>\n",
       "    <tr>\n",
       "      <th>96</th>\n",
       "      <td>2</td>\n",
       "      <td>3</td>\n",
       "      <td>0</td>\n",
       "    </tr>\n",
       "    <tr>\n",
       "      <th>97</th>\n",
       "      <td>2</td>\n",
       "      <td>3</td>\n",
       "      <td>0</td>\n",
       "    </tr>\n",
       "    <tr>\n",
       "      <th>98</th>\n",
       "      <td>2</td>\n",
       "      <td>3</td>\n",
       "      <td>0</td>\n",
       "    </tr>\n",
       "  </tbody>\n",
       "</table>\n",
       "<p>99 rows × 3 columns</p>\n",
       "</div>"
      ],
      "text/plain": [
       "    0  1  2\n",
       "0   2  3  0\n",
       "1   2  0  0\n",
       "2   2  3  0\n",
       "3   2  3  0\n",
       "4   2  3  0\n",
       "5   2  3  0\n",
       "6   2  3  0\n",
       "7   2  3  0\n",
       "8   2  3  0\n",
       "9   2  3  0\n",
       "10  2  3  0\n",
       "11  2  3  0\n",
       "12  2  3  0\n",
       "13  2  3  0\n",
       "14  2  3  0\n",
       "15  2  3  0\n",
       "16  2  3  0\n",
       "17  2  3  0\n",
       "18  2  3  0\n",
       "19  2  3  0\n",
       "20  2  3  0\n",
       "21  2  3  0\n",
       "22  2  3  0\n",
       "23  2  3  0\n",
       "24  2  3  0\n",
       "25  2  3  0\n",
       "26  2  3  0\n",
       "27  2  3  0\n",
       "28  2  3  0\n",
       "29  2  3  0\n",
       ".. .. .. ..\n",
       "69  2  3  0\n",
       "70  2  3  0\n",
       "71  2  3  0\n",
       "72  2  3  0\n",
       "73  2  3  0\n",
       "74  2  3  0\n",
       "75  2  3  0\n",
       "76  2  3  0\n",
       "77  2  3  0\n",
       "78  2  3  0\n",
       "79  2  3  0\n",
       "80  2  3  0\n",
       "81  2  3  0\n",
       "82  2  3  0\n",
       "83  2  3  0\n",
       "84  2  3  0\n",
       "85  2  3  0\n",
       "86  2  3  0\n",
       "87  2  3  0\n",
       "88  2  3  0\n",
       "89  2  3  0\n",
       "90  2  3  0\n",
       "91  2  3  0\n",
       "92  2  3  0\n",
       "93  2  3  0\n",
       "94  2  3  0\n",
       "95  2  3  0\n",
       "96  2  3  0\n",
       "97  2  3  0\n",
       "98  2  3  0\n",
       "\n",
       "[99 rows x 3 columns]"
      ]
     },
     "execution_count": 12,
     "metadata": {},
     "output_type": "execute_result"
    }
   ],
   "source": [
    "tm"
   ]
  },
  {
   "cell_type": "code",
   "execution_count": null,
   "metadata": {},
   "outputs": [],
   "source": []
  },
  {
   "cell_type": "code",
   "execution_count": 1,
   "metadata": {
    "ExecuteTime": {
     "end_time": "2018-12-12T08:05:33.988732Z",
     "start_time": "2018-12-12T08:05:33.813248Z"
    }
   },
   "outputs": [
    {
     "ename": "AttributeError",
     "evalue": "module 'os' has no attribute 'lis'",
     "output_type": "error",
     "traceback": [
      "\u001b[1;31m---------------------------------------------------------------------------\u001b[0m",
      "\u001b[1;31mAttributeError\u001b[0m                            Traceback (most recent call last)",
      "\u001b[1;32m<ipython-input-1-bac386eb5026>\u001b[0m in \u001b[0;36m<module>\u001b[1;34m\u001b[0m\n\u001b[0;32m      2\u001b[0m \u001b[1;32mimport\u001b[0m \u001b[0mos\u001b[0m\u001b[1;33m\u001b[0m\u001b[1;33m\u001b[0m\u001b[0m\n\u001b[0;32m      3\u001b[0m \u001b[0mos\u001b[0m\u001b[1;33m.\u001b[0m\u001b[0mchdir\u001b[0m\u001b[1;33m(\u001b[0m\u001b[1;34m\"D:/DATA/\"\u001b[0m\u001b[1;33m)\u001b[0m\u001b[1;33m\u001b[0m\u001b[1;33m\u001b[0m\u001b[0m\n\u001b[1;32m----> 4\u001b[1;33m \u001b[0mos\u001b[0m\u001b[1;33m.\u001b[0m\u001b[0mlis\u001b[0m\u001b[1;33m\u001b[0m\u001b[1;33m\u001b[0m\u001b[0m\n\u001b[0m",
      "\u001b[1;31mAttributeError\u001b[0m: module 'os' has no attribute 'lis'"
     ]
    }
   ],
   "source": [
    "# os\n",
    "import os\n",
    "os.chdir(\"D:/DATA/\")\n",
    "os.listdir()\n",
    "\n",
    "# walk 遍历目录下面的所有文件目录；\n",
    "# root 属性是绝对路径或者相对路径：  关键看的是directory 的属性\n",
    "for root, dirs, files in os.walk(directory):\n",
    "    \n",
    "if not os.path.exists(into):\n",
    "    os.makedirs(into) \n"
   ]
  },
  {
   "cell_type": "code",
   "execution_count": null,
   "metadata": {},
   "outputs": [],
   "source": [
    "import datetime\n",
    "startTime = datetime.datetime.now()\n",
    "startTime.strftime('%Y-%m-%d %H:%M:%S')"
   ]
  },
  {
   "cell_type": "code",
   "execution_count": 15,
   "metadata": {
    "ExecuteTime": {
     "end_time": "2018-11-16T13:02:57.559690Z",
     "start_time": "2018-11-16T13:02:57.098362Z"
    },
    "code_folding": [],
    "collapsed": true,
    "run_control": {
     "marked": true
    }
   },
   "outputs": [
    {
     "name": "stdout",
     "output_type": "stream",
     "text": [
      "throne2/ice and fire.txt  utf-8\n",
      "throne2/stopwords_chs.txt  utf-8\n",
      "throne2/stopwords_en.txt  ascii\n",
      "throne2/tmp.txt  GB2312\n",
      "throne2/遮天【精较完结】.txt  GB2312\n",
      "throne2\\game.of.thrones_season2/game.of.thrones.s02e01.1080p.bluray.x264-rovers.chs.srt  utf-8\n",
      "throne2\\game.of.thrones_season2/game.of.thrones.s02e02.1080p.bluray.x264-rovers.chs.srt  utf-8\n",
      "throne2\\game.of.thrones_season2/game.of.thrones.s02e03.1080p.bluray.x264-rovers.chs.srt  utf-8\n",
      "throne2\\game.of.thrones_season2/game.of.thrones.s02e04.1080p.bluray.x264-rovers.chs.srt  utf-8\n",
      "throne2\\game.of.thrones_season2/game.of.thrones.s02e05.1080p.bluray.x264-rovers.chs.srt  utf-8\n",
      "throne2\\game.of.thrones_season2/game.of.thrones.s02e06.1080p.bluray.x264-rovers.chs.srt  utf-8\n",
      "throne2\\game.of.thrones_season2/game.of.thrones.s02e07.1080p.bluray.x264-rovers.chs.srt  utf-8\n",
      "throne2\\game.of.thrones_season2/game.of.thrones.s02e08.1080p.bluray.x264-rovers.chs.srt  utf-8\n",
      "throne2\\game.of.thrones_season2/game.of.thrones.s02e09.1080p.bluray.x264-rovers.chs.srt  utf-8\n",
      "throne2\\game.of.thrones_season2/game.of.thrones.s02e10.1080p.bluray.x264-rovers.chs.srt  utf-8\n",
      "throne2\\冰与火之歌/《冰与火之歌5魔龙的狂舞》（中文版）.txt  ISO-8859-9\n",
      "throne2\\冰与火之歌/《冰与火之歌》前传1《雇佣骑士》.txt  ISO-8859-9\n",
      "throne2\\冰与火之歌/《冰与火之歌》前传2《效忠剑士》.txt  ISO-8859-9\n",
      "throne2\\冰与火之歌/《冰与火之歌》前传3《神秘骑士》.txt  ISO-8859-9\n",
      "throne2\\冰与火之歌/《冰与火之歌》第1卷权力的游戏1.txt  ISO-8859-9\n",
      "throne2\\冰与火之歌/《冰与火之歌》第1卷权力的游戏2.txt  ISO-8859-9\n",
      "throne2\\冰与火之歌/《冰与火之歌》第2卷列王的纷争1.txt  ISO-8859-9\n",
      "throne2\\冰与火之歌/《冰与火之歌》第2卷列王的纷争2.txt  ISO-8859-9\n",
      "throne2\\冰与火之歌/《冰与火之歌》第2卷列王的纷争3.txt  ISO-8859-9\n",
      "throne2\\冰与火之歌/《冰与火之歌》第3卷冰雨的风暴1.txt  ISO-8859-9\n",
      "throne2\\冰与火之歌/《冰与火之歌》第3卷冰雨的风暴2.txt  ISO-8859-9\n",
      "throne2\\冰与火之歌/《冰与火之歌》第3卷冰雨的风暴3.txt  ISO-8859-9\n",
      "throne2\\冰与火之歌/《冰与火之歌》第4卷群鸦的盛宴1.txt  ISO-8859-9\n",
      "throne2\\冰与火之歌/《冰与火之歌》第4卷群鸦的盛宴2.txt  ISO-8859-9\n",
      "throne2\\冰与火之歌/《冰与火之歌》第4卷群鸦的盛宴3.txt  ISO-8859-9\n",
      "throne2\\冰与火之歌/《冰与火之歌》第5卷魔龙的狂舞部分试读.txt  ISO-8859-9\n",
      "throne2\\冰与火之歌\\冰与火之歌地图/冰与火之歌全地图.JPG   not text file=\n",
      "throne2\\冰与火之歌\\冰与火之歌地图/君临城.jpg  ISO-8859-1\n",
      "throne2\\冰与火之歌\\冰与火之歌地图/夏日之海.jpg   not text file=\n",
      "throne2\\冰与火之歌\\冰与火之歌地图/维斯特洛.jpg  Windows-1252\n",
      "throne2\\冰与火之歌\\冰与火之歌地图/铁群岛.jpg   not text file=\n"
     ]
    }
   ],
   "source": [
    "\n",
    "\n",
    "# change encoding; copy recurisvely files into derectory 'new'\n",
    "# 目前只能处理 gbk, utf-8, ascii 文件； iso 什么的文件暂时不支持\n",
    "\n",
    "import chardet\n",
    "import os \n",
    "# copy lib\n",
    "import shutil\n",
    "target_dir = 'd:/desktop/'\n",
    "os.chdir(target_dir)\n",
    "\n",
    "# os.walk is already recursively visit, \n",
    "# directory without '/' ending;\n",
    "def change_coding(directory, target= 'utf-8', into_dir = 'new_coding'):\n",
    "    if not os.path.exists(into_dir):\n",
    "        os.makedirs(into_dir)\n",
    "    for root, dirs, files in os.walk(directory):\n",
    "        for f in files:\n",
    "            try:\n",
    "                with open(root+'/'+f, 'rb' ,  ) as file:\n",
    "                    s = file.read()\n",
    "                    #coding = chardet.detect(s[:111])['encoding']\n",
    "                    coding = chardet.detect(s[:1111])['encoding']\n",
    "                # copy only trans encoding text file\n",
    "                # 存在文件误判为text 文件\n",
    "                if  coding:\n",
    "                    print(root+'/'+f+ '  '+ coding)\n",
    "                    into = into_dir+'/'+root\n",
    "                    if not os.path.exists(into):\n",
    "                        os.makedirs(into) \n",
    "                    if coding !=  target:\n",
    "                        s = s.decode( 'GB18030' if coding.startswith('GB') else coding, errors = 'ignore' )\n",
    "                        # both are OK : binary or source\n",
    "                        # with open(into+'/'+f, 'w' , errors='ignore', encoding=target ) as tmp:\n",
    "                        #     tmp.write(s )\n",
    "                        with open(into +'/'+f, 'wb',  ) as tmp:\n",
    "                            tmp.write(s.encode(target) )\n",
    "                else:\n",
    "                    print(root+'/'+f+ '   not text file=' )\n",
    "                    shutil.copyfile(root+'/'+f, into+'/'+f)\n",
    "            except Exception as e:\n",
    "                print(e)\n",
    "\n",
    "change_coding('throne2') \n"
   ]
  },
  {
   "cell_type": "code",
   "execution_count": 1,
   "metadata": {
    "ExecuteTime": {
     "end_time": "2018-12-05T01:52:16.382246Z",
     "start_time": "2018-12-05T01:52:16.226178Z"
    },
    "collapsed": true,
    "run_control": {
     "marked": false
    }
   },
   "outputs": [
    {
     "ename": "FileNotFoundError",
     "evalue": "[Errno 2] No such file or directory: 'd:/desktop/throne2//stopwords_en.txt'",
     "output_type": "error",
     "traceback": [
      "\u001b[1;31m---------------------------------------------------------------------------\u001b[0m",
      "\u001b[1;31mFileNotFoundError\u001b[0m                         Traceback (most recent call last)",
      "\u001b[1;32m<ipython-input-1-b1e3bdae1d6e>\u001b[0m in \u001b[0;36m<module>\u001b[1;34m\u001b[0m\n\u001b[0;32m      1\u001b[0m \u001b[1;31m# 统计英文词频\u001b[0m\u001b[1;33m\u001b[0m\u001b[1;33m\u001b[0m\u001b[1;33m\u001b[0m\u001b[0m\n\u001b[0;32m      2\u001b[0m \u001b[0mDATA_PATH\u001b[0m \u001b[1;33m=\u001b[0m \u001b[1;34m\"d:/desktop/throne2/\"\u001b[0m\u001b[1;33m\u001b[0m\u001b[1;33m\u001b[0m\u001b[0m\n\u001b[1;32m----> 3\u001b[1;33m \u001b[1;32mwith\u001b[0m \u001b[0mopen\u001b[0m\u001b[1;33m(\u001b[0m\u001b[0mDATA_PATH\u001b[0m\u001b[1;33m+\u001b[0m\u001b[1;34mr\"/stopwords_en.txt\"\u001b[0m\u001b[1;33m,\u001b[0m\u001b[1;34m'r'\u001b[0m\u001b[1;33m)\u001b[0m \u001b[1;32mas\u001b[0m \u001b[0mfile\u001b[0m\u001b[1;33m:\u001b[0m\u001b[1;33m\u001b[0m\u001b[1;33m\u001b[0m\u001b[0m\n\u001b[0m\u001b[0;32m      4\u001b[0m     \u001b[0mstopwords\u001b[0m\u001b[1;33m=\u001b[0m\u001b[0mfile\u001b[0m\u001b[1;33m.\u001b[0m\u001b[0mread\u001b[0m\u001b[1;33m(\u001b[0m\u001b[1;33m)\u001b[0m\u001b[1;33m\u001b[0m\u001b[1;33m\u001b[0m\u001b[0m\n\u001b[0;32m      5\u001b[0m \u001b[1;33m\u001b[0m\u001b[0m\n",
      "\u001b[1;31mFileNotFoundError\u001b[0m: [Errno 2] No such file or directory: 'd:/desktop/throne2//stopwords_en.txt'"
     ]
    }
   ],
   "source": [
    "# 统计英文词频\n",
    "DATA_PATH = \"d:/desktop/throne2/\"\n",
    "with open(DATA_PATH+r\"/stopwords_en.txt\",'r') as file:\n",
    "    stopwords=file.read()\n",
    "\n",
    "import re\n",
    "stopwords = stopwords.split('\\n')\n",
    "split_regex = r'[a-z]+[_\\-]*[a-z]+'\n",
    "\n",
    "# TODO Implement this\n",
    "def simple_tokenize(string):\n",
    "    string=string.lower()\n",
    "    return re.findall(split_regex,string)#但会`返回一个列表？\n",
    "def tokenize(string):\n",
    "    if not type(string) is str:return []\n",
    "    xx=simple_tokenize(string)\n",
    "    xx= [x for x in xx if len(x) > 2]\n",
    "\n",
    "    return xx\n",
    "\n",
    "from collections import Counter\n",
    "ice_count = Counter(tokenize(ice)).most_common(1000)\n",
    "for i, s in enumerate(ice_count):\n",
    "    # stopwords 放在之前出去的太费时间； 数据科学， entity solution??\n",
    "    if s[0] in stopwords:\n",
    "        print('stop ------- ', i, s[0], s[1])\n",
    "    else:\n",
    "        print(i, s[0], s[1]) \n",
    "   \n"
   ]
  },
  {
   "cell_type": "code",
   "execution_count": 15,
   "metadata": {
    "ExecuteTime": {
     "end_time": "2018-11-16T13:46:19.336387Z",
     "start_time": "2018-11-16T13:45:28.013585Z"
    },
    "collapsed": true,
    "run_control": {
     "marked": true
    }
   },
   "outputs": [
    {
     "name": "stdout",
     "output_type": "stream",
     "text": [
      "[[\"叶凡\", 34944], [\"一个\", 16027], [\"这是\", 7583], [\"像是\", 5862], [\"大帝\", 4932], [\"一种\", 4491], [\"强大\", 4440], [\"心中\", 3688], [\"全都\", 3653], [\"金色\", 3561], [\"可怕\", 3443], [\"真的\", 3373], [\"所有人\", 3333], [\"虚空\", 3303], [\"一声\", 3260], [\"而后\", 3258], [\"见到\", 3186], [\"圣体\", 3167], [\"一道\", 3075], [\"有人\", 3065], [\"一位\", 3045], [\"而今\", 3033], [\"化成\", 3016], [\"出手\", 2890], [\"很多\", 2864], [\"天地\", 2764], [\"恐怖\", 2697], [\"宇宙\", 2688], [\"众人\", 2678], [\"无比\", 2669], [\"大圣\", 2537], [\"圣人\", 2490], [\"修士\", 2450], [\"一座\", 2404], [\"说道\", 2387], [\"太古\", 2371], [\"浑身\", 2326], [\"强者\", 2308], [\"人族\", 2303], [\"感觉\", 2275], [\"生命\", 2250], [\"自然\", 2250], [\"这片\", 2189], [\"黑狗\", 2174], [\"星空\", 2096], [\"发出\", 2092], [\"发生\", 2051], [\"早已\", 2019], [\"庞博\", 2001], [\"至尊\", 1990], [\"地方\", 1971], [\"神色\", 1923], [\"皇子\", 1916], [\"消失\", 1915], [\"露出\", 1912], [\"竟然\", 1883], [\"人物\", 1877], [\"留下\", 1860], [\"难以\", 1853], [\"黄金\", 1822], [\"气息\", 1812], [\"此地\", 1795], [\"一步\", 1781], [\"时间\", 1763], [\"无尽\", 1759], [\"世界\", 1755], [\"终于\", 1744], [\"大战\", 1733], [\"想到\", 1720], [\"身体\", 1709], [\"一条\", 1675], [\"发现\", 1671], [\"圣地\", 1671], [\"老人\", 1670], [\"一战\", 1640], [\"混沌\", 1629], [\"不少\", 1601], [\"最终\", 1599], [\"依然\", 1598], [\"东西\", 1598], [\"天庭\", 1595], [\"一场\", 1590], [\"来到\", 1576], [\"摇光\", 1572], [\"力量\", 1561], [\"大道\", 1559], [\"声音\", 1558], [\"黑色\", 1555], [\"顿时\", 1547], [\"前方\", 1543], [\"手中\", 1541], [\"一股\", 1539], [\"当年\", 1528], [\"向前\", 1528], [\"几人\", 1516], [\"天下\", 1489], [\"不知\", 1486], [\"黑皇\", 1480], [\"身上\", 1466], [\"快速\", 1448]]\n"
     ]
    },
    {
     "data": {
      "image/png": "[encoded data removed]",
      "text/plain": [
       "<Figure size 432x288 with 1 Axes>"
      ]
     },
     "metadata": {},
     "output_type": "display_data"
    }
   ],
   "source": [
    "# 统计中文词频\n",
    "#coding:utf-8\n",
    "import jieba\n",
    "from collections import Counter\n",
    "import json\n",
    "import matplotlib.pyplot as plt\n",
    "import matplotlib\n",
    "import sys\n",
    "\n",
    "#解决matplotlib显示中文乱码的问题\n",
    "plt.rcParams['font.sans-serif'] = ['SimHei']\n",
    "plt.rcParams['font.family']='sans-serif'\n",
    "\n",
    "with open('throne2/遮天【精较完结】.txt','r', encoding = 'utf-8') as f : zhetian = f.read()\n",
    "with open(r\"throne2/stopwords_chs.txt\",'r', encoding= 'utf-8') as file:\n",
    "    stop_zh=file.read()\n",
    "    import re\n",
    "    stop_zh = set(stop_zh.split('\\n'))\n",
    "\n",
    "zhetian_words = [x for x in jieba.cut(zhetian) if len(x) >= 2 and x not in stop_zh] #将全文分割，并将大于两个字的词语放入列表\n",
    "c=Counter(zhetian_words).most_common(100) #取最多的10组\n",
    "print (json.dumps(c, ensure_ascii=False))\n",
    "\n",
    "name_list=[x[0] for x in c] #X轴的值\n",
    "num_list=[x[1] for x in c] #Y轴的值\n",
    "b=plt.bar(range(len(num_list)), num_list,tick_label=name_list)#画图\n",
    "\n",
    "plt.xlabel(u'词语')\n",
    "plt.ylabel(u'次数')\n",
    "plt.title(u'文本分词统计')\n",
    "plt.show()#展示\n"
   ]
  },
  {
   "cell_type": "code",
   "execution_count": 16,
   "metadata": {
    "ExecuteTime": {
     "end_time": "2018-12-05T01:58:24.860325Z",
     "start_time": "2018-12-05T01:58:24.844760Z"
    }
   },
   "outputs": [
    {
     "data": {
      "application/json": {
       "cell": {
        "!": "OSMagics",
        "HTML": "Other",
        "SVG": "Other",
        "bash": "Other",
        "capture": "ExecutionMagics",
        "cmd": "Other",
        "debug": "ExecutionMagics",
        "file": "Other",
        "html": "DisplayMagics",
        "javascript": "DisplayMagics",
        "js": "DisplayMagics",
        "latex": "DisplayMagics",
        "markdown": "DisplayMagics",
        "perl": "Other",
        "prun": "ExecutionMagics",
        "pypy": "Other",
        "python": "Other",
        "python2": "Other",
        "python3": "Other",
        "ruby": "Other",
        "script": "ScriptMagics",
        "sh": "Other",
        "svg": "DisplayMagics",
        "sx": "OSMagics",
        "system": "OSMagics",
        "time": "ExecutionMagics",
        "timeit": "ExecutionMagics",
        "writefile": "OSMagics"
       },
       "line": {
        "alias": "OSMagics",
        "alias_magic": "BasicMagics",
        "autoawait": "AsyncMagics",
        "autocall": "AutoMagics",
        "automagic": "AutoMagics",
        "autosave": "KernelMagics",
        "bookmark": "OSMagics",
        "cd": "OSMagics",
        "clear": "KernelMagics",
        "cls": "KernelMagics",
        "colors": "BasicMagics",
        "config": "ConfigMagics",
        "connect_info": "KernelMagics",
        "copy": "Other",
        "ddir": "Other",
        "debug": "ExecutionMagics",
        "dhist": "OSMagics",
        "dirs": "OSMagics",
        "doctest_mode": "BasicMagics",
        "echo": "Other",
        "ed": "Other",
        "edit": "KernelMagics",
        "env": "OSMagics",
        "gui": "BasicMagics",
        "hist": "Other",
        "history": "HistoryMagics",
        "killbgscripts": "ScriptMagics",
        "ldir": "Other",
        "less": "KernelMagics",
        "load": "CodeMagics",
        "load_ext": "ExtensionMagics",
        "loadpy": "CodeMagics",
        "logoff": "LoggingMagics",
        "logon": "LoggingMagics",
        "logstart": "LoggingMagics",
        "logstate": "LoggingMagics",
        "logstop": "LoggingMagics",
        "ls": "Other",
        "lsmagic": "BasicMagics",
        "macro": "ExecutionMagics",
        "magic": "BasicMagics",
        "matplotlib": "PylabMagics",
        "mkdir": "Other",
        "more": "KernelMagics",
        "notebook": "BasicMagics",
        "page": "BasicMagics",
        "pastebin": "CodeMagics",
        "pdb": "ExecutionMagics",
        "pdef": "NamespaceMagics",
        "pdoc": "NamespaceMagics",
        "pfile": "NamespaceMagics",
        "pinfo": "NamespaceMagics",
        "pinfo2": "NamespaceMagics",
        "pip": "BasicMagics",
        "popd": "OSMagics",
        "pprint": "BasicMagics",
        "precision": "BasicMagics",
        "prun": "ExecutionMagics",
        "psearch": "NamespaceMagics",
        "psource": "NamespaceMagics",
        "pushd": "OSMagics",
        "pwd": "OSMagics",
        "pycat": "OSMagics",
        "pylab": "PylabMagics",
        "qtconsole": "KernelMagics",
        "quickref": "BasicMagics",
        "recall": "HistoryMagics",
        "rehashx": "OSMagics",
        "reload_ext": "ExtensionMagics",
        "ren": "Other",
        "rep": "Other",
        "rerun": "HistoryMagics",
        "reset": "NamespaceMagics",
        "reset_selective": "NamespaceMagics",
        "rmdir": "Other",
        "run": "ExecutionMagics",
        "save": "CodeMagics",
        "sc": "OSMagics",
        "set_env": "OSMagics",
        "store": "StoreMagics",
        "sx": "OSMagics",
        "system": "OSMagics",
        "tb": "ExecutionMagics",
        "time": "ExecutionMagics",
        "timeit": "ExecutionMagics",
        "unalias": "OSMagics",
        "unload_ext": "ExtensionMagics",
        "who": "NamespaceMagics",
        "who_ls": "NamespaceMagics",
        "whos": "NamespaceMagics",
        "xdel": "NamespaceMagics",
        "xmode": "BasicMagics"
       }
      },
      "text/plain": [
       "Available line magics:\n",
       "%alias  %alias_magic  %autoawait  %autocall  %automagic  %autosave  %bookmark  %cd  %clear  %cls  %colors  %config  %connect_info  %copy  %ddir  %debug  %dhist  %dirs  %doctest_mode  %echo  %ed  %edit  %env  %gui  %hist  %history  %killbgscripts  %ldir  %less  %load  %load_ext  %loadpy  %logoff  %logon  %logstart  %logstate  %logstop  %ls  %lsmagic  %macro  %magic  %matplotlib  %mkdir  %more  %notebook  %page  %pastebin  %pdb  %pdef  %pdoc  %pfile  %pinfo  %pinfo2  %popd  %pprint  %precision  %prun  %psearch  %psource  %pushd  %pwd  %pycat  %pylab  %qtconsole  %quickref  %recall  %rehashx  %reload_ext  %ren  %rep  %rerun  %reset  %reset_selective  %rmdir  %run  %save  %sc  %set_env  %store  %sx  %system  %tb  %time  %timeit  %unalias  %unload_ext  %who  %who_ls  %whos  %xdel  %xmode\n",
       "\n",
       "Available cell magics:\n",
       "%%!  %%HTML  %%SVG  %%bash  %%capture  %%cmd  %%debug  %%file  %%html  %%javascript  %%js  %%latex  %%markdown  %%perl  %%prun  %%pypy  %%python  %%python2  %%python3  %%ruby  %%script  %%sh  %%svg  %%sx  %%system  %%time  %%timeit  %%writefile\n",
       "\n",
       "Automagic is ON, % prefix IS NOT needed for line magics."
      ]
     },
     "execution_count": 16,
     "metadata": {},
     "output_type": "execute_result"
    }
   ],
   "source": [
    "%lsmagic"
   ]
  },
  {
   "cell_type": "code",
   "execution_count": 7,
   "metadata": {
    "ExecuteTime": {
     "end_time": "2018-12-05T02:08:18.654885Z",
     "start_time": "2018-12-05T02:08:18.634765Z"
    }
   },
   "outputs": [],
   "source": [
    "df.to_csv('tmp.csv')\n",
    "\n",
    "df2 = pd.read_csv('tmp.csv', index_col= [0], header=[0])\n",
    "df2"
   ]
  },
  {
   "cell_type": "code",
   "execution_count": null,
   "metadata": {},
   "outputs": [],
   "source": []
  }
 ],
 "metadata": {
  "kernelspec": {
   "display_name": "Python 3",
   "language": "python",
   "name": "python3"
  },
  "language_info": {
   "codemirror_mode": {
    "name": "ipython",
    "version": 3
   },
   "file_extension": ".py",
   "mimetype": "text/x-python",
   "name": "python",
   "nbconvert_exporter": "python",
   "pygments_lexer": "ipython3",
   "version": "3.7.1"
  },
  "toc": {
   "base_numbering": 1,
   "nav_menu": {},
   "number_sections": true,
   "sideBar": true,
   "skip_h1_title": false,
   "title_cell": "Table of Contents",
   "title_sidebar": "Contents",
   "toc_cell": false,
   "toc_position": {},
   "toc_section_display": true,
   "toc_window_display": false
  },
  "varInspector": {
   "cols": {
    "lenName": 16,
    "lenType": 16,
    "lenVar": 40
   },
   "kernels_config": {
    "python": {
     "delete_cmd_postfix": "",
     "delete_cmd_prefix": "del ",
     "library": "var_list.py",
     "varRefreshCmd": "print(var_dic_list())"
    },
    "r": {
     "delete_cmd_postfix": ") ",
     "delete_cmd_prefix": "rm(",
     "library": "var_list.r",
     "varRefreshCmd": "cat(var_dic_list()) "
    }
   },
   "types_to_exclude": [
    "module",
    "function",
    "builtin_function_or_method",
    "instance",
    "_Feature"
   ],
   "window_display": false
  }
 },
 "nbformat": 4,
 "nbformat_minor": 2
}
