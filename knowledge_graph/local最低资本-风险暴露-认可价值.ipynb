{
 "cells": [
  {
   "cell_type": "code",
   "execution_count": null,
   "metadata": {},
   "outputs": [],
   "source": []
  },
  {
   "cell_type": "code",
   "execution_count": null,
   "metadata": {},
   "outputs": [],
   "source": []
  },
  {
   "cell_type": "markdown",
   "metadata": {},
   "source": [
    "## 依赖文件pending calc"
   ]
  },
  {
   "cell_type": "code",
   "execution_count": 1,
   "metadata": {
    "collapsed": true
   },
   "outputs": [],
   "source": [
    "%run ../kgraph/calc.py\n"
   ]
  },
  {
   "cell_type": "markdown",
   "metadata": {
    "heading_collapsed": true
   },
   "source": [
    "## com.date.name"
   ]
  },
  {
   "cell_type": "code",
   "execution_count": 2,
   "metadata": {
    "collapsed": true,
    "hidden": true
   },
   "outputs": [],
   "source": [
    "# com.date.name\n",
    "\n",
    "\n",
    "sql_dwzd_date  = ''' SELECT   distinct a.DWZD_BH AS '机构编号', a.INST_DATE AS '发生日期', b.y as name\n",
    "         FROM psx_dw_instdata a , (\n",
    "              select DWZD_BH as x, DWZD_MC  as y from rpt_dwzd where dwzd_bh in (\n",
    "           SELECT   distinct a.DWZD_BH as bh\n",
    "                 FROM psx_dw_instdata a\n",
    "                 where length(a.DWZD_BH) = 6\n",
    "         )) b\n",
    "         where length(a.DWZD_BH) = 6 and a.DWZD_BH = b.x\n",
    "          '''\n",
    "results_dwzd_date = query(sql_dwzd_date)"
   ]
  },
  {
   "cell_type": "code",
   "execution_count": null,
   "metadata": {
    "hidden": true
   },
   "outputs": [],
   "source": []
  },
  {
   "cell_type": "markdown",
   "metadata": {
    "heading_collapsed": true
   },
   "source": [
    "## 获取最低资本向量"
   ]
  },
  {
   "cell_type": "code",
   "execution_count": null,
   "metadata": {
    "hidden": true
   },
   "outputs": [],
   "source": []
  },
  {
   "cell_type": "code",
   "execution_count": 5,
   "metadata": {
    "collapsed": true,
    "hidden": true
   },
   "outputs": [],
   "source": [
    "# bar3d\n",
    "\n",
    "import pandas as pd\n",
    "import numpy as np\n",
    "# return [ [com,date, dw_name, arr] , ..]\n",
    "def get_topk(label , keys, k=999999, ):\n",
    "    # count buy companies of each stock \n",
    "    cql = \"match (n)-->(out:%s) return count(n) as cc, id(out) as stock_id order by cc desc\" % label\n",
    "    li = graph.data(cql)\n",
    "    stock_ids = []\n",
    "    stock_nums = []\n",
    "    for i in li:\n",
    "        stock_ids.append(i['stock_id'])\n",
    "        stock_nums.append(i['cc'])\n",
    "\n",
    "\n",
    "    # 超级慢！！ 20 mins\n",
    "    com_date_stock300=[]\n",
    "\n",
    "    min_capital_keys = keys\n",
    "\n",
    "\n",
    "    for com, date, dw_name in results_dwzd_date[:]:\n",
    "        # print(com,date, dw_name)\n",
    "        # arr 表示feature的值，k维向量； eg 最低资本\n",
    "        arr = []\n",
    "        # 股票top k\n",
    "        for i in stock_ids[:k]:\n",
    "            # 当前 i 股票，单位时间购买的最低资本\n",
    "#             cql = \"match (c:company{dwzd_bh :'%s'})-->(d:date{inst_date: '%s'})-[*]->(oa:own_amount)-->(s:%s)\\\n",
    "#             where id(s) = %d \\\n",
    "#             return oa \" %(com, date, label, i)\n",
    "            cql = \"match (oa:own_amount)-->(s:%s) where oa.tmp_dwzd_bh = '%s' \\\n",
    "                and oa.tmp_inst_date = '%s' and id(s) = %d  return oa\" %( label,com, date, i)\n",
    "            cur = graph.run(cql)\n",
    "            current_stock_sum = 0\n",
    "            while cur.forward():\n",
    "                oa = cur.current().values()[0]\n",
    "                # 找到当前最低资本key\n",
    "                key = (  set(dict(oa).keys()) & set(min_capital_keys)  ).pop()\n",
    "                if key is None:\n",
    "                    continue\n",
    "                else:\n",
    "                    current_stock_sum += float(oa[key])\n",
    "            else:\n",
    "                arr.append(current_stock_sum)\n",
    "        com_date_stock300.append([com,date, dw_name, arr])\n",
    "    \n",
    "    stock_dic = {}\n",
    "    for i in com_date_stock300:\n",
    "        stock_dic ['-'.join(i[:3])] = i[3]\n",
    "    \n",
    "    df = pd.DataFrame(  stock_dic , index= stock_ids[:k])\n",
    "    df.to_csv(\"./\"+label+'.csv')\n",
    "        \n",
    "    return com_date_stock300, df\n",
    "\n",
    "\n",
    "# keys = [\n",
    "#     \"EquityPriceRiskStockNoHedgingAndUnqualifiedHedgingMinimumCapital\",\n",
    "#     \"EquityPriceRiskStockQualifiedHedgingMinimumCapitalOfHedgingPortfolio\",\n",
    "#     \"EquityPriceRiskUnlistedEquitiesMinimumCapital\",\n",
    "#     \"EquityPriceRiskPreferredSharesMinimumCapital\",\n",
    "#     \"EquityPriceRiskShortPositionOfStockIndexFuturesOutOfEffectivenessMinimumCapital\",\n",
    "# ]   \n",
    "\n",
    "# tt , ddf= get_topk('stock' ,keys= keys, k= 9999)      \n",
    "# print(tt)"
   ]
  },
  {
   "cell_type": "code",
   "execution_count": 7,
   "metadata": {
    "collapsed": true,
    "hidden": true
   },
   "outputs": [],
   "source": [
    "import numpy as np\n",
    "import matplotlib.pyplot as plt\n",
    "def calc_similarity(com_date_stock300, distance = 'cos' ):\n",
    "    # 计算相似度\n",
    "    similarity = []\n",
    "    for i,vec1 in enumerate(com_date_stock300):\n",
    "        k = i+1\n",
    "        # if i >2: break\n",
    "        for j in range(len(com_date_stock300))[k:]:\n",
    "            vec2 = com_date_stock300[j]\n",
    "            vector1 = np.array([i+0.00000000001 for i in vec1[3]])\n",
    "            vector2 = np.array([i+0.00000000001 for i in vec2[3]])\n",
    "            cos =np.dot(vector1,vector2)/ (np.linalg.norm(vector1)*(np.linalg.norm(vector2)))  \n",
    "            similarity.append([vec1[:3], vec2[:3], cos])\n",
    "\n",
    "    similarity = sorted(similarity, key = lambda x: x[2], reverse = True)\n",
    "\n",
    "\n",
    "    simi = []\n",
    "    for s in similarity:\n",
    "        simi.append(s[2])\n",
    "\n",
    "\n",
    "\n",
    "    x = np.arange(0, len(simi));\n",
    "    y = np.array(simi)\n",
    "    plt.plot(x, y)\n",
    "    plt.show()\n",
    "    return similarity\n",
    "\n",
    "\n",
    "# print(tt[0])\n",
    "# print([i[:3] + i[3][:300] for i in tt[:3]])\n",
    "# si_t = calc_similarity([i[:3] + [i[3][:23]] for i in tt])"
   ]
  },
  {
   "cell_type": "code",
   "execution_count": null,
   "metadata": {
    "hidden": true
   },
   "outputs": [],
   "source": []
  },
  {
   "cell_type": "code",
   "execution_count": null,
   "metadata": {
    "collapsed": true,
    "hidden": true
   },
   "outputs": [],
   "source": []
  },
  {
   "cell_type": "code",
   "execution_count": 6,
   "metadata": {
    "collapsed": true,
    "hidden": true
   },
   "outputs": [],
   "source": [
    "\n",
    "\n",
    "MinimumCapital_keys = {\n",
    "    \n",
    "    # \"1.外汇 forex MR27 MR28 MR29 hold\" \n",
    "    'forex':[\n",
    "        \"ExchangeRateRiskForeignCurrencyDenominatedAssetsLiabilitiesUnhedgedOrIneffectivelyHedgedMinimumCapital\",\n",
    "        \"ExchangeRateRiskForeignCurrencyDenominatedAssetsLiabilitiesHighlyEffectivelyHedgedMinimumCapitalOfHedgingPortfolio\",\n",
    "        \"ExchangeRateRiskForeignExchangeForwardAssetsLiabilitiesIneffectivelyHedgedMinimumCapitalOfForeignExchangeForwardContracts\"],\n",
    "\n",
    "    # \"10.股权 equity MR11 MR15 MR17 MR22 hold\"\n",
    "    'equity':[\n",
    "        \"EquityPriceRiskUnlistedEquitiesMinimumCapital\",\n",
    "        \"EquityPriceRiskInfrastructureEquityInvestmentPlansMinimumCapital\",\n",
    "        \"EquityPriceRiskUnlistedEquityInvestmentPlansMinimumCapital\",\n",
    "        \"EquityPriceRiskLongTermEquityInvestmentsInSubsidiariesJointVenturesAndAssociatedCompaniesMinimumCapital\",\n",
    "    ],\n",
    "    # 8.股票 stock MR09 MR10 MR19 MR20 MR21 buy\n",
    "    \"stock\":[\n",
    "        \"EquityPriceRiskStockNoHedgingAndUnqualifiedHedgingMinimumCapital\",\n",
    "        \"EquityPriceRiskStockQualifiedHedgingMinimumCapitalOfHedgingPortfolio\",\n",
    "        \"EquityPriceRiskUnlistedEquitiesMinimumCapital\",\n",
    "        \"EquityPriceRiskPreferredSharesMinimumCapital\",\n",
    "        \"EquityPriceRiskShortPositionOfStockIndexFuturesOutOfEffectivenessMinimumCapital\",\n",
    "    ]   ,\n",
    "\n",
    "    # 2.产品 product CR06 CR08 CR09 CR10 CR11 CR12 CR13   MR08 MR16  MR18 buy\n",
    "    \"product\":[\n",
    "        \"CounterpartyDefaultRiskAssetSecuritizationProductsMinimumCapital\",\n",
    "        \"CounterpartyDefaultRiskTrustPlansMinimumCapital\",\n",
    "        \"CounterpartyDefaultRiskTrustPlansMinimumCapitalOfUnderlyingAssets\",\n",
    "        \"CounterpartyDefaultRiskAssetManagementProductsMinimumCapital\",\n",
    "        \"CounterpartyDefaultRiskInfrastructureDebtInvestmentPlansMinimumCapital\",\n",
    "        \"CounterpartyDefaultRiskPropertyDebtInvestmentPlansMinimumCapital\",\n",
    "        \"CounterpartyDefaultRiskProjectAssetBackedPlansMinimumCapital\",\n",
    "        \"InterestRateRiskOtherFixedIncomeProductsMinimumCapital\",\n",
    "        \"EquityPriceRiskAssetManagementProductsMinimumCapital\",\n",
    "        \"EquityPriceRiskEquityTrustPlansMinimumCapital\",\n",
    "    ],\n",
    "\n",
    "    # 3.合约 contract MR05 CR14  hold\n",
    "    \"contract\":[\n",
    "        \"CounterpartyDefaultRiskForwardForeignExchangeContractsAndInterestRateSwapsForPurposeOfHedgingMinimumCapital\",\n",
    "        \"InterestRateRiskInterestRateDerivativesInterestRateSwapsMinimumCapital\",\n",
    "    ],\n",
    "\n",
    "    # 4.再保险 reinsurance CR15 CR16 CR17 hold\n",
    "    \"reinsurance\":[\n",
    "        \"CounterpartyDefaultRiskOutwardReinsuranceAssetsMinimumCapital\",\n",
    "        \"CounterpartyDefaultRiskOutwardReinsuranceAssetsMinimumCapital\",\n",
    "        \"CounterpartyDefaultRiskInwardReinsuranceAssetsMinimumCapital\",\n",
    "    ],\n",
    "\n",
    "    # 5.债券 bond MR03 CR05 buy\n",
    "    \"bond\":[\n",
    "        \"CounterpartyDefaultRiskEnterpriseBondsCorporateBondsMinimumCapital\",\n",
    "        \"InterestRateRiskBondAssetsNoHedgingAndUnqualifiedHedgingMinimumCapital\",\n",
    "    ],\n",
    "\n",
    "    # 6.资产 assets CR01 buy\n",
    "    \"assets\":[\n",
    "        \"CreditRiskMinimumCapitalForSpreadRisk\",\n",
    "    ],\n",
    "\n",
    "    # 7.房地产 real estate MR23 MR24 hold\n",
    "    \"real_estate\":[\n",
    "        \"MarketRiskMinimumCapitalForPropertyPriceRisk\",\n",
    "        \"MarketRiskMinimumCapitalForPropertyPriceRisk\",\n",
    "    ],\n",
    "\n",
    "    # 9.基金 fund MR12 MR13 buy\n",
    "    \"fund\":[\n",
    "        \"EquityPriceRiskSecuritiesInvestmentFundMinimumCapital\",\n",
    "        \"EquityPriceRiskSecuritiesInvestmentFundMinimumCapital\",\n",
    "    ],\n",
    "\n",
    "\n",
    "\n",
    "    # 11.境外 overseas MR25 MR26 buy\n",
    "    \"overseas\":[\n",
    "        \"MarketRiskMinimumCapitalForOverseasFixedIncomeInvestmentAssetsPriceRisk\",\n",
    "        \"MarketRiskMinimumCapitalForOverseasEquityInvestmentAssetsPriceRisk\",\n",
    "    ],\n",
    "\n",
    "    # 12.可转债 convertible bond  MR14 buy\n",
    "    \"convertible_bond\":[\n",
    "        \"EquityPriceRiskConvertibleBondMinimumCapital\",\n",
    "    ],\n",
    "    # 13.证券 security MR04 MR06 MR07 hold\n",
    "    \"security\":[\n",
    "        \"InterestRateRiskAssetSecuritizationProductsMinimumCapital\",\n",
    "        # 下面有两个最低资本\n",
    "        \"InterestRateRiskInterestRateDerivativesGovernmentBondFuturesQualifiedHedgingMinimumCapitalOfHedgedBondPortfolio\",    \n",
    "        \"InterestRateRiskInterestRateDerivativesGovernmentBondFuturesQualifiedHedgingMinimumCapitalOfHedgingPortfolio\",\n",
    "        \"InterestRateRiskInterestRateDerivativesGovernmentBondFuturesUnqualifiedHedgingMinimumCapital\",\n",
    "    ],\n",
    "\n",
    "\n",
    "}\n",
    "\n",
    "MinimumCapital_arrays = {}\n",
    "MinimumCapital_dfs = {}\n",
    "\n",
    "for label, keys in MinimumCapital_keys.items():\n",
    "    \n",
    "    MinimumCapital_arrays[label], MinimumCapital_dfs[label] = get_topk(label, keys, k = 9999)"
   ]
  },
  {
   "cell_type": "code",
   "execution_count": null,
   "metadata": {
    "collapsed": true,
    "hidden": true
   },
   "outputs": [],
   "source": []
  },
  {
   "cell_type": "markdown",
   "metadata": {
    "heading_collapsed": true
   },
   "source": [
    "## 获取风险暴露和最低资本"
   ]
  },
  {
   "cell_type": "code",
   "execution_count": null,
   "metadata": {
    "hidden": true
   },
   "outputs": [],
   "source": []
  },
  {
   "cell_type": "code",
   "execution_count": 8,
   "metadata": {
    "code_folding": [
     2
    ],
    "collapsed": true,
    "hidden": true
   },
   "outputs": [],
   "source": [
    "\n",
    "\n",
    "def exposure_cost(label , k=999999, ):\n",
    "    # count buy companies of each stock \n",
    "    cql = \"match (o:own_amount)-->(out:%s) \\\n",
    "    where any ( i in keys(o) where  i =~ '.*PurchaseCost.*' )           \\\n",
    "    and any ( i in keys(o) where  i =~ '.*RiskExposure.*' )  \\\n",
    "    return count(o) as cc, \\\n",
    "    id(out) as stock_id order by cc desc\" % label\n",
    "    li = graph.data(cql)\n",
    "    stock_ids = []\n",
    "    stock_nums = []\n",
    "    for i in li:\n",
    "        stock_ids.append(i['stock_id'])\n",
    "        stock_nums.append(i['cc'])\n",
    "\n",
    "    # 超级慢！！ 20 mins\n",
    "    expo_out=[]\n",
    "    cost_out=[]\n",
    "\n",
    "    for com, date, dw_name in results_dwzd_date[:]:\n",
    "        # arr 表示feature的值，k维向量； eg 最低资本\n",
    "        arr1 = []\n",
    "        arr2 = []\n",
    "        # 股票top k\n",
    "        for i in stock_ids[:k]:\n",
    "            # 当前 i 股票，单位时间购买的最低资本\n",
    "#             cql = \"(oa:own_amount)-->(s:%s)\\\n",
    "#             where id(s) = %d \\\n",
    "#             return oa \" %(com, date, label, i)\n",
    "            \n",
    "            cql = \"match (oa:own_amount)-->(s:%s) where oa.tmp_dwzd_bh = '%s' \\\n",
    "                and oa.tmp_inst_date = '%s' and id(s) = %d  return oa\" %( label,com, date, i)\n",
    "            cur = graph.run(cql)\n",
    "            expo_sum = 0\n",
    "            cost_sum = 0\n",
    "            while cur.forward():\n",
    "                oa = cur.current().values()[0]\n",
    "                # 找到当前最低资本key\n",
    "                # key = (  set(dict(oa).keys()) & set(min_capital_keys)  ).pop()\n",
    "                key1 = [ kk for kk in dict(oa).keys() if \"RiskExposure\" in kk ]\n",
    "                key2 = [ kk for kk in dict(oa).keys() if \"PurchaseCost\" in kk ]\n",
    "                if key1 == []:\n",
    "                    continue\n",
    "                else:\n",
    "                    key1 = key1[0]\n",
    "                if key2 == []:\n",
    "                    continue\n",
    "                else:\n",
    "                    key2 = key2[0]\n",
    "                expo_sum += float(oa[key1])\n",
    "                cost_sum += float(oa[key2])\n",
    "                \n",
    "            else:\n",
    "                arr1.append(expo_sum)\n",
    "                arr2.append(cost_sum)\n",
    "        expo_out.append([com,date, dw_name, arr1])\n",
    "        cost_out.append([com,date, dw_name, arr2])\n",
    "    \n",
    "    dic1 = {}\n",
    "    dic2 = {}\n",
    "    for i in expo_out:\n",
    "        dic1 ['-'.join(i[:3])] = i[3]\n",
    "    for i in cost_out:\n",
    "        dic2 ['-'.join(i[:3])] = i[3]\n",
    "    \n",
    "    df = pd.DataFrame(  dic1 , index= stock_ids[:k])\n",
    "    df.to_csv(\"./expo_\"+label+'.csv')\n",
    "    df = pd.DataFrame(  dic2 , index= stock_ids[:k])\n",
    "    df.to_csv(\"./cost_\"+label+'.csv')\n",
    "        \n",
    "\n",
    "ex_cost_labels = [\n",
    "    \"equity\",\n",
    "    \"stock\",\n",
    "    \"convertible_bond\",\n",
    "    \n",
    "    \"overseas\",\n",
    "    \"product\",\n",
    "    \"fund\",\n",
    "]  \n",
    "\n",
    "for exlabel in ex_cost_labels:\n",
    "    exposure_cost(exlabel)"
   ]
  },
  {
   "cell_type": "code",
   "execution_count": null,
   "metadata": {
    "collapsed": true,
    "hidden": true
   },
   "outputs": [],
   "source": []
  }
 ],
 "metadata": {
  "kernelspec": {
   "display_name": "Python 3",
   "language": "python",
   "name": "python3"
  },
  "language_info": {
   "codemirror_mode": {
    "name": "ipython",
    "version": 3
   },
   "file_extension": ".py",
   "mimetype": "text/x-python",
   "name": "python",
   "nbconvert_exporter": "python",
   "pygments_lexer": "ipython3",
   "version": "3.6.5"
  },
  "toc": {
   "base_numbering": 1,
   "nav_menu": {},
   "number_sections": true,
   "sideBar": true,
   "skip_h1_title": false,
   "title_cell": "Table of Contents",
   "title_sidebar": "Contents",
   "toc_cell": false,
   "toc_position": {
    "height": "calc(100% - 180px)",
    "left": "10px",
    "top": "150px",
    "width": "165px"
   },
   "toc_section_display": true,
   "toc_window_display": true
  },
  "varInspector": {
   "cols": {
    "lenName": 16,
    "lenType": 16,
    "lenVar": 40
   },
   "kernels_config": {
    "python": {
     "delete_cmd_postfix": "",
     "delete_cmd_prefix": "del ",
     "library": "var_list.py",
     "varRefreshCmd": "print(var_dic_list())"
    },
    "r": {
     "delete_cmd_postfix": ") ",
     "delete_cmd_prefix": "rm(",
     "library": "var_list.r",
     "varRefreshCmd": "cat(var_dic_list()) "
    }
   },
   "types_to_exclude": [
    "module",
    "function",
    "builtin_function_or_method",
    "instance",
    "_Feature"
   ],
   "window_display": false
  }
 },
 "nbformat": 4,
 "nbformat_minor": 2
}
