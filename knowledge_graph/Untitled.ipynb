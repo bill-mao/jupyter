{
 "cells": [
  {
   "cell_type": "code",
   "execution_count": 2,
   "metadata": {
    "ExecuteTime": {
     "end_time": "2018-07-14T08:19:03.309769Z",
     "start_time": "2018-07-14T08:19:01.891157Z"
    }
   },
   "outputs": [
    {
     "name": "stdout",
     "output_type": "stream",
     "text": [
      "1 1 2 2 2 1 1 2 2 0\n",
      "1\n",
      "1\n",
      "2\n",
      "2\n",
      "2\n",
      "1\n",
      "1\n",
      "2\n",
      "2\n",
      "22\n"
     ]
    }
   ],
   "source": [
    "\n",
    "seq = [int(i) for i in input().split()]\n",
    "current = 2\n",
    "score = 0\n",
    "for i in seq[:-1]:\n",
    "    if i ==2:\n",
    "        score+= current\n",
    "        current +=2\n",
    "    else:\n",
    "        score += 1\n",
    "        current = 2\n",
    "print(score)    \n",
    "# print(seq)    \n"
   ]
  },
  {
   "cell_type": "code",
   "execution_count": 6,
   "metadata": {
    "ExecuteTime": {
     "end_time": "2018-07-14T08:22:50.682637Z",
     "start_time": "2018-07-14T08:22:48.172946Z"
    }
   },
   "outputs": [
    {
     "name": "stdout",
     "output_type": "stream",
     "text": [
      "3  4  6 7 \n",
      "[3, 4, 6, 7]\n"
     ]
    }
   ],
   "source": [
    "seq = map(int, input().split())\n",
    "print(list(seq))"
   ]
  },
  {
   "cell_type": "code",
   "execution_count": 10,
   "metadata": {
    "ExecuteTime": {
     "end_time": "2018-06-20T10:12:24.843022Z",
     "start_time": "2018-06-20T10:12:24.823050Z"
    }
   },
   "outputs": [
    {
     "data": {
      "text/plain": [
       "{'__name__': '__main__',\n",
       " '__doc__': 'Automatically created module for IPython interactive environment',\n",
       " '__package__': None,\n",
       " '__loader__': None,\n",
       " '__spec__': None,\n",
       " '__builtin__': <module 'builtins' (built-in)>,\n",
       " '__builtins__': <module 'builtins' (built-in)>,\n",
       " '_ih': ['',\n",
       "  \"print('sdsd')\",\n",
       "  \"get_ipython().run_line_magic('env', '')\",\n",
       "  'globals()',\n",
       "  \"aaa = 'dsd'\\nget_ipython().run_line_magic('env', '')\",\n",
       "  \"get_ipython().run_line_magic('lsmagic', '')\",\n",
       "  \"get_ipython().run_line_magic('colors', '')\",\n",
       "  \"get_ipython().run_line_magic('dirs', '')\",\n",
       "  \"get_ipython().run_line_magic('who', '')\",\n",
       "  'gloabls()',\n",
       "  'globals()'],\n",
       " '_oh': {2: {'ALLUSERSPROFILE': 'C:\\\\ProgramData',\n",
       "   'APPDATA': 'C:\\\\Users\\\\coral\\\\AppData\\\\Roaming',\n",
       "   'COMMONPROGRAMFILES': 'C:\\\\Program Files (x86)\\\\Common Files',\n",
       "   'COMMONPROGRAMFILES(X86)': 'C:\\\\Program Files (x86)\\\\Common Files',\n",
       "   'COMMONPROGRAMW6432': 'C:\\\\Program Files\\\\Common Files',\n",
       "   'COMPUTERNAME': 'THINKPAD',\n",
       "   'COMSPEC': 'C:\\\\WINDOWS\\\\system32\\\\cmd.exe',\n",
       "   'FPS_BROWSER_APP_PROFILE_STRING': 'Internet Explorer',\n",
       "   'FPS_BROWSER_USER_PROFILE_STRING': 'Default',\n",
       "   'HOMEDRIVE': 'C:',\n",
       "   'HOMEPATH': '\\\\Users\\\\coral',\n",
       "   'LOCALAPPDATA': 'C:\\\\Users\\\\coral\\\\AppData\\\\Local',\n",
       "   'LOGONSERVER': '\\\\\\\\THINKPAD',\n",
       "   'MOZ_PLUGIN_PATH': 'C:\\\\Program Files\\\\Tracker Software\\\\PDF Viewer\\\\Win32\\\\',\n",
       "   'NUMBER_OF_PROCESSORS': '4',\n",
       "   'OS': 'Windows_NT',\n",
       "   'PATH': 'C:\\\\Program Files (x86)\\\\Common Files\\\\Oracle\\\\Java\\\\javapath;C:\\\\Program Files (x86)\\\\Python36-32\\\\Scripts\\\\;C:\\\\Program Files (x86)\\\\Python36-32\\\\;C:\\\\WINDOWS\\\\system32;C:\\\\WINDOWS;C:\\\\WINDOWS\\\\System32\\\\Wbem;C:\\\\WINDOWS\\\\System32\\\\WindowsPowerShell\\\\v1.0\\\\;C:\\\\Program Files\\\\Git\\\\cmd;C:\\\\Program Files (x86)\\\\Bitvise SSH Client;C:\\\\Users\\\\coral\\\\AppData\\\\Local\\\\Microsoft\\\\WindowsApps;C:\\\\Program Files\\\\Bandizip\\\\;c:\\\\program files (x86)\\\\python36-32\\\\lib\\\\site-packages\\\\numpy\\\\.libs',\n",
       "   'PATHEXT': '.COM;.EXE;.BAT;.CMD;.VBS;.VBE;.JS;.JSE;.WSF;.WSH;.MSC;.PY;.PYW',\n",
       "   'PROCESSOR_ARCHITECTURE': 'x86',\n",
       "   'PROCESSOR_ARCHITEW6432': 'AMD64',\n",
       "   'PROCESSOR_IDENTIFIER': 'Intel64 Family 6 Model 142 Stepping 9, GenuineIntel',\n",
       "   'PROCESSOR_LEVEL': '6',\n",
       "   'PROCESSOR_REVISION': '8e09',\n",
       "   'PROGRAMDATA': 'C:\\\\ProgramData',\n",
       "   'PROGRAMFILES': 'C:\\\\Program Files (x86)',\n",
       "   'PROGRAMFILES(X86)': 'C:\\\\Program Files (x86)',\n",
       "   'PROGRAMW6432': 'C:\\\\Program Files',\n",
       "   'PROMPT': '$P$G',\n",
       "   'PSMODULEPATH': 'C:\\\\Program Files\\\\WindowsPowerShell\\\\Modules;C:\\\\WINDOWS\\\\system32\\\\WindowsPowerShell\\\\v1.0\\\\Modules',\n",
       "   'PUBLIC': 'C:\\\\Users\\\\Public',\n",
       "   'SESSIONNAME': 'Console',\n",
       "   'SYSTEMDRIVE': 'C:',\n",
       "   'SYSTEMROOT': 'C:\\\\WINDOWS',\n",
       "   'TEMP': 'C:\\\\Users\\\\coral\\\\AppData\\\\Local\\\\Temp',\n",
       "   'TMP': 'C:\\\\Users\\\\coral\\\\AppData\\\\Local\\\\Temp',\n",
       "   'USERDOMAIN': 'THINKPAD',\n",
       "   'USERDOMAIN_ROAMINGPROFILE': 'THINKPAD',\n",
       "   'USERNAME': 'coral',\n",
       "   'USERPROFILE': 'C:\\\\Users\\\\coral',\n",
       "   'WINDIR': 'C:\\\\WINDOWS',\n",
       "   'JPY_INTERRUPT_EVENT': '1232',\n",
       "   'IPY_INTERRUPT_EVENT': '1232',\n",
       "   'JPY_PARENT_PID': '1208',\n",
       "   'TERM': 'xterm-color',\n",
       "   'CLICOLOR': '1',\n",
       "   'PAGER': 'cat',\n",
       "   'GIT_PAGER': 'cat',\n",
       "   'MPLBACKEND': 'module://ipykernel.pylab.backend_inline'},\n",
       "  3: {...},\n",
       "  4: {'ALLUSERSPROFILE': 'C:\\\\ProgramData',\n",
       "   'APPDATA': 'C:\\\\Users\\\\coral\\\\AppData\\\\Roaming',\n",
       "   'COMMONPROGRAMFILES': 'C:\\\\Program Files (x86)\\\\Common Files',\n",
       "   'COMMONPROGRAMFILES(X86)': 'C:\\\\Program Files (x86)\\\\Common Files',\n",
       "   'COMMONPROGRAMW6432': 'C:\\\\Program Files\\\\Common Files',\n",
       "   'COMPUTERNAME': 'THINKPAD',\n",
       "   'COMSPEC': 'C:\\\\WINDOWS\\\\system32\\\\cmd.exe',\n",
       "   'FPS_BROWSER_APP_PROFILE_STRING': 'Internet Explorer',\n",
       "   'FPS_BROWSER_USER_PROFILE_STRING': 'Default',\n",
       "   'HOMEDRIVE': 'C:',\n",
       "   'HOMEPATH': '\\\\Users\\\\coral',\n",
       "   'LOCALAPPDATA': 'C:\\\\Users\\\\coral\\\\AppData\\\\Local',\n",
       "   'LOGONSERVER': '\\\\\\\\THINKPAD',\n",
       "   'MOZ_PLUGIN_PATH': 'C:\\\\Program Files\\\\Tracker Software\\\\PDF Viewer\\\\Win32\\\\',\n",
       "   'NUMBER_OF_PROCESSORS': '4',\n",
       "   'OS': 'Windows_NT',\n",
       "   'PATH': 'C:\\\\Program Files (x86)\\\\Common Files\\\\Oracle\\\\Java\\\\javapath;C:\\\\Program Files (x86)\\\\Python36-32\\\\Scripts\\\\;C:\\\\Program Files (x86)\\\\Python36-32\\\\;C:\\\\WINDOWS\\\\system32;C:\\\\WINDOWS;C:\\\\WINDOWS\\\\System32\\\\Wbem;C:\\\\WINDOWS\\\\System32\\\\WindowsPowerShell\\\\v1.0\\\\;C:\\\\Program Files\\\\Git\\\\cmd;C:\\\\Program Files (x86)\\\\Bitvise SSH Client;C:\\\\Users\\\\coral\\\\AppData\\\\Local\\\\Microsoft\\\\WindowsApps;C:\\\\Program Files\\\\Bandizip\\\\;c:\\\\program files (x86)\\\\python36-32\\\\lib\\\\site-packages\\\\numpy\\\\.libs',\n",
       "   'PATHEXT': '.COM;.EXE;.BAT;.CMD;.VBS;.VBE;.JS;.JSE;.WSF;.WSH;.MSC;.PY;.PYW',\n",
       "   'PROCESSOR_ARCHITECTURE': 'x86',\n",
       "   'PROCESSOR_ARCHITEW6432': 'AMD64',\n",
       "   'PROCESSOR_IDENTIFIER': 'Intel64 Family 6 Model 142 Stepping 9, GenuineIntel',\n",
       "   'PROCESSOR_LEVEL': '6',\n",
       "   'PROCESSOR_REVISION': '8e09',\n",
       "   'PROGRAMDATA': 'C:\\\\ProgramData',\n",
       "   'PROGRAMFILES': 'C:\\\\Program Files (x86)',\n",
       "   'PROGRAMFILES(X86)': 'C:\\\\Program Files (x86)',\n",
       "   'PROGRAMW6432': 'C:\\\\Program Files',\n",
       "   'PROMPT': '$P$G',\n",
       "   'PSMODULEPATH': 'C:\\\\Program Files\\\\WindowsPowerShell\\\\Modules;C:\\\\WINDOWS\\\\system32\\\\WindowsPowerShell\\\\v1.0\\\\Modules',\n",
       "   'PUBLIC': 'C:\\\\Users\\\\Public',\n",
       "   'SESSIONNAME': 'Console',\n",
       "   'SYSTEMDRIVE': 'C:',\n",
       "   'SYSTEMROOT': 'C:\\\\WINDOWS',\n",
       "   'TEMP': 'C:\\\\Users\\\\coral\\\\AppData\\\\Local\\\\Temp',\n",
       "   'TMP': 'C:\\\\Users\\\\coral\\\\AppData\\\\Local\\\\Temp',\n",
       "   'USERDOMAIN': 'THINKPAD',\n",
       "   'USERDOMAIN_ROAMINGPROFILE': 'THINKPAD',\n",
       "   'USERNAME': 'coral',\n",
       "   'USERPROFILE': 'C:\\\\Users\\\\coral',\n",
       "   'WINDIR': 'C:\\\\WINDOWS',\n",
       "   'JPY_INTERRUPT_EVENT': '1232',\n",
       "   'IPY_INTERRUPT_EVENT': '1232',\n",
       "   'JPY_PARENT_PID': '1208',\n",
       "   'TERM': 'xterm-color',\n",
       "   'CLICOLOR': '1',\n",
       "   'PAGER': 'cat',\n",
       "   'GIT_PAGER': 'cat',\n",
       "   'MPLBACKEND': 'module://ipykernel.pylab.backend_inline'},\n",
       "  5: Available line magics:\n",
       "%alias  %alias_magic  %autocall  %automagic  %autosave  %bookmark  %cd  %clear  %cls  %colors  %config  %connect_info  %copy  %ddir  %debug  %dhist  %dirs  %doctest_mode  %echo  %ed  %edit  %env  %gui  %hist  %history  %killbgscripts  %ldir  %less  %load  %load_ext  %loadpy  %logoff  %logon  %logstart  %logstate  %logstop  %ls  %lsmagic  %macro  %magic  %matplotlib  %mkdir  %more  %notebook  %page  %pastebin  %pdb  %pdef  %pdoc  %pfile  %pinfo  %pinfo2  %popd  %pprint  %precision  %profile  %prun  %psearch  %psource  %pushd  %pwd  %pycat  %pylab  %qtconsole  %quickref  %recall  %rehashx  %reload_ext  %ren  %rep  %rerun  %reset  %reset_selective  %rmdir  %run  %save  %sc  %set_env  %store  %sx  %system  %tb  %time  %timeit  %unalias  %unload_ext  %who  %who_ls  %whos  %xdel  %xmode\n",
       "\n",
       "Available cell magics:\n",
       "%%!  %%HTML  %%SVG  %%bash  %%capture  %%cmd  %%debug  %%file  %%html  %%javascript  %%js  %%latex  %%markdown  %%perl  %%prun  %%pypy  %%python  %%python2  %%python3  %%ruby  %%script  %%sh  %%svg  %%sx  %%system  %%time  %%timeit  %%writefile\n",
       "\n",
       "Automagic is ON, % prefix IS NOT needed for line magics.,\n",
       "  7: []},\n",
       " '_dh': ['D:\\\\learn\\\\python\\\\jupyter'],\n",
       " 'In': ['',\n",
       "  \"print('sdsd')\",\n",
       "  \"get_ipython().run_line_magic('env', '')\",\n",
       "  'globals()',\n",
       "  \"aaa = 'dsd'\\nget_ipython().run_line_magic('env', '')\",\n",
       "  \"get_ipython().run_line_magic('lsmagic', '')\",\n",
       "  \"get_ipython().run_line_magic('colors', '')\",\n",
       "  \"get_ipython().run_line_magic('dirs', '')\",\n",
       "  \"get_ipython().run_line_magic('who', '')\",\n",
       "  'gloabls()',\n",
       "  'globals()'],\n",
       " 'Out': {2: {'ALLUSERSPROFILE': 'C:\\\\ProgramData',\n",
       "   'APPDATA': 'C:\\\\Users\\\\coral\\\\AppData\\\\Roaming',\n",
       "   'COMMONPROGRAMFILES': 'C:\\\\Program Files (x86)\\\\Common Files',\n",
       "   'COMMONPROGRAMFILES(X86)': 'C:\\\\Program Files (x86)\\\\Common Files',\n",
       "   'COMMONPROGRAMW6432': 'C:\\\\Program Files\\\\Common Files',\n",
       "   'COMPUTERNAME': 'THINKPAD',\n",
       "   'COMSPEC': 'C:\\\\WINDOWS\\\\system32\\\\cmd.exe',\n",
       "   'FPS_BROWSER_APP_PROFILE_STRING': 'Internet Explorer',\n",
       "   'FPS_BROWSER_USER_PROFILE_STRING': 'Default',\n",
       "   'HOMEDRIVE': 'C:',\n",
       "   'HOMEPATH': '\\\\Users\\\\coral',\n",
       "   'LOCALAPPDATA': 'C:\\\\Users\\\\coral\\\\AppData\\\\Local',\n",
       "   'LOGONSERVER': '\\\\\\\\THINKPAD',\n",
       "   'MOZ_PLUGIN_PATH': 'C:\\\\Program Files\\\\Tracker Software\\\\PDF Viewer\\\\Win32\\\\',\n",
       "   'NUMBER_OF_PROCESSORS': '4',\n",
       "   'OS': 'Windows_NT',\n",
       "   'PATH': 'C:\\\\Program Files (x86)\\\\Common Files\\\\Oracle\\\\Java\\\\javapath;C:\\\\Program Files (x86)\\\\Python36-32\\\\Scripts\\\\;C:\\\\Program Files (x86)\\\\Python36-32\\\\;C:\\\\WINDOWS\\\\system32;C:\\\\WINDOWS;C:\\\\WINDOWS\\\\System32\\\\Wbem;C:\\\\WINDOWS\\\\System32\\\\WindowsPowerShell\\\\v1.0\\\\;C:\\\\Program Files\\\\Git\\\\cmd;C:\\\\Program Files (x86)\\\\Bitvise SSH Client;C:\\\\Users\\\\coral\\\\AppData\\\\Local\\\\Microsoft\\\\WindowsApps;C:\\\\Program Files\\\\Bandizip\\\\;c:\\\\program files (x86)\\\\python36-32\\\\lib\\\\site-packages\\\\numpy\\\\.libs',\n",
       "   'PATHEXT': '.COM;.EXE;.BAT;.CMD;.VBS;.VBE;.JS;.JSE;.WSF;.WSH;.MSC;.PY;.PYW',\n",
       "   'PROCESSOR_ARCHITECTURE': 'x86',\n",
       "   'PROCESSOR_ARCHITEW6432': 'AMD64',\n",
       "   'PROCESSOR_IDENTIFIER': 'Intel64 Family 6 Model 142 Stepping 9, GenuineIntel',\n",
       "   'PROCESSOR_LEVEL': '6',\n",
       "   'PROCESSOR_REVISION': '8e09',\n",
       "   'PROGRAMDATA': 'C:\\\\ProgramData',\n",
       "   'PROGRAMFILES': 'C:\\\\Program Files (x86)',\n",
       "   'PROGRAMFILES(X86)': 'C:\\\\Program Files (x86)',\n",
       "   'PROGRAMW6432': 'C:\\\\Program Files',\n",
       "   'PROMPT': '$P$G',\n",
       "   'PSMODULEPATH': 'C:\\\\Program Files\\\\WindowsPowerShell\\\\Modules;C:\\\\WINDOWS\\\\system32\\\\WindowsPowerShell\\\\v1.0\\\\Modules',\n",
       "   'PUBLIC': 'C:\\\\Users\\\\Public',\n",
       "   'SESSIONNAME': 'Console',\n",
       "   'SYSTEMDRIVE': 'C:',\n",
       "   'SYSTEMROOT': 'C:\\\\WINDOWS',\n",
       "   'TEMP': 'C:\\\\Users\\\\coral\\\\AppData\\\\Local\\\\Temp',\n",
       "   'TMP': 'C:\\\\Users\\\\coral\\\\AppData\\\\Local\\\\Temp',\n",
       "   'USERDOMAIN': 'THINKPAD',\n",
       "   'USERDOMAIN_ROAMINGPROFILE': 'THINKPAD',\n",
       "   'USERNAME': 'coral',\n",
       "   'USERPROFILE': 'C:\\\\Users\\\\coral',\n",
       "   'WINDIR': 'C:\\\\WINDOWS',\n",
       "   'JPY_INTERRUPT_EVENT': '1232',\n",
       "   'IPY_INTERRUPT_EVENT': '1232',\n",
       "   'JPY_PARENT_PID': '1208',\n",
       "   'TERM': 'xterm-color',\n",
       "   'CLICOLOR': '1',\n",
       "   'PAGER': 'cat',\n",
       "   'GIT_PAGER': 'cat',\n",
       "   'MPLBACKEND': 'module://ipykernel.pylab.backend_inline'},\n",
       "  3: {...},\n",
       "  4: {'ALLUSERSPROFILE': 'C:\\\\ProgramData',\n",
       "   'APPDATA': 'C:\\\\Users\\\\coral\\\\AppData\\\\Roaming',\n",
       "   'COMMONPROGRAMFILES': 'C:\\\\Program Files (x86)\\\\Common Files',\n",
       "   'COMMONPROGRAMFILES(X86)': 'C:\\\\Program Files (x86)\\\\Common Files',\n",
       "   'COMMONPROGRAMW6432': 'C:\\\\Program Files\\\\Common Files',\n",
       "   'COMPUTERNAME': 'THINKPAD',\n",
       "   'COMSPEC': 'C:\\\\WINDOWS\\\\system32\\\\cmd.exe',\n",
       "   'FPS_BROWSER_APP_PROFILE_STRING': 'Internet Explorer',\n",
       "   'FPS_BROWSER_USER_PROFILE_STRING': 'Default',\n",
       "   'HOMEDRIVE': 'C:',\n",
       "   'HOMEPATH': '\\\\Users\\\\coral',\n",
       "   'LOCALAPPDATA': 'C:\\\\Users\\\\coral\\\\AppData\\\\Local',\n",
       "   'LOGONSERVER': '\\\\\\\\THINKPAD',\n",
       "   'MOZ_PLUGIN_PATH': 'C:\\\\Program Files\\\\Tracker Software\\\\PDF Viewer\\\\Win32\\\\',\n",
       "   'NUMBER_OF_PROCESSORS': '4',\n",
       "   'OS': 'Windows_NT',\n",
       "   'PATH': 'C:\\\\Program Files (x86)\\\\Common Files\\\\Oracle\\\\Java\\\\javapath;C:\\\\Program Files (x86)\\\\Python36-32\\\\Scripts\\\\;C:\\\\Program Files (x86)\\\\Python36-32\\\\;C:\\\\WINDOWS\\\\system32;C:\\\\WINDOWS;C:\\\\WINDOWS\\\\System32\\\\Wbem;C:\\\\WINDOWS\\\\System32\\\\WindowsPowerShell\\\\v1.0\\\\;C:\\\\Program Files\\\\Git\\\\cmd;C:\\\\Program Files (x86)\\\\Bitvise SSH Client;C:\\\\Users\\\\coral\\\\AppData\\\\Local\\\\Microsoft\\\\WindowsApps;C:\\\\Program Files\\\\Bandizip\\\\;c:\\\\program files (x86)\\\\python36-32\\\\lib\\\\site-packages\\\\numpy\\\\.libs',\n",
       "   'PATHEXT': '.COM;.EXE;.BAT;.CMD;.VBS;.VBE;.JS;.JSE;.WSF;.WSH;.MSC;.PY;.PYW',\n",
       "   'PROCESSOR_ARCHITECTURE': 'x86',\n",
       "   'PROCESSOR_ARCHITEW6432': 'AMD64',\n",
       "   'PROCESSOR_IDENTIFIER': 'Intel64 Family 6 Model 142 Stepping 9, GenuineIntel',\n",
       "   'PROCESSOR_LEVEL': '6',\n",
       "   'PROCESSOR_REVISION': '8e09',\n",
       "   'PROGRAMDATA': 'C:\\\\ProgramData',\n",
       "   'PROGRAMFILES': 'C:\\\\Program Files (x86)',\n",
       "   'PROGRAMFILES(X86)': 'C:\\\\Program Files (x86)',\n",
       "   'PROGRAMW6432': 'C:\\\\Program Files',\n",
       "   'PROMPT': '$P$G',\n",
       "   'PSMODULEPATH': 'C:\\\\Program Files\\\\WindowsPowerShell\\\\Modules;C:\\\\WINDOWS\\\\system32\\\\WindowsPowerShell\\\\v1.0\\\\Modules',\n",
       "   'PUBLIC': 'C:\\\\Users\\\\Public',\n",
       "   'SESSIONNAME': 'Console',\n",
       "   'SYSTEMDRIVE': 'C:',\n",
       "   'SYSTEMROOT': 'C:\\\\WINDOWS',\n",
       "   'TEMP': 'C:\\\\Users\\\\coral\\\\AppData\\\\Local\\\\Temp',\n",
       "   'TMP': 'C:\\\\Users\\\\coral\\\\AppData\\\\Local\\\\Temp',\n",
       "   'USERDOMAIN': 'THINKPAD',\n",
       "   'USERDOMAIN_ROAMINGPROFILE': 'THINKPAD',\n",
       "   'USERNAME': 'coral',\n",
       "   'USERPROFILE': 'C:\\\\Users\\\\coral',\n",
       "   'WINDIR': 'C:\\\\WINDOWS',\n",
       "   'JPY_INTERRUPT_EVENT': '1232',\n",
       "   'IPY_INTERRUPT_EVENT': '1232',\n",
       "   'JPY_PARENT_PID': '1208',\n",
       "   'TERM': 'xterm-color',\n",
       "   'CLICOLOR': '1',\n",
       "   'PAGER': 'cat',\n",
       "   'GIT_PAGER': 'cat',\n",
       "   'MPLBACKEND': 'module://ipykernel.pylab.backend_inline'},\n",
       "  5: Available line magics:\n",
       "%alias  %alias_magic  %autocall  %automagic  %autosave  %bookmark  %cd  %clear  %cls  %colors  %config  %connect_info  %copy  %ddir  %debug  %dhist  %dirs  %doctest_mode  %echo  %ed  %edit  %env  %gui  %hist  %history  %killbgscripts  %ldir  %less  %load  %load_ext  %loadpy  %logoff  %logon  %logstart  %logstate  %logstop  %ls  %lsmagic  %macro  %magic  %matplotlib  %mkdir  %more  %notebook  %page  %pastebin  %pdb  %pdef  %pdoc  %pfile  %pinfo  %pinfo2  %popd  %pprint  %precision  %profile  %prun  %psearch  %psource  %pushd  %pwd  %pycat  %pylab  %qtconsole  %quickref  %recall  %rehashx  %reload_ext  %ren  %rep  %rerun  %reset  %reset_selective  %rmdir  %run  %save  %sc  %set_env  %store  %sx  %system  %tb  %time  %timeit  %unalias  %unload_ext  %who  %who_ls  %whos  %xdel  %xmode\n",
       "\n",
       "Available cell magics:\n",
       "%%!  %%HTML  %%SVG  %%bash  %%capture  %%cmd  %%debug  %%file  %%html  %%javascript  %%js  %%latex  %%markdown  %%perl  %%prun  %%pypy  %%python  %%python2  %%python3  %%ruby  %%script  %%sh  %%svg  %%sx  %%system  %%time  %%timeit  %%writefile\n",
       "\n",
       "Automagic is ON, % prefix IS NOT needed for line magics.,\n",
       "  7: []},\n",
       " 'get_ipython': <function IPython.core.getipython.get_ipython()>,\n",
       " 'exit': <IPython.core.autocall.ZMQExitAutocall at 0x4435d50>,\n",
       " 'quit': <IPython.core.autocall.ZMQExitAutocall at 0x4435d50>,\n",
       " '_': [],\n",
       " '__': Available line magics:\n",
       "%alias  %alias_magic  %autocall  %automagic  %autosave  %bookmark  %cd  %clear  %cls  %colors  %config  %connect_info  %copy  %ddir  %debug  %dhist  %dirs  %doctest_mode  %echo  %ed  %edit  %env  %gui  %hist  %history  %killbgscripts  %ldir  %less  %load  %load_ext  %loadpy  %logoff  %logon  %logstart  %logstate  %logstop  %ls  %lsmagic  %macro  %magic  %matplotlib  %mkdir  %more  %notebook  %page  %pastebin  %pdb  %pdef  %pdoc  %pfile  %pinfo  %pinfo2  %popd  %pprint  %precision  %profile  %prun  %psearch  %psource  %pushd  %pwd  %pycat  %pylab  %qtconsole  %quickref  %recall  %rehashx  %reload_ext  %ren  %rep  %rerun  %reset  %reset_selective  %rmdir  %run  %save  %sc  %set_env  %store  %sx  %system  %tb  %time  %timeit  %unalias  %unload_ext  %who  %who_ls  %whos  %xdel  %xmode\n",
       "\n",
       "Available cell magics:\n",
       "%%!  %%HTML  %%SVG  %%bash  %%capture  %%cmd  %%debug  %%file  %%html  %%javascript  %%js  %%latex  %%markdown  %%perl  %%prun  %%pypy  %%python  %%python2  %%python3  %%ruby  %%script  %%sh  %%svg  %%sx  %%system  %%time  %%timeit  %%writefile\n",
       "\n",
       "Automagic is ON, % prefix IS NOT needed for line magics.,\n",
       " '___': {'ALLUSERSPROFILE': 'C:\\\\ProgramData',\n",
       "  'APPDATA': 'C:\\\\Users\\\\coral\\\\AppData\\\\Roaming',\n",
       "  'COMMONPROGRAMFILES': 'C:\\\\Program Files (x86)\\\\Common Files',\n",
       "  'COMMONPROGRAMFILES(X86)': 'C:\\\\Program Files (x86)\\\\Common Files',\n",
       "  'COMMONPROGRAMW6432': 'C:\\\\Program Files\\\\Common Files',\n",
       "  'COMPUTERNAME': 'THINKPAD',\n",
       "  'COMSPEC': 'C:\\\\WINDOWS\\\\system32\\\\cmd.exe',\n",
       "  'FPS_BROWSER_APP_PROFILE_STRING': 'Internet Explorer',\n",
       "  'FPS_BROWSER_USER_PROFILE_STRING': 'Default',\n",
       "  'HOMEDRIVE': 'C:',\n",
       "  'HOMEPATH': '\\\\Users\\\\coral',\n",
       "  'LOCALAPPDATA': 'C:\\\\Users\\\\coral\\\\AppData\\\\Local',\n",
       "  'LOGONSERVER': '\\\\\\\\THINKPAD',\n",
       "  'MOZ_PLUGIN_PATH': 'C:\\\\Program Files\\\\Tracker Software\\\\PDF Viewer\\\\Win32\\\\',\n",
       "  'NUMBER_OF_PROCESSORS': '4',\n",
       "  'OS': 'Windows_NT',\n",
       "  'PATH': 'C:\\\\Program Files (x86)\\\\Common Files\\\\Oracle\\\\Java\\\\javapath;C:\\\\Program Files (x86)\\\\Python36-32\\\\Scripts\\\\;C:\\\\Program Files (x86)\\\\Python36-32\\\\;C:\\\\WINDOWS\\\\system32;C:\\\\WINDOWS;C:\\\\WINDOWS\\\\System32\\\\Wbem;C:\\\\WINDOWS\\\\System32\\\\WindowsPowerShell\\\\v1.0\\\\;C:\\\\Program Files\\\\Git\\\\cmd;C:\\\\Program Files (x86)\\\\Bitvise SSH Client;C:\\\\Users\\\\coral\\\\AppData\\\\Local\\\\Microsoft\\\\WindowsApps;C:\\\\Program Files\\\\Bandizip\\\\;c:\\\\program files (x86)\\\\python36-32\\\\lib\\\\site-packages\\\\numpy\\\\.libs',\n",
       "  'PATHEXT': '.COM;.EXE;.BAT;.CMD;.VBS;.VBE;.JS;.JSE;.WSF;.WSH;.MSC;.PY;.PYW',\n",
       "  'PROCESSOR_ARCHITECTURE': 'x86',\n",
       "  'PROCESSOR_ARCHITEW6432': 'AMD64',\n",
       "  'PROCESSOR_IDENTIFIER': 'Intel64 Family 6 Model 142 Stepping 9, GenuineIntel',\n",
       "  'PROCESSOR_LEVEL': '6',\n",
       "  'PROCESSOR_REVISION': '8e09',\n",
       "  'PROGRAMDATA': 'C:\\\\ProgramData',\n",
       "  'PROGRAMFILES': 'C:\\\\Program Files (x86)',\n",
       "  'PROGRAMFILES(X86)': 'C:\\\\Program Files (x86)',\n",
       "  'PROGRAMW6432': 'C:\\\\Program Files',\n",
       "  'PROMPT': '$P$G',\n",
       "  'PSMODULEPATH': 'C:\\\\Program Files\\\\WindowsPowerShell\\\\Modules;C:\\\\WINDOWS\\\\system32\\\\WindowsPowerShell\\\\v1.0\\\\Modules',\n",
       "  'PUBLIC': 'C:\\\\Users\\\\Public',\n",
       "  'SESSIONNAME': 'Console',\n",
       "  'SYSTEMDRIVE': 'C:',\n",
       "  'SYSTEMROOT': 'C:\\\\WINDOWS',\n",
       "  'TEMP': 'C:\\\\Users\\\\coral\\\\AppData\\\\Local\\\\Temp',\n",
       "  'TMP': 'C:\\\\Users\\\\coral\\\\AppData\\\\Local\\\\Temp',\n",
       "  'USERDOMAIN': 'THINKPAD',\n",
       "  'USERDOMAIN_ROAMINGPROFILE': 'THINKPAD',\n",
       "  'USERNAME': 'coral',\n",
       "  'USERPROFILE': 'C:\\\\Users\\\\coral',\n",
       "  'WINDIR': 'C:\\\\WINDOWS',\n",
       "  'JPY_INTERRUPT_EVENT': '1232',\n",
       "  'IPY_INTERRUPT_EVENT': '1232',\n",
       "  'JPY_PARENT_PID': '1208',\n",
       "  'TERM': 'xterm-color',\n",
       "  'CLICOLOR': '1',\n",
       "  'PAGER': 'cat',\n",
       "  'GIT_PAGER': 'cat',\n",
       "  'MPLBACKEND': 'module://ipykernel.pylab.backend_inline'},\n",
       " 'json': <module 'json' from 'c:\\\\program files (x86)\\\\python36-32\\\\lib\\\\json\\\\__init__.py'>,\n",
       " 'getsizeof': <function sys.getsizeof>,\n",
       " 'NamespaceMagics': IPython.core.magics.namespace.NamespaceMagics,\n",
       " '_nms': <IPython.core.magics.namespace.NamespaceMagics at 0x9da8490>,\n",
       " '_Jupyter': <ipykernel.zmqshell.ZMQInteractiveShell at 0x3297490>,\n",
       " 'np': <module 'numpy' from 'c:\\\\program files (x86)\\\\python36-32\\\\lib\\\\site-packages\\\\numpy\\\\__init__.py'>,\n",
       " '_getsizeof': <function __main__._getsizeof(x)>,\n",
       " '_getshapeof': <function __main__._getshapeof(x)>,\n",
       " 'var_dic_list': <function __main__.var_dic_list()>,\n",
       " '_i': 'gloabls()',\n",
       " '_ii': '%who',\n",
       " '_iii': '%dirs',\n",
       " '_i1': \"print('sdsd')\",\n",
       " '_i2': '%env',\n",
       " '_2': {'ALLUSERSPROFILE': 'C:\\\\ProgramData',\n",
       "  'APPDATA': 'C:\\\\Users\\\\coral\\\\AppData\\\\Roaming',\n",
       "  'COMMONPROGRAMFILES': 'C:\\\\Program Files (x86)\\\\Common Files',\n",
       "  'COMMONPROGRAMFILES(X86)': 'C:\\\\Program Files (x86)\\\\Common Files',\n",
       "  'COMMONPROGRAMW6432': 'C:\\\\Program Files\\\\Common Files',\n",
       "  'COMPUTERNAME': 'THINKPAD',\n",
       "  'COMSPEC': 'C:\\\\WINDOWS\\\\system32\\\\cmd.exe',\n",
       "  'FPS_BROWSER_APP_PROFILE_STRING': 'Internet Explorer',\n",
       "  'FPS_BROWSER_USER_PROFILE_STRING': 'Default',\n",
       "  'HOMEDRIVE': 'C:',\n",
       "  'HOMEPATH': '\\\\Users\\\\coral',\n",
       "  'LOCALAPPDATA': 'C:\\\\Users\\\\coral\\\\AppData\\\\Local',\n",
       "  'LOGONSERVER': '\\\\\\\\THINKPAD',\n",
       "  'MOZ_PLUGIN_PATH': 'C:\\\\Program Files\\\\Tracker Software\\\\PDF Viewer\\\\Win32\\\\',\n",
       "  'NUMBER_OF_PROCESSORS': '4',\n",
       "  'OS': 'Windows_NT',\n",
       "  'PATH': 'C:\\\\Program Files (x86)\\\\Common Files\\\\Oracle\\\\Java\\\\javapath;C:\\\\Program Files (x86)\\\\Python36-32\\\\Scripts\\\\;C:\\\\Program Files (x86)\\\\Python36-32\\\\;C:\\\\WINDOWS\\\\system32;C:\\\\WINDOWS;C:\\\\WINDOWS\\\\System32\\\\Wbem;C:\\\\WINDOWS\\\\System32\\\\WindowsPowerShell\\\\v1.0\\\\;C:\\\\Program Files\\\\Git\\\\cmd;C:\\\\Program Files (x86)\\\\Bitvise SSH Client;C:\\\\Users\\\\coral\\\\AppData\\\\Local\\\\Microsoft\\\\WindowsApps;C:\\\\Program Files\\\\Bandizip\\\\;c:\\\\program files (x86)\\\\python36-32\\\\lib\\\\site-packages\\\\numpy\\\\.libs',\n",
       "  'PATHEXT': '.COM;.EXE;.BAT;.CMD;.VBS;.VBE;.JS;.JSE;.WSF;.WSH;.MSC;.PY;.PYW',\n",
       "  'PROCESSOR_ARCHITECTURE': 'x86',\n",
       "  'PROCESSOR_ARCHITEW6432': 'AMD64',\n",
       "  'PROCESSOR_IDENTIFIER': 'Intel64 Family 6 Model 142 Stepping 9, GenuineIntel',\n",
       "  'PROCESSOR_LEVEL': '6',\n",
       "  'PROCESSOR_REVISION': '8e09',\n",
       "  'PROGRAMDATA': 'C:\\\\ProgramData',\n",
       "  'PROGRAMFILES': 'C:\\\\Program Files (x86)',\n",
       "  'PROGRAMFILES(X86)': 'C:\\\\Program Files (x86)',\n",
       "  'PROGRAMW6432': 'C:\\\\Program Files',\n",
       "  'PROMPT': '$P$G',\n",
       "  'PSMODULEPATH': 'C:\\\\Program Files\\\\WindowsPowerShell\\\\Modules;C:\\\\WINDOWS\\\\system32\\\\WindowsPowerShell\\\\v1.0\\\\Modules',\n",
       "  'PUBLIC': 'C:\\\\Users\\\\Public',\n",
       "  'SESSIONNAME': 'Console',\n",
       "  'SYSTEMDRIVE': 'C:',\n",
       "  'SYSTEMROOT': 'C:\\\\WINDOWS',\n",
       "  'TEMP': 'C:\\\\Users\\\\coral\\\\AppData\\\\Local\\\\Temp',\n",
       "  'TMP': 'C:\\\\Users\\\\coral\\\\AppData\\\\Local\\\\Temp',\n",
       "  'USERDOMAIN': 'THINKPAD',\n",
       "  'USERDOMAIN_ROAMINGPROFILE': 'THINKPAD',\n",
       "  'USERNAME': 'coral',\n",
       "  'USERPROFILE': 'C:\\\\Users\\\\coral',\n",
       "  'WINDIR': 'C:\\\\WINDOWS',\n",
       "  'JPY_INTERRUPT_EVENT': '1232',\n",
       "  'IPY_INTERRUPT_EVENT': '1232',\n",
       "  'JPY_PARENT_PID': '1208',\n",
       "  'TERM': 'xterm-color',\n",
       "  'CLICOLOR': '1',\n",
       "  'PAGER': 'cat',\n",
       "  'GIT_PAGER': 'cat',\n",
       "  'MPLBACKEND': 'module://ipykernel.pylab.backend_inline'},\n",
       " '_i3': 'globals()',\n",
       " '_3': {...},\n",
       " '_i4': \"aaa = 'dsd'\\n%env\",\n",
       " 'aaa': 'dsd',\n",
       " '_4': {'ALLUSERSPROFILE': 'C:\\\\ProgramData',\n",
       "  'APPDATA': 'C:\\\\Users\\\\coral\\\\AppData\\\\Roaming',\n",
       "  'COMMONPROGRAMFILES': 'C:\\\\Program Files (x86)\\\\Common Files',\n",
       "  'COMMONPROGRAMFILES(X86)': 'C:\\\\Program Files (x86)\\\\Common Files',\n",
       "  'COMMONPROGRAMW6432': 'C:\\\\Program Files\\\\Common Files',\n",
       "  'COMPUTERNAME': 'THINKPAD',\n",
       "  'COMSPEC': 'C:\\\\WINDOWS\\\\system32\\\\cmd.exe',\n",
       "  'FPS_BROWSER_APP_PROFILE_STRING': 'Internet Explorer',\n",
       "  'FPS_BROWSER_USER_PROFILE_STRING': 'Default',\n",
       "  'HOMEDRIVE': 'C:',\n",
       "  'HOMEPATH': '\\\\Users\\\\coral',\n",
       "  'LOCALAPPDATA': 'C:\\\\Users\\\\coral\\\\AppData\\\\Local',\n",
       "  'LOGONSERVER': '\\\\\\\\THINKPAD',\n",
       "  'MOZ_PLUGIN_PATH': 'C:\\\\Program Files\\\\Tracker Software\\\\PDF Viewer\\\\Win32\\\\',\n",
       "  'NUMBER_OF_PROCESSORS': '4',\n",
       "  'OS': 'Windows_NT',\n",
       "  'PATH': 'C:\\\\Program Files (x86)\\\\Common Files\\\\Oracle\\\\Java\\\\javapath;C:\\\\Program Files (x86)\\\\Python36-32\\\\Scripts\\\\;C:\\\\Program Files (x86)\\\\Python36-32\\\\;C:\\\\WINDOWS\\\\system32;C:\\\\WINDOWS;C:\\\\WINDOWS\\\\System32\\\\Wbem;C:\\\\WINDOWS\\\\System32\\\\WindowsPowerShell\\\\v1.0\\\\;C:\\\\Program Files\\\\Git\\\\cmd;C:\\\\Program Files (x86)\\\\Bitvise SSH Client;C:\\\\Users\\\\coral\\\\AppData\\\\Local\\\\Microsoft\\\\WindowsApps;C:\\\\Program Files\\\\Bandizip\\\\;c:\\\\program files (x86)\\\\python36-32\\\\lib\\\\site-packages\\\\numpy\\\\.libs',\n",
       "  'PATHEXT': '.COM;.EXE;.BAT;.CMD;.VBS;.VBE;.JS;.JSE;.WSF;.WSH;.MSC;.PY;.PYW',\n",
       "  'PROCESSOR_ARCHITECTURE': 'x86',\n",
       "  'PROCESSOR_ARCHITEW6432': 'AMD64',\n",
       "  'PROCESSOR_IDENTIFIER': 'Intel64 Family 6 Model 142 Stepping 9, GenuineIntel',\n",
       "  'PROCESSOR_LEVEL': '6',\n",
       "  'PROCESSOR_REVISION': '8e09',\n",
       "  'PROGRAMDATA': 'C:\\\\ProgramData',\n",
       "  'PROGRAMFILES': 'C:\\\\Program Files (x86)',\n",
       "  'PROGRAMFILES(X86)': 'C:\\\\Program Files (x86)',\n",
       "  'PROGRAMW6432': 'C:\\\\Program Files',\n",
       "  'PROMPT': '$P$G',\n",
       "  'PSMODULEPATH': 'C:\\\\Program Files\\\\WindowsPowerShell\\\\Modules;C:\\\\WINDOWS\\\\system32\\\\WindowsPowerShell\\\\v1.0\\\\Modules',\n",
       "  'PUBLIC': 'C:\\\\Users\\\\Public',\n",
       "  'SESSIONNAME': 'Console',\n",
       "  'SYSTEMDRIVE': 'C:',\n",
       "  'SYSTEMROOT': 'C:\\\\WINDOWS',\n",
       "  'TEMP': 'C:\\\\Users\\\\coral\\\\AppData\\\\Local\\\\Temp',\n",
       "  'TMP': 'C:\\\\Users\\\\coral\\\\AppData\\\\Local\\\\Temp',\n",
       "  'USERDOMAIN': 'THINKPAD',\n",
       "  'USERDOMAIN_ROAMINGPROFILE': 'THINKPAD',\n",
       "  'USERNAME': 'coral',\n",
       "  'USERPROFILE': 'C:\\\\Users\\\\coral',\n",
       "  'WINDIR': 'C:\\\\WINDOWS',\n",
       "  'JPY_INTERRUPT_EVENT': '1232',\n",
       "  'IPY_INTERRUPT_EVENT': '1232',\n",
       "  'JPY_PARENT_PID': '1208',\n",
       "  'TERM': 'xterm-color',\n",
       "  'CLICOLOR': '1',\n",
       "  'PAGER': 'cat',\n",
       "  'GIT_PAGER': 'cat',\n",
       "  'MPLBACKEND': 'module://ipykernel.pylab.backend_inline'},\n",
       " '_i5': '%lsmagic',\n",
       " '_5': Available line magics:\n",
       "%alias  %alias_magic  %autocall  %automagic  %autosave  %bookmark  %cd  %clear  %cls  %colors  %config  %connect_info  %copy  %ddir  %debug  %dhist  %dirs  %doctest_mode  %echo  %ed  %edit  %env  %gui  %hist  %history  %killbgscripts  %ldir  %less  %load  %load_ext  %loadpy  %logoff  %logon  %logstart  %logstate  %logstop  %ls  %lsmagic  %macro  %magic  %matplotlib  %mkdir  %more  %notebook  %page  %pastebin  %pdb  %pdef  %pdoc  %pfile  %pinfo  %pinfo2  %popd  %pprint  %precision  %profile  %prun  %psearch  %psource  %pushd  %pwd  %pycat  %pylab  %qtconsole  %quickref  %recall  %rehashx  %reload_ext  %ren  %rep  %rerun  %reset  %reset_selective  %rmdir  %run  %save  %sc  %set_env  %store  %sx  %system  %tb  %time  %timeit  %unalias  %unload_ext  %who  %who_ls  %whos  %xdel  %xmode\n",
       "\n",
       "Available cell magics:\n",
       "%%!  %%HTML  %%SVG  %%bash  %%capture  %%cmd  %%debug  %%file  %%html  %%javascript  %%js  %%latex  %%markdown  %%perl  %%prun  %%pypy  %%python  %%python2  %%python3  %%ruby  %%script  %%sh  %%svg  %%sx  %%system  %%time  %%timeit  %%writefile\n",
       "\n",
       "Automagic is ON, % prefix IS NOT needed for line magics.,\n",
       " '_i6': '%colors',\n",
       " '_i7': '%dirs',\n",
       " '_7': [],\n",
       " '_i8': '%who',\n",
       " '_i9': 'gloabls()',\n",
       " '_i10': 'globals()'}"
      ]
     },
     "execution_count": 10,
     "metadata": {},
     "output_type": "execute_result"
    }
   ],
   "source": [
    "globals()"
   ]
  },
  {
   "cell_type": "code",
   "execution_count": 1,
   "metadata": {
    "ExecuteTime": {
     "end_time": "2018-06-20T08:27:11.738234Z",
     "start_time": "2018-06-20T08:27:11.730234Z"
    }
   },
   "outputs": [
    {
     "name": "stdout",
     "output_type": "stream",
     "text": [
      "sdsd\n"
     ]
    }
   ],
   "source": [
    "print('sdsd')"
   ]
  },
  {
   "cell_type": "code",
   "execution_count": null,
   "metadata": {},
   "outputs": [],
   "source": []
  },
  {
   "cell_type": "code",
   "execution_count": 2,
   "metadata": {
    "ExecuteTime": {
     "end_time": "2018-09-03T13:19:58.770255Z",
     "start_time": "2018-09-03T13:19:46.066147Z"
    }
   },
   "outputs": [
    {
     "name": "stdout",
     "output_type": "stream",
     "text": [
      "3\n",
      "7 4 7\n",
      "2 50\n"
     ]
    }
   ],
   "source": [
    "n = int(input())\n",
    "arr =  [int(i) for i in input().split(' ')]\n",
    "k,d  = [int(i) for i in input().split(' ')]"
   ]
  },
  {
   "cell_type": "code",
   "execution_count": 3,
   "metadata": {
    "ExecuteTime": {
     "end_time": "2018-09-03T13:20:19.073616Z",
     "start_time": "2018-09-03T13:20:19.069608Z"
    }
   },
   "outputs": [
    {
     "name": "stdout",
     "output_type": "stream",
     "text": [
      "3 [7, 4, 7] 2 50\n"
     ]
    }
   ],
   "source": [
    "print(n, arr, k, d)"
   ]
  },
  {
   "cell_type": "code",
   "execution_count": 4,
   "metadata": {
    "ExecuteTime": {
     "end_time": "2018-09-03T13:20:53.297524Z",
     "start_time": "2018-09-03T13:20:53.292511Z"
    }
   },
   "outputs": [],
   "source": [
    "fmax = [[0 for i in range(k+1)] for j in range(n+1)]\n",
    "fmin = [[0 for i in range(k+1)] for j in range(n+1)]"
   ]
  },
  {
   "cell_type": "code",
   "execution_count": 6,
   "metadata": {
    "ExecuteTime": {
     "end_time": "2018-09-03T13:29:28.678236Z",
     "start_time": "2018-09-03T13:29:28.675231Z"
    }
   },
   "outputs": [],
   "source": [
    "# print(fmax)\n",
    "fmax[1][1]=fmin[1][1] = 7"
   ]
  },
  {
   "cell_type": "code",
   "execution_count": 4,
   "metadata": {
    "ExecuteTime": {
     "end_time": "2018-09-03T11:58:21.757595Z",
     "start_time": "2018-09-03T11:58:06.273632Z"
    }
   },
   "outputs": [
    {
     "name": "stdout",
     "output_type": "stream",
     "text": [
      "3\n",
      "7 4 7\n",
      "2 50\n",
      "0\n"
     ]
    }
   ],
   "source": [
    "for ii in range(2,n):\n",
    "    endk = min(k, ii)\n",
    "    for kk in range(1,endk):\n",
    "        fmax[ii][kk]= max(fmax[ii-1][kk-1]*arr[ii], fmin[ii-1][kk-1]*arr[ii] )\n",
    "        fmin[ii][kk]= min(fmax[ii-1][kk-1]*arr[ii], fmin[ii-1][kk-1]*arr[ii] )\n",
    "\n",
    "print(fmax[n][k])        \n",
    "        "
   ]
  },
  {
   "cell_type": "code",
   "execution_count": null,
   "metadata": {},
   "outputs": [],
   "source": []
  },
  {
   "cell_type": "code",
   "execution_count": null,
   "metadata": {},
   "outputs": [],
   "source": []
  },
  {
   "cell_type": "code",
   "execution_count": null,
   "metadata": {},
   "outputs": [],
   "source": []
  },
  {
   "cell_type": "code",
   "execution_count": null,
   "metadata": {},
   "outputs": [],
   "source": []
  },
  {
   "cell_type": "code",
   "execution_count": null,
   "metadata": {},
   "outputs": [],
   "source": []
  },
  {
   "cell_type": "code",
   "execution_count": null,
   "metadata": {},
   "outputs": [],
   "source": []
  },
  {
   "cell_type": "code",
   "execution_count": null,
   "metadata": {},
   "outputs": [],
   "source": []
  },
  {
   "cell_type": "code",
   "execution_count": null,
   "metadata": {},
   "outputs": [],
   "source": []
  },
  {
   "cell_type": "code",
   "execution_count": null,
   "metadata": {},
   "outputs": [],
   "source": []
  },
  {
   "cell_type": "code",
   "execution_count": null,
   "metadata": {},
   "outputs": [],
   "source": []
  },
  {
   "cell_type": "code",
   "execution_count": null,
   "metadata": {},
   "outputs": [],
   "source": []
  },
  {
   "cell_type": "code",
   "execution_count": null,
   "metadata": {},
   "outputs": [],
   "source": []
  },
  {
   "cell_type": "code",
   "execution_count": null,
   "metadata": {},
   "outputs": [],
   "source": []
  },
  {
   "cell_type": "code",
   "execution_count": null,
   "metadata": {},
   "outputs": [],
   "source": []
  },
  {
   "cell_type": "code",
   "execution_count": null,
   "metadata": {},
   "outputs": [],
   "source": []
  },
  {
   "cell_type": "code",
   "execution_count": null,
   "metadata": {},
   "outputs": [],
   "source": []
  },
  {
   "cell_type": "code",
   "execution_count": null,
   "metadata": {},
   "outputs": [],
   "source": []
  },
  {
   "cell_type": "code",
   "execution_count": null,
   "metadata": {},
   "outputs": [],
   "source": []
  },
  {
   "cell_type": "code",
   "execution_count": null,
   "metadata": {},
   "outputs": [],
   "source": []
  },
  {
   "cell_type": "code",
   "execution_count": null,
   "metadata": {},
   "outputs": [],
   "source": []
  },
  {
   "cell_type": "code",
   "execution_count": null,
   "metadata": {},
   "outputs": [],
   "source": []
  },
  {
   "cell_type": "code",
   "execution_count": null,
   "metadata": {},
   "outputs": [],
   "source": []
  },
  {
   "cell_type": "code",
   "execution_count": null,
   "metadata": {},
   "outputs": [],
   "source": []
  },
  {
   "cell_type": "code",
   "execution_count": null,
   "metadata": {},
   "outputs": [],
   "source": []
  },
  {
   "cell_type": "code",
   "execution_count": null,
   "metadata": {},
   "outputs": [],
   "source": []
  },
  {
   "cell_type": "code",
   "execution_count": null,
   "metadata": {},
   "outputs": [],
   "source": []
  },
  {
   "cell_type": "code",
   "execution_count": null,
   "metadata": {},
   "outputs": [],
   "source": []
  }
 ],
 "metadata": {
  "kernelspec": {
   "display_name": "Python 3",
   "language": "python",
   "name": "python3"
  },
  "language_info": {
   "codemirror_mode": {
    "name": "ipython",
    "version": 3
   },
   "file_extension": ".py",
   "mimetype": "text/x-python",
   "name": "python",
   "nbconvert_exporter": "python",
   "pygments_lexer": "ipython3",
   "version": "3.6.5"
  },
  "toc": {
   "base_numbering": 1,
   "nav_menu": {},
   "number_sections": true,
   "sideBar": true,
   "skip_h1_title": false,
   "title_cell": "Table of Contents",
   "title_sidebar": "Contents",
   "toc_cell": false,
   "toc_position": {},
   "toc_section_display": true,
   "toc_window_display": false
  },
  "varInspector": {
   "cols": {
    "lenName": 16,
    "lenType": 16,
    "lenVar": 40
   },
   "kernels_config": {
    "python": {
     "delete_cmd_postfix": "",
     "delete_cmd_prefix": "del ",
     "library": "var_list.py",
     "varRefreshCmd": "print(var_dic_list())"
    },
    "r": {
     "delete_cmd_postfix": ") ",
     "delete_cmd_prefix": "rm(",
     "library": "var_list.r",
     "varRefreshCmd": "cat(var_dic_list()) "
    }
   },
   "types_to_exclude": [
    "module",
    "function",
    "builtin_function_or_method",
    "instance",
    "_Feature"
   ],
   "window_display": false
  }
 },
 "nbformat": 4,
 "nbformat_minor": 2
}
