{
 "cells": [
  {
   "cell_type": "code",
   "execution_count": 43,
   "metadata": {},
   "outputs": [
    {
     "data": {
      "text/plain": [
       "<Response [200]>"
      ]
     },
     "execution_count": 43,
     "metadata": {},
     "output_type": "execute_result"
    }
   ],
   "source": [
    "import requests\n",
    "title='cat'\n",
    "response = requests.get(\"http://simple.wikipedia.org/w/api.php?format=json&action=query&titles=\"+str(title)+\"&prop=revisions&rvprop=content\")\n",
    "response"
   ]
  },
  {
   "cell_type": "code",
   "execution_count": 48,
   "metadata": {},
   "outputs": [
    {
     "data": {
      "text/plain": [
       "dict"
      ]
     },
     "execution_count": 48,
     "metadata": {},
     "output_type": "execute_result"
    }
   ],
   "source": [
    "jsondata = response.json()\n",
    "type(jsondata)\n",
    "# count = 0\n",
    "# for i in jsondata:\n",
    "#     count+=1\n",
    "#     print (i,'  ',jsondata[i])\n",
    "#     if count ==1: break"
   ]
  },
  {
   "cell_type": "code",
   "execution_count": null,
   "metadata": {},
   "outputs": [],
   "source": [
    "import json\n",
    "fp=open('/home/bill/dataScience/test_data/parsing.json','r')\n",
    "# print('?')\n",
    "# jsondata=json.load(fp);\n",
    "# print(jsondata)\n",
    "# fp.close()"
   ]
  },
  {
   "cell_type": "code",
   "execution_count": 49,
   "metadata": {
    "collapsed": true
   },
   "outputs": [],
   "source": [
    "import json\n",
    "def pretty(jdata):\n",
    "    str = json.dumps(jdata, sort_keys=True, indent=4).decode('string_escape');\n",
    "    return str\n",
    "\n",
    "def saveas(sdata, fname):\n",
    "    f = open(fname,'w');\n",
    "    f.write(sdata);\n",
    "    f.close();"
   ]
  },
  {
   "cell_type": "code",
   "execution_count": 50,
   "metadata": {},
   "outputs": [],
   "source": [
    "saveas(pretty(jsondata), '/home/bill/dataScience/test_data/'+title+'.json')"
   ]
  },
  {
   "cell_type": "code",
   "execution_count": 51,
   "metadata": {},
   "outputs": [
    {
     "data": {
      "text/plain": [
       "dict"
      ]
     },
     "execution_count": 51,
     "metadata": {},
     "output_type": "execute_result"
    }
   ],
   "source": [
    "type(jsondata)"
   ]
  },
  {
   "cell_type": "code",
   "execution_count": 52,
   "metadata": {},
   "outputs": [
    {
     "data": {
      "text/plain": [
       "[u'batchcomplete', u'query']"
      ]
     },
     "execution_count": 52,
     "metadata": {},
     "output_type": "execute_result"
    }
   ],
   "source": [
    "jsondata.keys()"
   ]
  },
  {
   "cell_type": "code",
   "execution_count": 53,
   "metadata": {
    "scrolled": true
   },
   "outputs": [
    {
     "name": "stdout",
     "output_type": "stream",
     "text": [
      "[u'normalized', u'pages']\n"
     ]
    },
    {
     "data": {
      "text/plain": [
       "list"
      ]
     },
     "execution_count": 53,
     "metadata": {},
     "output_type": "execute_result"
    }
   ],
   "source": [
    "jq=jsondata['query'].keys()\n",
    "print jq\n",
    "type(jq)"
   ]
  },
  {
   "cell_type": "code",
   "execution_count": 54,
   "metadata": {},
   "outputs": [
    {
     "data": {
      "text/plain": [
       "[u'normalized', u'pages']"
      ]
     },
     "execution_count": 54,
     "metadata": {},
     "output_type": "execute_result"
    }
   ],
   "source": [
    "jq[0:5]"
   ]
  },
  {
   "cell_type": "code",
   "execution_count": 55,
   "metadata": {},
   "outputs": [
    {
     "data": {
      "text/plain": [
       "[{u'from': u'cat', u'to': u'Cat'}]"
      ]
     },
     "execution_count": 55,
     "metadata": {},
     "output_type": "execute_result"
    }
   ],
   "source": [
    "jsondata['query'].values()[0]"
   ]
  },
  {
   "cell_type": "code",
   "execution_count": 56,
   "metadata": {},
   "outputs": [
    {
     "data": {
      "text/plain": [
       "u''"
      ]
     },
     "execution_count": 56,
     "metadata": {},
     "output_type": "execute_result"
    }
   ],
   "source": [
    "jsondata['batchcomplete']"
   ]
  },
  {
   "cell_type": "code",
   "execution_count": null,
   "metadata": {
    "collapsed": true
   },
   "outputs": [],
   "source": []
  },
  {
   "cell_type": "raw",
   "metadata": {},
   "source": [
    "\n",
    "title='parsing'\n",
    "# response = requests.get(\"http://en.wikipedia.org/w/api.php?format=json&action=query&titles=\"+str(title)+\"&prop=revisions&rvprop=content\")\n",
    "content = requests.get(\"https://en.wikipedia.org/wiki/Wiki/?format=json&action=query&prop=revisions&rvprop=content\")\n",
    "# https://en.wikipedia.org/wiki/Wiki/\n",
    "print (content.text)"
   ]
  },
  {
   "cell_type": "code",
   "execution_count": 58,
   "metadata": {
    "collapsed": true
   },
   "outputs": [],
   "source": [
    "content=  requests.get(\"http://simple.wikipedia.org/w/api.php?format=json&action=query&titles=\"+str(title)+\"&prop=revisions&rvprop=content\")"
   ]
  },
  {
   "cell_type": "code",
   "execution_count": 61,
   "metadata": {},
   "outputs": [
    {
     "data": {
      "text/plain": [
       "u'{\"batchcomplete\":\"\",\"query\":{\"normalized\":[{\"from\":\"cat\",\"to\":\"Cat\"}],\"pages\":{\"2815\":{\"pageid\":2815,\"ns\":0,\"title\":\"Cat\",\"revisions\":[{\"contentformat\":\"text/x-wiki\",\"contentmodel\":\"wikitext\",\"*\":\"{{about|domestic cats|the cat family|Felidae|the musical|Cats (musical)}}\\\\n{{Taxobox\\\\n| name = Cat\\\\n| status = Domesticated\\\\n| image = Collage of Six Cats-02.jpg\\\\n| image_caption = \\\\n| image_width = 230px\\\\n| regnum = Animalia\\\\n| phylum = Chordata\\\\n| classis = Mammalia\\\\n| fossil_range = [[Pleistocene]]  Recent\\\\n| ordo = Carnivora\\\\n| familia = Felidae\\\\n| genus = Felis\\\\n| binomial = \\'\\'Felis catus\\'\\'\\\\n| binomial_authority = (Linnaeus, 1758)}}\\\\n\\\\nCats, also called domestic cats (\\'\\'Felis catus\\'\\'), are carnivorous (meat-eating) mammals, of the family Felidae.\\\\n\\\\nCats have been [[domestication|domesticated]] (tame) for nearly 10,000 years.<ref name=\\\\\"9500 years\\\\\">{{cite web | title = Oldest known pet cat? 9500-year-old burial found on Cyprus | url = http://news.nationalgeographic.com/news/2004/04/0408_040408_oldestpetcat.html | accessdate = 2007-03-06 |date=2004-04-08 | publisher = National Geographic News}}</ref> They are currently the most popular [[pet]]s in the world.<ref name=SciAm>{{cite web |url=http://www.scientificamerican.com/article.cfm?id=the-taming-of-the-cat |title=The evolution of house cats |publisher=Scientific American |author=Driscoll, Carlos A; Clutton-Brock, Juliet; Kitchener, Andrew C. and O\\'Brien, Stephen J. |accessdate=26 August 2009}}</ref> Their origin is probably the African Wildcat \\'\\'Felis silvestris lybica\\'\\'.\\\\n\\\\nCats were probably first kept because they ate mice, and this is still their main \\'job\\' in farms throughout the world. Later they were kept because they are friendly and good companions.\\\\n\\\\nA young cat is called a kitten. Cats are sometimes called kitty or pussycat. An entire female cat is a queen, and an entire male cat is a tom.<ref>\\'\\'Entire\\'\\' means a female cat that is not spayed, and a male cat that is not neutered, leaving either able to reproduce.</ref>\\\\n\\\\nDomestic cats are found in shorthair and longhair breeds. Cats which are not specific breeds can be referred to as \\'domestic shorthair\\' (DSH) or \\'domestic longhair\\' (DLH).\\\\n\\\\nThe word \\'cat\\' is also used for other felines. Felines are usually classed as either big cats or small cats.  The big cats are well known: lions, tigers, leopards, jaguars, [[puma]]s, and cheetahs. There are small cats in most parts of the world, such as the lynx in northern Europe. The big cats and wild cats are not tame, and can be very dangerous.\\\\n\\\\n== History ==\\\\n[[Image:Wiki-Felis sylvestris.png|thumb|right|230px|Past range of Felis silvestris.]]\\\\n\\\\nIn the past, people kept cats because they hunted and ate mice, rats, and insects. The oldest evidence of cats kept as pets is from the Mediterranean island of Cyprus, around 7500 BC.\\\\n\\\\nAncient Egyptians worshipped cats as gods, and often mummified them so they could be with their owners \\\\\"for all of eternity\\\\\". (They also mummified mice so the cats would have something to eat in the afterlife.) Today, people often keep cats as pets, but there are also cats that live without being cared for by people. These kinds of cats are called \\\\\"feral cats\\\\\".\\\\n\\\\nToday, special food for cats is widely available in the developed countries. Proper feeding will make a cat live much longer compared to hunting or being fed table scraps. Not correctly feeding a cat can lead to problems (see below for health concerns).\\\\n\\\\nCats cannot taste sweet foods (with sugar) because of a mutation (change) in their ancestors which removed the ability to taste sweet things.\\\\n\\\\n== Cat anatomy ==\\\\nCats have anatomy similar to the other members of the genus Felis. The genus has extra lumbar (lower back) and thoracic (chest) vertebrae. This helps to explain the cat\\'s spinal mobility and [[flexibility]]. Unlike human arms, cat forelimbs are attached to the shoulder by free-floating clavicle bones. These allow cats to pass their body through any space into which they can fit their heads.<ref name=\\\\\"Gillis 2002\\\\\">{{cite web|title=Cat skeleton|last=Gillis|first=Rick (ed.)|work=Zoolab: a website for animal biology|publisher=University of Wisconsin|location=La Crosse, WI|date=22 July 2002|url= http://bioweb.uwlax.edu/zoolab/Table_of_Contents/Lab-9b/Cat_Skeleton_1/cat_skeleton_1.htm|archiveurl= http://web.archive.org/web/20061206105542/http://bioweb.uwlax.edu/zoolab/Table_of_Contents/Lab-9b/Cat_Skeleton_1/cat_skeleton_1.htm|archivedate=6 December 2006|accessdate=7 September 2012}}</ref>\\\\n\\\\nThe cat skull is unusual among mammals in having very large eye sockets and a powerful and specialized jaw.<ref name=\\\\\"Case\\\\\">{{Cite book|title=The cat: its behavior, nutrition, and health|last=Case|first=Linda P.|year=2003|publisher=Iowa State University Pr|location=Ames, IA|isbn=0-8138-0331-4}}</ref>{{rp|35}} Compared to other felines, domestic cats have narrowly spaced canine teeth: this is an adaptation to their preferred prey of small rodents.<ref name=Smith1992>{{Cite book|title=Structure, function and evolution of teeth|last=Smith|first=Patricia|last2=Tchernov|first2=Eitan|year=1992|page=217|publisher=Freund Publishing House Ltd.|isbn=965-222-270-4}}</ref> Cats, like dogs, walk directly on their toes, with the bones of their feet making up the lower part of the visible leg.<ref name=\\\\\"Lacquaniti 1999\\\\\">{{Cite journal|title=Motor patterns in walking|last=Lacquaniti|first=F.|last2=Grasso|first2=R.|last3=Zago|first3=M.|journal=News Physiol. Sci.|volume=14|issue=4|pages=168\\\\u2013174|date=1999|pmid=11390844}}</ref>\\\\n\\\\nCats walk very precisely. Unlike most mammals, when cats walk, they use a \\\\\"pacing\\\\\" gait; that is, they move the two legs on one side of the body before the legs on the other side. This trait is shared with camels and giraffes. As a walk speeds up into a trot, a cat\\'s gait will change to be a \\\\\"diagonal\\\\\" gait, similar to that of most other mammals: the diagonally opposite hind and forelegs will move at the same time.<ref name=\\\\\"Christensen 2004\\\\\">{{Cite book|title=Outwitting cats|last=Christensen|first=Wendy|page=23|publisher=Globe Pequot|year=2004|isbn=1-59228-240-7|url= http://books.google.com/?id=WmuQQXU6EtAC&pg=PA23}}</ref> Most cats have five claws on their front paws, and four on their rear paws.<ref name=\\\\\"Danforth1947\\\\\">{{Cite journal|title=Heredity of polydactyly in the cat|last=Danforth|first=C.H.|journal=Journal of Heredity|volume=38|pages=107\\\\u2013112|year=1947|url= http://jhered.oxfordjournals.org/content/38/4/107.full.pdf|pmid=20242531|issue=4}}</ref> On the inside of the front paws there is something which looks like a sixth \\\\\"finger\\\\\". This special feature, on the inside of the wrists, is the carpal pad, also found on other cats and on dogs.\\\\n\\\\n== Behaviour ==\\\\n[[File:Don\\'t mess with me mum!.jpg|thumb|right|200px|The cat on the right is fed up with the cat on the left and this is a semi-serious warning.]]\\\\n[[File:Cat November 2010-1a.jpg|thumb|right|200px|The stripes on this standard tabby cat help it hide in long grass and bushes. It\\'s a kind of camouflage.]]\\\\n\\\\nCats are active [[carnivore]]s,http://www.felinefuture.com/ meaning they hunt live prey. Their main prey is small mammals (like mice). They will also stalk, and sometimes kill and eat, birds. Cats eat a wide variety of prey, including insects, and seem especially to like house flies and bluebottles. Their main method of hunting is stalk and pounce. While dogs have great stamina and will chase prey over long distances, cats are extremely fast, but only over short distances. The basic cat coat colouring, tabby (see top photo), gives it good camouflage in grass and woodland. The cat creeps towards a chosen victim, keeping its body flat and near to the ground so that it cannot be seen easily, until it is close enough for a rapid dash or pounce. Cats, especially kittens, practice these instinctive behaviours in play with each other or on small toys.\\\\n\\\\nCats are quiet and well-behaved animals, making them popular pets. Young kittens are playful. They can easily entertain themselves with a variety of store-bought or homemade toys. House cats have also been known to teach themselves to use lever-type doorknobs and toilet handles.YouTube - Gizmo Flushes\\\\n\\\\nCats are fairly [[wikt:independent|independent]] animals. They can look after themselves and do not need as much attention as dogs do.\\\\n\\\\n=== Communication ===\\\\nCats use many different sounds for communication, including meowing, purring, trilling, hissing, growling, squeaking, chirping, clicking and grunting.<ref name=Channel3000Meows>{{cite web | url = http://www.channel3000.com/news/1472741/detail.html | title = Meows mean more to cat lovers | publisher = Channel3000.com | accessdate = 2006-06-14}}</ref>\\\\n\\\\n[[Body language|Body posture]] is also important. The whole shape of the body changes when a cat is relaxed, or when it is alert. Also, the position of their ears and tail are used for communication, as well as their usual functions.\\\\n\\\\nThese ways of communication are very important. They are used between a mother cat and her kittens. They are also used between male and female cats; and between cats and other species, such as dogs. A mother cat protecting her kittens will fight off the largest dog. She gives good warning with a frightening display, hissing furiously, showing her claws, arching her back, and making her hair stand on end. If that fails, she attacks the dog\\'s face with her claws. It has been said that no dog ever tries such an attack a second time.Konrad Lorenz 1950. Man meets dog.\\\\n\\\\n=== Mating ===\\\\nCats only mate when the queen is \\\\\"in heat\\\\\". Heat periods occur about every two weeks and last 4 to 6 days. Mating in cats is a spectacular event. Several toms may be attracted to a queen in heat. The males will fight over her, and the victor wins the right to mate. At first, the female will reject the male, but eventually the female will allow the male to mate. The female will utter a loud yowl as the male pulls out of her. This is because a male cat\\'s penis has a band of about 120-150 backwards-pointing spines, which are about one millimeter long;<ref>{{cite journal |author=Aronson L.R. & Cooper M.L |title=Penile spines of the domestic cat: their endocrine-behavior relations |journal=Anat. Rec. |volume=157 |issue=1 |pages=71\\\\u20138 |year=1967 |pmid=6030760 |doi=10.1002/ar.1091570111 |url=http://www.catcollection.org/files/PenileSpines.pdf |first1=LR |first2=ML |issn=0003-276X}}</ref> upon withdrawal of the penis, the spines rake the walls of the female\\'s vagina, which is a trigger<ref>Trigger: in the sense of \\'\\'an event which starts other events\\'\\'.</ref> for ovulation. After mating, the female will wash her vulva thoroughly. If a male attempts to breed with her at this point, the female will attack him. After about 20 to 30 minutes. once the female is finished grooming, the cycle will repeat.\\\\n\\\\nBecause ovulation is not always triggered, females may not get pregnant by the first tom which mates with them.<ref>{{cite journal |author=Wildt D.E; Seager S.W. & Chakraborty PK |title=Effect of copulatory stimuli on incidence of ovulation and on serum luteinizing hormone in the cat |journal=Endocrinology |volume=107 |issue=4 |pages=1212\\\\u20137 |year=1980 |pmid=7190893 |doi=10.1210/endo-107-4-1212 |first1=DE |first2=SW |first3=PK |issn=0013-7227}}</ref> A queen may mate with more than one tom when she is in heat, and different kittens in a litter may have different fathers.<ref name=compendium>{{cite web |url=http://vlsstore.com/Media/PublicationsArticle/PV_23_12_1049.pdf |title=Prolific cats: the estrous cycle |publisher=Veterinary Learning Systems |accessdate=19 June 2009}}</ref> The cycle ceases when the queen is pregnant.\\\\n\\\\nThe gestation period for cats is about two months, with an average length of 66 days.<ref>{{cite journal |author=Tsutsui T. & Stabenfeldt G.H |title=Biology of ovarian cycles, pregnancy and pseudopregnancy in the domestic cat |journal=J. Reprod. Fertil. Suppl. |volume=47 |issue= |pages=29\\\\u201335 |year=1993|pmid=8229938 |issn=0449-3087}}</ref> The size of a litter is usually three to five kittens. Kittens are weaned at between six and seven weeks, and cats normally reach sexual maturity at 5\\\\u201310 months (females) and to 5\\\\u20137 months (males). Females can have two to three litters per year, so might produce up to 150 kittens in their breeding life of about ten years.\\\\n\\\\n=== Birth and after ===\\\\nPregnant queens deliver their litters by themselves, guided by instinct. The queen finds the safest place she can. Then she will clean it thoroughly, with her tongue, if necessary. Here she will quietly give birth. She licks the newborn kits clean. In the wild, leaving a scent is risking a dangerous encounter with other animals. The kits are born blind and with closed eyes. They suckle on her teats, and sleep a good deal. After two weeks or so, their eyes open. At that stage they have hair and blue eyes. A bit later, the best developed kit will totter out of the nest. The others follow. They will soon recognise you as a living thing: that is a great moment. At first, they go back to the nest to feed and sleep. After some more days they leave the nest for good, but still they may sleep together in a \\'kitten heap\\'.\\\\n\\\\nThe queen, meanwhile, has left the nest from time to time, to hunt, feed, and also to urinate and defecate. Unlike the tom, she covers up her business to hide her scent. Very soon, the kits will urinate anywhere they please unless one trains them. This is done after they are weaned, when they are ready for some kitten food. Here is how to do it:\\\\n:1. Prepare clean cat tray filled with absorbent grit. \\\\n:2. Give kittens their special kitten food. \\\\n:3. Take the lead kitten right after it has eaten, place it in your cat tray.\\\\n:4. Gently stroke its tummy with one finger. \\\\n:5. Watch as kitten sits down promptly and urinates. Do same for other kits.\\\\n:6. Repeat next time if they need it. They will not need a third time.\\\\n\\\\nWhat you have done is exactly what the queen would do in the wild. You have [[Releaser|triggered]] a reflex which all kittens have. The thing is, the tray is artificial, and your queen may do her business outside. But at least when young, kittens need a tray. Your next job is to call the vet, who will tell you when to bring the kits for their vaccination.<ref>How to look after your cat: there are two books with this title, as follows. 1. by Colin and Jacqui Hawkins, Walker Books, 1996. 2. by Alan Edwards, Southwater, 2006.</ref>\\\\n[[File:2006-07-09 katze2.jpg|thumb|220px|Kitten with string]]\\\\n\\\\nKittens play endlessly. It is how they do their learning. They will play their favourite games, such as \\'hide and pounce\\', with almost anyone or anything. Soft balls on strings are a standard toy; so is a scratching post.\\\\n\\\\nWith cats there is a limit to how far you can train them. They are at least as intelligent as dogs, but they are not pack animals. They like to do their own thing, and owners do best by fitting in. Never hit a cat: if you do, the relationship will never be the same again. If you really want to dissuade them, try hissing. Also, a noise they do not like will make them leave. It has been said that no one really owns a cat; many cats collect extra owners, and may change house if they do not like the treatment...<ref>Gallico, Paul. The silent miaow: a cat\\'s eye view of Homo sapiens. Heinemann, London.</ref>\\\\n\\\\nIf your kitten was born in your home do not let it out of the house until it is two to three months old. If you have the mother, she will look after the kit. But if you have got the kit from a vet or dealer, keep it in for several weeks. When it does go out, you need to watch over it. The main problem is that it may easily get lost. In time, the kit will learn every inch of the house and garden. Then, you can happily let it roam.<ref>{{cite book |title=The Complete Book of Cat Care: how to raise a happy and healthy cat |last=Behrend |first=Katrin |coauthors=Wegler, Monika; translated from German by Elizabeth D. Crawford. |year=1991 |publisher=Barron\\'s Educational Series, Inc. |location=Hauppauge, NY  |isbn=0-8120-4613-7 |}}</ref>\\\\n\\\\n== Grooming ==\\\\nCats are very clean animals. They groom themselves by licking their fur. The cat\\'s tongue can act as a hairbrush and can clean and untangle a cat\\'s fur. Still, owners may buy grooming products to help the cat take care of itself. After licking their fur, cats sometimes get hairballs.<ref>http://cats.about.com/cs/catmanagement101/a/hairballs.htm But note: this ref overstates the problem.</ref> A hairball is a small amount of fur that is vomited up by animals when it becomes too big. This is quite normal. Owners brush their cats to try to prevent a lot of hairballs.\\\\n\\\\n== Food ==\\\\nthumb|left|180px|A typical brown Burmese cat\\\\nMany house cats eat food which their owners give them. This food is manufactured, and designed to contain the right [[nutrient]]s for cats. There are many different types of cat food. These come in many different flavors and costs are often very small.\\\\n \\\\nThere is moist canned food and also dry cat food which comes in different sized cans or bags and formulas. There are kitten formulas, cat formulas, health formulas, formulas for reducing a cat\\'s weight, and many others. These can even be organic (made from all natural ingredients), and have vegetables, salmon, tuna, meat, and milk essence. Yet, it\\'s best if the food is at least 95% meat, as that\\'s a cat\\'s diet. Also, make sure the cat is not fed a daily diet of dog food. It could make the cat blind, as it has no taurine, which is a nutrient for the eyes.\\\\n\\\\n== Health concerns ==\\\\n[[File:Youngkitten.JPG|thumb|A very young kitten. This kitten has been taken out of the nest for a photo; its eyes are just open, but it cannot yet see properly.]]\\\\n[[File:Corfu beach 27.JPG|thumb|Kittens growing up]]\\\\nCats do get diseases, and prevention is better than cure. It is most important to get a young cat vaccinated against some of the most deadly diseases. If a cat gets a disease, a veterinarian (animal doctor) can offer help. Some cats, depending on breed, gender, age, and general health, may be more susceptible to disease than others.  Regular visits to a vet can keep a cat alive many extra years by catching sickness and disease early.<ref>[Anon.] 1983. Sherley\\'s cat book: the complete book of cat care written by a vetinary surgeon. Ashe Laboratories, Leatherhead, Surrey.</ref>\\\\n\\\\nCats that roam outside will get fleas at some time. Cat fleas will not live on people, but fleas will not hesitate to bite anyone nearby. Owners may choose to buy anti-flea collars, but any areas where the cat normally sleeps need to be cleaned up. A vet or local pet-shop may offer advice about fleas. It is recommended that people quickly take action when a cat gets fleas because fleas can make cats uncomfortable.\\\\n\\\\nHouse cats can become overweight through lack of exercise and over-feeding. When they get spayed or neutered (\\\\\"fixed\\\\\"), they tend to exercise less. Spaying is done for queens, and neutering is done for toms. It is important to fix cats, and here are some reasons. First of all, if a female cat has kittens, they will need homes. Finding homes for kittens is often quite difficult. If a tom is not fixed, it develops a disgusting smell. Breeders who have entire toms keep them in a special hut outside the house, for that reason. Fixing also helps to avoid over-population. Over-population means that there are too many cats, and some will be put to sleep (put down) in animal pounds (animal shelters).\\\\n\\\\nKittens are sometimes born with defects. People who receive cats as gifts are recommended to get it examined for its health. Some birth defects, like heart problems, require urgent vet attention. Others are harmless, like polydactyly. Polydactyly means many digits, or many \\\\\"fingers\\\\\" from poly (many) and dactyl (digit). Sometimes, there is a mutation (change) in cat families. Most cats have only four to five toes per paw, depending on whether it is the front or back paw. These mutated cats have six, seven, and in rare cases even more. All of these cats are called polydactyl cats. They can also be called Hemingway cats because author Ernest Hemingway owned many of these cats.\\\\n\\\\n== Other matters ==\\\\n=== Where to find more information ===\\\\nThere are quite a number of reference books on cats. Look for titles like Encyclopedia of the cat, or Cat encyclopedia.\\\\n\\\\n=== Other cat pages ===\\\\n* African wildcat\\\\n* Calico cat\\\\n* Cat righting reflex\\\\n* List of cat breeds\\\\n* [[Ship\\'s cat]]\\\\n\\\\n=== Other meanings of the word \\'cat\\' ===\\\\n* As a verb, \\\\\"to cat\\\\\" means to pull a ship\\'s anchor to rest at its cathead.  It can also mean to look for a mate.\\\\n* Cat can be a short nickname for Katherine, Kathleen, Caitlin, Catalina, Katrina and Catarina.\\\\n\\\\n== References ==\\\\n\\\\n\\\\n== Other websites ==\\\\n* [http://www.catcarelondon.com/all_about_cats.html Cat Care in London and information about cats]\\\\n\\\\n \"}]}}}}'"
      ]
     },
     "execution_count": 61,
     "metadata": {},
     "output_type": "execute_result"
    }
   ],
   "source": [
    "text = wikicode.strip_code()\n",
    "text"
   ]
  },
  {
   "cell_type": "code",
   "execution_count": 62,
   "metadata": {},
   "outputs": [],
   "source": [
    "#  /home/bill/dataScience/test_data/\n",
    "saveas(pretty(text), '/home/bill/dataScience/test_data/'+title+'.txt')"
   ]
  },
  {
   "cell_type": "code",
   "execution_count": null,
   "metadata": {
    "collapsed": true
   },
   "outputs": [],
   "source": []
  },
  {
   "cell_type": "code",
   "execution_count": 73,
   "metadata": {},
   "outputs": [],
   "source": [
    "from lxml import etree\n",
    "parser = etree.XMLParser(recover=True)\n",
    "tree = etree.parse('/home/bill/dataScience/test_data/cat.xml',parser)"
   ]
  },
  {
   "cell_type": "code",
   "execution_count": 74,
   "metadata": {
    "scrolled": true
   },
   "outputs": [
    {
     "data": {
      "text/plain": [
       "'node'"
      ]
     },
     "execution_count": 74,
     "metadata": {},
     "output_type": "execute_result"
    }
   ],
   "source": [
    "root=tree.getroot()\n",
    "root.tag"
   ]
  },
  {
   "cell_type": "code",
   "execution_count": 75,
   "metadata": {},
   "outputs": [
    {
     "data": {
      "text/plain": [
       "1"
      ]
     },
     "execution_count": 75,
     "metadata": {},
     "output_type": "execute_result"
    }
   ],
   "source": [
    "len(root)"
   ]
  },
  {
   "cell_type": "code",
   "execution_count": 76,
   "metadata": {},
   "outputs": [
    {
     "data": {
      "text/plain": [
       "'node'"
      ]
     },
     "execution_count": 76,
     "metadata": {},
     "output_type": "execute_result"
    }
   ],
   "source": [
    "root[0].tag"
   ]
  },
  {
   "cell_type": "code",
   "execution_count": 77,
   "metadata": {},
   "outputs": [
    {
     "ename": "IndexError",
     "evalue": "list index out of range",
     "output_type": "error",
     "traceback": [
      "\u001b[0;31m---------------------------------------------------------------------------\u001b[0m",
      "\u001b[0;31mIndexError\u001b[0m                                Traceback (most recent call last)",
      "\u001b[0;32m<ipython-input-77-c138d2c532b3>\u001b[0m in \u001b[0;36m<module>\u001b[0;34m()\u001b[0m\n\u001b[0;32m----> 1\u001b[0;31m \u001b[0mroot\u001b[0m\u001b[0;34m[\u001b[0m\u001b[0;36m1\u001b[0m\u001b[0;34m]\u001b[0m\u001b[0;34m[\u001b[0m\u001b[0;36m0\u001b[0m\u001b[0;34m]\u001b[0m\u001b[0;34m[\u001b[0m\u001b[0;36m0\u001b[0m\u001b[0;34m]\u001b[0m\u001b[0;34m.\u001b[0m\u001b[0mattrib\u001b[0m\u001b[0;34m[\u001b[0m\u001b[0;34m'value'\u001b[0m\u001b[0;34m]\u001b[0m\u001b[0;34m\u001b[0m\u001b[0m\n\u001b[0m",
      "\u001b[0;32mlxml.etree.pyx\u001b[0m in \u001b[0;36mlxml.etree._Element.__getitem__ (src/lxml/lxml.etree.c:47744)\u001b[0;34m()\u001b[0m\n",
      "\u001b[0;31mIndexError\u001b[0m: list index out of range"
     ]
    }
   ],
   "source": [
    "root[1][0][0].attrib['value']"
   ]
  },
  {
   "cell_type": "code",
   "execution_count": 78,
   "metadata": {},
   "outputs": [
    {
     "ename": "IndexError",
     "evalue": "list index out of range",
     "output_type": "error",
     "traceback": [
      "\u001b[0;31m---------------------------------------------------------------------------\u001b[0m",
      "\u001b[0;31mIndexError\u001b[0m                                Traceback (most recent call last)",
      "\u001b[0;32m<ipython-input-78-ff25fae7c119>\u001b[0m in \u001b[0;36m<module>\u001b[0;34m()\u001b[0m\n\u001b[0;32m----> 1\u001b[0;31m \u001b[0ms\u001b[0m\u001b[0;34m=\u001b[0m\u001b[0mroot\u001b[0m\u001b[0;34m[\u001b[0m\u001b[0;36m6\u001b[0m\u001b[0;34m]\u001b[0m\u001b[0;34m[\u001b[0m\u001b[0;36m0\u001b[0m\u001b[0;34m]\u001b[0m\u001b[0;34m[\u001b[0m\u001b[0;36m0\u001b[0m\u001b[0;34m]\u001b[0m\u001b[0;34m[\u001b[0m\u001b[0;36m0\u001b[0m\u001b[0;34m]\u001b[0m\u001b[0;34m\u001b[0m\u001b[0m\n\u001b[0m\u001b[1;32m      2\u001b[0m \u001b[0ms\u001b[0m\u001b[0;34m.\u001b[0m\u001b[0mattrib\u001b[0m\u001b[0;34m[\u001b[0m\u001b[0;34m'value'\u001b[0m\u001b[0;34m]\u001b[0m\u001b[0;34m\u001b[0m\u001b[0m\n",
      "\u001b[0;32mlxml.etree.pyx\u001b[0m in \u001b[0;36mlxml.etree._Element.__getitem__ (src/lxml/lxml.etree.c:47744)\u001b[0;34m()\u001b[0m\n",
      "\u001b[0;31mIndexError\u001b[0m: list index out of range"
     ]
    }
   ],
   "source": [
    "s=root[6][0][0][0]\n",
    "s.attrib['value']"
   ]
  },
  {
   "cell_type": "code",
   "execution_count": null,
   "metadata": {
    "collapsed": true
   },
   "outputs": [],
   "source": []
  },
  {
   "cell_type": "code",
   "execution_count": null,
   "metadata": {
    "collapsed": true
   },
   "outputs": [],
   "source": []
  },
  {
   "cell_type": "code",
   "execution_count": null,
   "metadata": {
    "collapsed": true
   },
   "outputs": [],
   "source": []
  },
  {
   "cell_type": "code",
   "execution_count": null,
   "metadata": {
    "collapsed": true
   },
   "outputs": [],
   "source": []
  },
  {
   "cell_type": "code",
   "execution_count": null,
   "metadata": {
    "collapsed": true
   },
   "outputs": [],
   "source": []
  },
  {
   "cell_type": "code",
   "execution_count": null,
   "metadata": {
    "collapsed": true
   },
   "outputs": [],
   "source": []
  },
  {
   "cell_type": "code",
   "execution_count": null,
   "metadata": {
    "collapsed": true
   },
   "outputs": [],
   "source": []
  }
 ],
 "metadata": {
  "kernelspec": {
   "display_name": "Python 3",
   "language": "python",
   "name": "python3"
  },
  "language_info": {
   "codemirror_mode": {
    "name": "ipython",
    "version": 3
   },
   "file_extension": ".py",
   "mimetype": "text/x-python",
   "name": "python",
   "nbconvert_exporter": "python",
   "pygments_lexer": "ipython3",
   "version": "3.6.5"
  },
  "toc": {
   "base_numbering": 1,
   "nav_menu": {},
   "number_sections": true,
   "sideBar": true,
   "skip_h1_title": false,
   "title_cell": "Table of Contents",
   "title_sidebar": "Contents",
   "toc_cell": false,
   "toc_position": {},
   "toc_section_display": true,
   "toc_window_display": false
  },
  "varInspector": {
   "cols": {
    "lenName": 16,
    "lenType": 16,
    "lenVar": 40
   },
   "kernels_config": {
    "python": {
     "delete_cmd_postfix": "",
     "delete_cmd_prefix": "del ",
     "library": "var_list.py",
     "varRefreshCmd": "print(var_dic_list())"
    },
    "r": {
     "delete_cmd_postfix": ") ",
     "delete_cmd_prefix": "rm(",
     "library": "var_list.r",
     "varRefreshCmd": "cat(var_dic_list()) "
    }
   },
   "types_to_exclude": [
    "module",
    "function",
    "builtin_function_or_method",
    "instance",
    "_Feature"
   ],
   "window_display": false
  }
 },
 "nbformat": 4,
 "nbformat_minor": 1
}
