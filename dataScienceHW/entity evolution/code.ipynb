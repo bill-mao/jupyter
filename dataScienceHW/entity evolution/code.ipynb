{
 "cells": [
  {
   "cell_type": "code",
   "execution_count": null,
   "metadata": {
    "collapsed": true,
    "slideshow": {
     "slide_type": "notes"
    }
   },
   "outputs": [],
   "source": [
    "# ds？？？\n",
    "# 那就"
   ]
  },
  {
   "cell_type": "code",
   "execution_count": 9,
   "metadata": {},
   "outputs": [],
   "source": [
    "import pandas as pd\n",
    "DATA_PATH = \"/home/bill/dataScience/entity evolution/data\"\n",
    "with open(DATA_PATH+r\"/stopwords.txt\",'r') as file:\n",
    "    stopwords=file.read()\n",
    "\n",
    "amazon_df=pd.read_csv(DATA_PATH+r\"/Amazon.csv\")\n",
    "google_df=pd.read_csv(DATA_PATH+r\"/Google.csv\")"
   ]
  },
  {
   "cell_type": "code",
   "execution_count": 10,
   "metadata": {},
   "outputs": [],
   "source": [
    "perfectMap_df=pd.read_csv(DATA_PATH+r\"/Amazon_Google_perfectMapping.csv\")\n",
    "perfectMap=[]\n",
    "def buildPerfectMap(x): perfectMap.append((x['idAmazon'],x['idGoogleBase']))\n",
    "#perfectMap 里面就有了 csv文件里面数据，用元组存储\n",
    "perfectMap_df.apply(buildPerfectMap,axis=1)\n",
    "pass\n",
    "#perfectMap_df.shape\n",
    "#perfectMap_df.index\n",
    "#perfectMap_df.head"
   ]
  },
  {
   "cell_type": "code",
   "execution_count": 3,
   "metadata": {},
   "outputs": [],
   "source": [
    "import re\n",
    "stopwords = stopwords.split('\\n')\n",
    "split_regex = r'\\w+'\n",
    "\n",
    "# TODO Implement this\n",
    "def simple_tokenize(string):\n",
    "    string=string.lower()\n",
    "    return re.findall(split_regex,string)#但会`返回一个列表？\n",
    "def tokenize(string):\n",
    "    if not type(string) is str:return []\n",
    "    xx=simple_tokenize(string)\n",
    "    for i in stopwords:\n",
    "        #可能改变的放在第二个循环，这样就不容易出错\n",
    "        while i in xx:\n",
    "            xx.remove(i)\n",
    "    return xx\n",
    "\n",
    "def rec2tok(x,dic):\n",
    "    #x:a record from on DataFrame\n",
    "    #dic:dictionary that build mappings from record id to tokens\n",
    "    if not type(x['description']) is str:        x['description']=''\n",
    "    if not type(x['manufacturer']) is str:   x['manufacturer']=''\n",
    "    #x 代表的是 一个row ？？？(x,dic):\n",
    "    dic[x['id']]=tokenize(x['title']+' '+x['description']+' '+x['manufacturer'])"
   ]
  },
  {
   "cell_type": "markdown",
   "metadata": {},
   "source": [
    "这里面指的是 ‘doc’   record 相当于"
   ]
  },
  {
   "cell_type": "code",
   "execution_count": 4,
   "metadata": {},
   "outputs": [],
   "source": [
    "def inc(i,dic):\n",
    "    #i:a key in dic\n",
    "    #dic:dic[i]++\n",
    "    if i in dic: dic[i]+=1\n",
    "    else: dic[i]=1\n",
    "    \n",
    "def tf(tokens):\n",
    "    tfs={}\n",
    "    for i in tokens: inc(i,tfs)            \n",
    "    n=float(len(tokens))\n",
    "    for i in tfs:tfs[i]/=n\n",
    "    return tfs\n",
    "def idf(rec2tok):\n",
    "    idfs={}\n",
    "    N=float(len(amazon_df)+len(google_df))\n",
    "    for i in rec2tok:\n",
    "        s=set(rec2tok[i])\n",
    "        for j in s:inc(j,idfs)\n",
    "    for i in idfs:idfs[i]=N/idfs[i]\n",
    "    return idfs\n",
    "def tfidf(tokens,idfs):\n",
    "    ans=tf(tokens)\n",
    "    s=set(tokens)\n",
    "    for i in ans:\n",
    "        ans[i]*=idfs[i]\n",
    "    return ans \n",
    "\n",
    "def invertIndex(forward_index):\n",
    "    #return a mapping from token to list-of-record-IDs\n",
    "    ans={}\n",
    "    for i in forward_index:\n",
    "        for j in forward_index[i]:\n",
    "            if j in ans:ans[j].append(i)\n",
    "            else: ans[j]=[i]\n",
    "    return ans"
   ]
  },
  {
   "cell_type": "code",
   "execution_count": 7,
   "metadata": {
    "ExecuteTime": {
     "end_time": "2018-11-15T17:16:23.376732Z",
     "start_time": "2018-11-15T17:16:23.370715Z"
    }
   },
   "outputs": [
    {
     "data": {
      "text/plain": [
       "<_sre.SRE_Match object; span=(6, 14), match='sdsd-sd_'>"
      ]
     },
     "execution_count": 7,
     "metadata": {},
     "output_type": "execute_result"
    }
   ],
   "source": [
    "# import re\n",
    "# re.search(r'[a-z_\\-]+', '就看了死定了sdsd-sd_')"
   ]
  },
  {
   "cell_type": "code",
   "execution_count": 5,
   "metadata": {
    "collapsed": true
   },
   "outputs": [],
   "source": [
    "import math\n",
    "\n",
    "# Optional utility  ; diancheng\n",
    "def dotprod(a, b):\n",
    "    ans=0\n",
    "    for i in a:\n",
    "        if i in b: ans+=a[i]*b[i]\n",
    "    return ans\n",
    "\n",
    "# Optional utility  pingfanghe qiugen\n",
    "def norm(a):\n",
    "    ans=0\n",
    "    for i in a:\n",
    "        ans+=a[i]**2\n",
    "    return math.sqrt(ans)"
   ]
  },
  {
   "cell_type": "code",
   "execution_count": 6,
   "metadata": {},
   "outputs": [],
   "source": [
    "amazon_rec2tok = {}\n",
    "google_rec2tok = {}\n",
    "\n",
    "amazon_df.apply(lambda x:rec2tok(x,amazon_rec2tok),axis=1)\n",
    "google_df.apply(lambda x:rec2tok(x,google_rec2tok),axis=1)\n",
    "\n",
    "amazon_inv=invertIndex(amazon_rec2tok)"
   ]
  },
  {
   "cell_type": "markdown",
   "metadata": {},
   "source": [
    "\n",
    "//应该是lambda 一个一个record执行，饶了一个“弯”\n",
    "amazon_df.apply(lambda x:rec2tok(x,amazon_rec2tok),axis=1)\n"
   ]
  },
  {
   "cell_type": "code",
   "execution_count": 7,
   "metadata": {},
   "outputs": [],
   "source": [
    "from collections import Counter\n",
    "idfs_full = dict(Counter(idf(amazon_rec2tok))+Counter(idf(google_rec2tok)))\n",
    "google_weights={i:tfidf(google_rec2tok[i],idfs_full) for i in google_rec2tok}\n",
    "amazon_weights={i:tfidf(amazon_rec2tok[i],idfs_full) for i in amazon_rec2tok}\n",
    "google_norm={i:norm(google_weights[i]) for i in google_weights}\n",
    "amazon_norm={i:norm(amazon_weights[i]) for i in amazon_weights}"
   ]
  },
  {
   "cell_type": "code",
   "execution_count": 8,
   "metadata": {},
   "outputs": [],
   "source": [
    "def buildSim(Id,weight,norm,weights,norms,inv,sims):\n",
    "    #weights : Id->token->weight\n",
    "    #norms : Id->norm\n",
    "    for i in weight:\n",
    "        if i in inv:\n",
    "            for j in inv[i]:\n",
    "                if not (j,Id) in sims: \n",
    "                    sims[(j,Id)]=dotprod(weight,weights[j])/norm/norms[j]"
   ]
  },
  {
   "cell_type": "code",
   "execution_count": 10,
   "metadata": {},
   "outputs": [
    {
     "name": "stdout",
     "output_type": "stream",
     "text": [
      "googleweights is type:  <type 'dict'>\n"
     ]
    }
   ],
   "source": [
    "sims={}\n",
    "for i in google_weights:\n",
    "    buildSim(i,google_weights[i],google_norm[i],amazon_weights,\n",
    "             amazon_norm,amazon_inv,sims)\n",
    "type(sims)\n",
    "\n",
    "print \"googleweights is type: \" ,type(google_weights)"
   ]
  },
  {
   "cell_type": "raw",
   "metadata": {},
   "source": [
    "print type(sims)\n",
    "\n",
    "print \"google_weights is type: \" ,type(google_weights)\n",
    "for i in google_weights:\n",
    "    print google_weights[i] \n",
    "    \n",
    "<type 'dict'>\n",
    "google_weights is type:  <type 'dict'>\n",
    "{'en': 79.73166023166023, 'win': 1.2694578040322724, 'ca': 53.15444015444016, 'computer': 1.355851012302625, 'market': 14.251552795031056, 'users': 2.025516933380368, '24': 7.226506994799679, 'resellers': 62.013513513513516, 'spending': 24.11636636636637, 'opportunity': 25.04391891891892, 'ships': 41.69469185094185, 'desktop': 4.439271924986211, '1': 0.8757591222867759, '5': 2.4319024907260203, "
   ]
  },
  {
   "cell_type": "code",
   "execution_count": null,
   "metadata": {
    "collapsed": true
   },
   "outputs": [],
   "source": []
  },
  {
   "cell_type": "code",
   "execution_count": 17,
   "metadata": {},
   "outputs": [
    {
     "name": "stdout",
     "output_type": "stream",
     "text": [
      "2441100\n"
     ]
    }
   ],
   "source": [
    "print len(sims)# Should be 2441100"
   ]
  },
  {
   "cell_type": "code",
   "execution_count": 18,
   "metadata": {},
   "outputs": [],
   "source": [
    "true_dup_sims = []\n",
    "def truepos(threshold):\n",
    "    global true_dup_sims\n",
    "    true_dup_sims=[]\n",
    "    for i in sims:\n",
    "        if sims[i]>threshold: \n",
    "            true_dup_sims.append(i)\n",
    "def bin(similarity):\n",
    "    return int(similarity * nthresholds)\n",
    "\n",
    "# TODO Implement this\n",
    "def falsepos(threshold):\n",
    "    ans=0\n",
    "    for i in true_dup_sims:\n",
    "        if not i in perfectMap: ans+=1\n",
    "    return ans\n",
    "\n",
    "\n",
    "# TODO Implement this (returns a float)\n",
    "def precision(threshold):\n",
    "    truepos(threshold)\n",
    "    a=len(true_dup_sims)-falsepos(threshold)\n",
    "    b=len(true_dup_sims)\n",
    "    return a*1.0/b"
   ]
  },
  {
   "cell_type": "code",
   "execution_count": 19,
   "metadata": {},
   "outputs": [],
   "source": [
    "nthresholds=100\n",
    "thresholds = [float(n) / nthresholds for n in range(2, nthresholds)]\n",
    "p=[precision(n) for n in thresholds]"
   ]
  },
  {
   "cell_type": "code",
   "execution_count": 20,
   "metadata": {},
   "outputs": [
    {
     "name": "stdout",
     "output_type": "stream",
     "text": [
      "Populating the interactive namespace from numpy and matplotlib\n",
      "最大准确率阈值 0.93\n",
      "最大准确率： 0.643835616438\n"
     ]
    },
    {
     "name": "stderr",
     "output_type": "stream",
     "text": [
      "/home/bill/.local/lib/python2.7/site-packages/IPython/core/magics/pylab.py:161: UserWarning: pylab import has clobbered these variables: ['norm']\n",
      "`%matplotlib` prevents importing * from pylab and numpy\n",
      "  \"\\n`%matplotlib` prevents importing * from pylab and numpy\"\n"
     ]
    },
    {
     "data": {
      "image/png": "[encoded data removed]",
      "text/plain": [
       "<matplotlib.figure.Figure at 0x7f41bfce1310>"
      ]
     },
     "metadata": {},
     "output_type": "display_data"
    }
   ],
   "source": [
    "%pylab inline\n",
    "plt.plot(thresholds,p)\n",
    "for i in range(0,98):\n",
    "    if p[i]==max(p): print \"最大准确率阈值\",thresholds[i]\n",
    "    \n",
    "print \"最大准确率：\",max(p)"
   ]
  },
  {
   "cell_type": "code",
   "execution_count": null,
   "metadata": {
    "collapsed": true
   },
   "outputs": [],
   "source": []
  }
 ],
 "metadata": {
  "celltoolbar": "Slideshow",
  "kernelspec": {
   "display_name": "Python 3",
   "language": "python",
   "name": "python3"
  },
  "language_info": {
   "codemirror_mode": {
    "name": "ipython",
    "version": 3
   },
   "file_extension": ".py",
   "mimetype": "text/x-python",
   "name": "python",
   "nbconvert_exporter": "python",
   "pygments_lexer": "ipython3",
   "version": "3.7.1"
  },
  "toc": {
   "base_numbering": 1,
   "nav_menu": {},
   "number_sections": true,
   "sideBar": true,
   "skip_h1_title": false,
   "title_cell": "Table of Contents",
   "title_sidebar": "Contents",
   "toc_cell": false,
   "toc_position": {},
   "toc_section_display": true,
   "toc_window_display": false
  },
  "varInspector": {
   "cols": {
    "lenName": 16,
    "lenType": 16,
    "lenVar": 40
   },
   "kernels_config": {
    "python": {
     "delete_cmd_postfix": "",
     "delete_cmd_prefix": "del ",
     "library": "var_list.py",
     "varRefreshCmd": "print(var_dic_list())"
    },
    "r": {
     "delete_cmd_postfix": ") ",
     "delete_cmd_prefix": "rm(",
     "library": "var_list.r",
     "varRefreshCmd": "cat(var_dic_list()) "
    }
   },
   "types_to_exclude": [
    "module",
    "function",
    "builtin_function_or_method",
    "instance",
    "_Feature"
   ],
   "window_display": false
  }
 },
 "nbformat": 4,
 "nbformat_minor": 1
}
